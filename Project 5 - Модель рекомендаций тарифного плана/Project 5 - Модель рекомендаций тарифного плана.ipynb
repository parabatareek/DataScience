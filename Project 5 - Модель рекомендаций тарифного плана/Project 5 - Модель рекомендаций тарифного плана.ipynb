{
 "cells": [
  {
   "cell_type": "markdown",
   "metadata": {},
   "source": [
    "# Содержание #\n",
    "<div>\n",
    "    <ol>\n",
    "        <li>\n",
    "            <a href=\"#lib_import\">Импорт библиотек</a>\n",
    "        </li>\n",
    "        <li>\n",
    "            <a href=\"#data\">Данные</a>\n",
    "        </li>\n",
    "        <ul>\n",
    "            <li>\n",
    "                <a href=\"#data_plot\">Влияние данных на целевой параметр</a>\n",
    "            </li>\n",
    "        </ul>\n",
    "        <li>\n",
    "            <a href=\"#prepare\">Подготовка данных</a>\n",
    "        </li>\n",
    "        <ul>\n",
    "            <li>\n",
    "                <a href=\"#prepare_split\">Деление данных на признаки, результаты</a>\n",
    "            </li>\n",
    "            <li>\n",
    "                <a href=\"#prepare_train\">Выделение обучающего набора</a>\n",
    "            </li>\n",
    "            <li>\n",
    "                <a href=\"#prepare_valid_test\">Выделение тестового/валидационного набора</a>\n",
    "            </li>\n",
    "        </ul>\n",
    "        <li>\n",
    "            <a href=\"#models\">Исследование моделей</a>\n",
    "        </li>\n",
    "        <ul>\n",
    "            <li>\n",
    "                <a href=\"#models_decision_tree_hyper\">Подбор гиперпараметров DecisionTreeClassifier</a>\n",
    "            </li>\n",
    "            <li>\n",
    "                <a href=\"#models_rand_forest_hyper\">Подбор гиперпараметров RandomForestClassifier</a>\n",
    "            </li>\n",
    "            <li>\n",
    "                <a href=\"#models_log_regress_hyper\">Подбор гиперпараметров LogisticRegression</a>\n",
    "            </li>\n",
    "            <li>\n",
    "                <a href=\"#models_train_&_valid\">Объединение обучающей и валидационной выборки</a>\n",
    "            </li>\n",
    "            <li>\n",
    "                <a href=\"#models_fit\">Обучение моделей \"Дерево решений\", \"Случайный лес\"</a>\n",
    "            </li>\n",
    "            <li>\n",
    "                <a href=\"#models_score\">Оценка качества моделей</a>\n",
    "            </li>\n",
    "            <li>\n",
    "                <a href=\"#models_dummy_score\">Проверка качества константной моделью</a>\n",
    "            </li>\n",
    "        </ul>\n",
    "        <li>\n",
    "            <a href=\"#output\">Вывод</a>\n",
    "        </li>\n",
    "    </ol>\n",
    "</div>"
   ]
  },
  {
   "cell_type": "markdown",
   "metadata": {},
   "source": [
    "<a id=\"lib_import\"></a>\n",
    "## Импорт библиотек ##"
   ]
  },
  {
   "cell_type": "code",
   "execution_count": 1,
   "metadata": {
    "pycharm": {
     "name": "#%%\n"
    }
   },
   "outputs": [],
   "source": [
    "import pandas as pd\n",
    "import seaborn as sns\n",
    "\n",
    "from sklearn.metrics import accuracy_score\n",
    "from sklearn.model_selection import train_test_split\n",
    "from sklearn.dummy import DummyClassifier\n",
    "from sklearn.tree import DecisionTreeClassifier\n",
    "from sklearn.ensemble import RandomForestClassifier\n",
    "from sklearn.linear_model import LogisticRegression"
   ]
  },
  {
   "cell_type": "markdown",
   "metadata": {},
   "source": [
    "<a id=\"data\"></a>\n",
    "# Данные #"
   ]
  },
  {
   "cell_type": "code",
   "execution_count": 2,
   "metadata": {},
   "outputs": [
    {
     "data": {
      "text/html": [
       "<div>\n",
       "<style scoped>\n",
       "    .dataframe tbody tr th:only-of-type {\n",
       "        vertical-align: middle;\n",
       "    }\n",
       "\n",
       "    .dataframe tbody tr th {\n",
       "        vertical-align: top;\n",
       "    }\n",
       "\n",
       "    .dataframe thead th {\n",
       "        text-align: right;\n",
       "    }\n",
       "</style>\n",
       "<table border=\"1\" class=\"dataframe\">\n",
       "  <thead>\n",
       "    <tr style=\"text-align: right;\">\n",
       "      <th></th>\n",
       "      <th>calls</th>\n",
       "      <th>minutes</th>\n",
       "      <th>messages</th>\n",
       "      <th>mb_used</th>\n",
       "      <th>is_ultra</th>\n",
       "    </tr>\n",
       "  </thead>\n",
       "  <tbody>\n",
       "    <tr>\n",
       "      <td>0</td>\n",
       "      <td>40.0</td>\n",
       "      <td>311.90</td>\n",
       "      <td>83.0</td>\n",
       "      <td>19915.42</td>\n",
       "      <td>0</td>\n",
       "    </tr>\n",
       "    <tr>\n",
       "      <td>1</td>\n",
       "      <td>85.0</td>\n",
       "      <td>516.75</td>\n",
       "      <td>56.0</td>\n",
       "      <td>22696.96</td>\n",
       "      <td>0</td>\n",
       "    </tr>\n",
       "    <tr>\n",
       "      <td>2</td>\n",
       "      <td>77.0</td>\n",
       "      <td>467.66</td>\n",
       "      <td>86.0</td>\n",
       "      <td>21060.45</td>\n",
       "      <td>0</td>\n",
       "    </tr>\n",
       "    <tr>\n",
       "      <td>3</td>\n",
       "      <td>106.0</td>\n",
       "      <td>745.53</td>\n",
       "      <td>81.0</td>\n",
       "      <td>8437.39</td>\n",
       "      <td>1</td>\n",
       "    </tr>\n",
       "    <tr>\n",
       "      <td>4</td>\n",
       "      <td>66.0</td>\n",
       "      <td>418.74</td>\n",
       "      <td>1.0</td>\n",
       "      <td>14502.75</td>\n",
       "      <td>0</td>\n",
       "    </tr>\n",
       "    <tr>\n",
       "      <td>...</td>\n",
       "      <td>...</td>\n",
       "      <td>...</td>\n",
       "      <td>...</td>\n",
       "      <td>...</td>\n",
       "      <td>...</td>\n",
       "    </tr>\n",
       "    <tr>\n",
       "      <td>3209</td>\n",
       "      <td>122.0</td>\n",
       "      <td>910.98</td>\n",
       "      <td>20.0</td>\n",
       "      <td>35124.90</td>\n",
       "      <td>1</td>\n",
       "    </tr>\n",
       "    <tr>\n",
       "      <td>3210</td>\n",
       "      <td>25.0</td>\n",
       "      <td>190.36</td>\n",
       "      <td>0.0</td>\n",
       "      <td>3275.61</td>\n",
       "      <td>0</td>\n",
       "    </tr>\n",
       "    <tr>\n",
       "      <td>3211</td>\n",
       "      <td>97.0</td>\n",
       "      <td>634.44</td>\n",
       "      <td>70.0</td>\n",
       "      <td>13974.06</td>\n",
       "      <td>0</td>\n",
       "    </tr>\n",
       "    <tr>\n",
       "      <td>3212</td>\n",
       "      <td>64.0</td>\n",
       "      <td>462.32</td>\n",
       "      <td>90.0</td>\n",
       "      <td>31239.78</td>\n",
       "      <td>0</td>\n",
       "    </tr>\n",
       "    <tr>\n",
       "      <td>3213</td>\n",
       "      <td>80.0</td>\n",
       "      <td>566.09</td>\n",
       "      <td>6.0</td>\n",
       "      <td>29480.52</td>\n",
       "      <td>1</td>\n",
       "    </tr>\n",
       "  </tbody>\n",
       "</table>\n",
       "<p>3214 rows × 5 columns</p>\n",
       "</div>"
      ],
      "text/plain": [
       "      calls  minutes  messages   mb_used  is_ultra\n",
       "0      40.0   311.90      83.0  19915.42         0\n",
       "1      85.0   516.75      56.0  22696.96         0\n",
       "2      77.0   467.66      86.0  21060.45         0\n",
       "3     106.0   745.53      81.0   8437.39         1\n",
       "4      66.0   418.74       1.0  14502.75         0\n",
       "...     ...      ...       ...       ...       ...\n",
       "3209  122.0   910.98      20.0  35124.90         1\n",
       "3210   25.0   190.36       0.0   3275.61         0\n",
       "3211   97.0   634.44      70.0  13974.06         0\n",
       "3212   64.0   462.32      90.0  31239.78         0\n",
       "3213   80.0   566.09       6.0  29480.52         1\n",
       "\n",
       "[3214 rows x 5 columns]"
      ]
     },
     "execution_count": 2,
     "metadata": {},
     "output_type": "execute_result"
    }
   ],
   "source": [
    "df = pd.read_csv('/datasets/users_behavior.csv')\n",
    "df"
   ]
  },
  {
   "cell_type": "markdown",
   "metadata": {},
   "source": [
    "<div class=\"alert alert-warning\">\n",
    "<font size=\"5\"><b>Комментарий ревьюера</b></font>\n",
    "\n",
    "Предобработка данных не требуется, соглашусь. В принципе, только параметр числа звонков можно перевести в целочисленный тип. А вот знакомство с данными стоит выполнять в полном объеме. Важно изучить корреляции в данных. Так мы можем оценить взаимосвязи в данных и влияние параметров на целевой признак. Рекомендую посмотреть метод sns.pairplot с параметром hue, в который мы передаем целевой признак. Будет здорово, если ты сможешь это реализовать. \n",
    "\n",
    "</div>"
   ]
  },
  {
   "cell_type": "markdown",
   "metadata": {},
   "source": [
    "<div class=\"alert alert-info\">\n",
    "<font size=\"5\"><b>Комментарий студента</b></font>\n",
    "    Добавил.\n",
    "</div>"
   ]
  },
  {
   "cell_type": "markdown",
   "metadata": {},
   "source": [
    "<a id=\"data_plot\"></a>\n",
    "## Влияние данных на целевой параметр ##"
   ]
  },
  {
   "cell_type": "code",
   "execution_count": 3,
   "metadata": {},
   "outputs": [
    {
     "data": {
      "text/plain": [
       "<seaborn.axisgrid.PairGrid at 0x7fb920727590>"
      ]
     },
     "execution_count": 3,
     "metadata": {},
     "output_type": "execute_result"
    },
    {
     "data": {
      "image/png": "[encoded data removed]",
      "text/plain": [
       "<Figure size 584.5x540 with 12 Axes>"
      ]
     },
     "metadata": {
      "needs_background": "light"
     },
     "output_type": "display_data"
    }
   ],
   "source": [
    "sns.pairplot(data=df, \n",
    "             hue='is_ultra',\n",
    "             vars=['minutes', 'messages', 'mb_used'])"
   ]
  },
  {
   "cell_type": "markdown",
   "metadata": {},
   "source": [
    "### Результат ###\n",
    "* исключить столбец df['calls'], т.к. количество звонков не влияет на объемы потребленной абонентом услуги."
   ]
  },
  {
   "cell_type": "markdown",
   "metadata": {},
   "source": [
    "<a id='prepare'></a>\n",
    "# Подготовка данных #"
   ]
  },
  {
   "cell_type": "markdown",
   "source": [
    "<a id='prepare_split'></a>\n",
    "## Деление данных на признаки, результаты ##"
   ],
   "metadata": {
    "collapsed": false,
    "pycharm": {
     "name": "#%% md\n"
    }
   }
  },
  {
   "cell_type": "code",
   "execution_count": 4,
   "metadata": {},
   "outputs": [
    {
     "name": "stdout",
     "output_type": "stream",
     "text": [
      "(3214, 3)\n",
      "(3214,)\n"
     ]
    }
   ],
   "source": [
    "features = df.drop(columns=['is_ultra', 'calls'])\n",
    "target = df.is_ultra\n",
    "print(features.shape)\n",
    "print(target.shape)"
   ]
  },
  {
   "cell_type": "markdown",
   "metadata": {},
   "source": [
    "<a id='prepare_train'></a>\n",
    "## Выделение обучающего набора ##"
   ]
  },
  {
   "cell_type": "code",
   "execution_count": 5,
   "metadata": {},
   "outputs": [],
   "source": [
    "features_train, features_test, target_train, target_test = train_test_split(features, \n",
    "                                                                            target, \n",
    "                                                                            train_size=0.6, \n",
    "                                                                            random_state=12345,\n",
    "                                                                            stratify=target)"
   ]
  },
  {
   "cell_type": "markdown",
   "metadata": {},
   "source": [
    "<a id='prepare_valid_test'></a>\n",
    "## Выделение тестового/валидационного набора ##"
   ]
  },
  {
   "cell_type": "code",
   "execution_count": 6,
   "metadata": {
    "pycharm": {
     "name": "#%%\n"
    }
   },
   "outputs": [],
   "source": [
    "# Выделение тестового и валидационного набора данных\n",
    "features_test, features_valid, target_test, target_valid = train_test_split(features_test, \n",
    "                                                                            target_test, \n",
    "                                                                            test_size=0.5, \n",
    "                                                                            random_state=12345,\n",
    "                                                                            stratify=target_test)"
   ]
  },
  {
   "cell_type": "code",
   "execution_count": null,
   "outputs": [],
   "source": [
    "print(df.shape)\n",
    "print(features_train.shape)\n",
    "print(features_test.shape)\n",
    "print(features_valid.shape)\n"
   ],
   "metadata": {
    "collapsed": false,
    "pycharm": {
     "name": "#%%\n"
    }
   }
  },
  {
   "cell_type": "markdown",
   "metadata": {},
   "source": [
    "<a id='models'></a>\n",
    "# Исследование моделей #"
   ]
  },
  {
   "cell_type": "markdown",
   "metadata": {},
   "source": [
    "<a id='models_decision_tree_hyper'></a>\n",
    "## Подбор гиперпараметров DecisionTreeClassifier ##"
   ]
  },
  {
   "cell_type": "code",
   "execution_count": 8,
   "metadata": {
    "pycharm": {
     "name": "#%%\n"
    }
   },
   "outputs": [
    {
     "name": "stdout",
     "output_type": "stream",
     "text": [
      "Accuracy наилучшей модели на валидационной выборке:0.8009331259720062\n",
      "Accuracy наилучшей модели на обучающей выборке:0.8781120331950207\n",
      "Глубина дерева:10 \n"
     ]
    }
   ],
   "source": [
    "dec_tree_best_model = None\n",
    "dec_tree_best_result = 0\n",
    "dec_tree_depth = 0\n",
    "for depth in range(1,51):\n",
    "    model = DecisionTreeClassifier(max_depth=depth, random_state=12345)\n",
    "    model.fit(features_train, target_train)\n",
    "    result = model.score(features_valid, target_valid)\n",
    "\n",
    "    if result > dec_tree_best_result:\n",
    "        dec_tree_best_model = model\n",
    "        dec_tree_best_result = result\n",
    "        dec_tree_depth = depth\n",
    "\n",
    "train_predict = dec_tree_best_model.predict(features_train)\n",
    "train_accuracy = accuracy_score(target_train, train_predict)\n",
    "\n",
    "print(f\"\"\"Accuracy наилучшей модели на валидационной выборке:{dec_tree_best_result}\n",
    "Accuracy наилучшей модели на обучающей выборке:{train_accuracy}\n",
    "Глубина дерева:{dec_tree_depth} \"\"\")"
   ]
  },
  {
   "cell_type": "markdown",
   "metadata": {},
   "source": [
    "<a id='models_rand_forest_hyper'></a>\n",
    "## Подбор гиперпараметров RandomForestClassifier ##"
   ]
  },
  {
   "cell_type": "code",
   "execution_count": 9,
   "metadata": {
    "pycharm": {
     "name": "#%%\n"
    }
   },
   "outputs": [
    {
     "name": "stdout",
     "output_type": "stream",
     "text": [
      "Accuracy наилучшей модели на валидационной выборке: 0.8367029548989113\n",
      "Accuracy наилучшей модели на обучающей выборке: 0.9242738589211619\n",
      "Глубина деревьев: 13\n",
      "Количество деревьев: 50\n"
     ]
    }
   ],
   "source": [
    "rand_forest_best_model = None\n",
    "rand_forest_best_result = 0\n",
    "rand_forest_depth = 0\n",
    "rand_forest_est = 0\n",
    "\n",
    "for est in range(10,51,10):\n",
    "    for depth in range(1,51):\n",
    "        model = RandomForestClassifier(max_depth=depth, n_estimators=est, random_state=12345)\n",
    "        model.fit(features_train, target_train)\n",
    "        result = model.score(features_valid, target_valid)\n",
    "\n",
    "        if result > rand_forest_best_result:\n",
    "            rand_forest_best_model = model\n",
    "            rand_forest_best_result = result\n",
    "            rand_forest_depth = depth\n",
    "            rand_forest_est = est\n",
    "\n",
    "train_predict = rand_forest_best_model.predict(features_train)\n",
    "train_accuracy = accuracy_score(target_train, train_predict)\n",
    "print(f\"\"\"Accuracy наилучшей модели на валидационной выборке: {rand_forest_best_result}\n",
    "Accuracy наилучшей модели на обучающей выборке: {train_accuracy}\n",
    "Глубина деревьев: {rand_forest_depth}\n",
    "Количество деревьев: {rand_forest_est}\"\"\")"
   ]
  },
  {
   "cell_type": "markdown",
   "metadata": {
    "pycharm": {
     "name": "#%% md\n"
    }
   },
   "source": [
    "<a id='models_log_regress_hyper'></a>\n",
    "## Подбор гиперпараметров LogisticRegression ##"
   ]
  },
  {
   "cell_type": "code",
   "execution_count": 10,
   "metadata": {
    "pycharm": {
     "name": "#%%\n"
    }
   },
   "outputs": [
    {
     "name": "stdout",
     "output_type": "stream",
     "text": [
      "Accuracy модели на валидационной выборке: 0.6267496111975117\n"
     ]
    }
   ],
   "source": [
    "log_regress_model = LogisticRegression(class_weight='balanced', random_state=12345, solver='liblinear')\n",
    "log_regress_model.fit(features_train, target_train)\n",
    "log_regress_result = log_regress_model.score(features_valid, target_valid)\n",
    "print(f\"Accuracy модели на валидационной выборке: {log_regress_result}\")"
   ]
  },
  {
   "cell_type": "markdown",
   "metadata": {
    "pycharm": {
     "name": "#%% md\n"
    }
   },
   "source": [
    "<a id='models_train_&_valid'></a>\n",
    "## Объединение обучающей и валидационной выборки ##"
   ]
  },
  {
   "cell_type": "code",
   "execution_count": 11,
   "metadata": {
    "pycharm": {
     "name": "#%%\n"
    }
   },
   "outputs": [
    {
     "name": "stdout",
     "output_type": "stream",
     "text": [
      "(2571, 3)\n",
      "(2571,)\n"
     ]
    }
   ],
   "source": [
    "features_test_fit = features_train.append(features_valid)\n",
    "target_test_fit = target_train.append(target_valid)\n",
    "print(features_test_fit.shape)\n",
    "print(target_test_fit.shape)"
   ]
  },
  {
   "cell_type": "markdown",
   "metadata": {
    "pycharm": {
     "name": "#%% md\n"
    }
   },
   "source": [
    "<a id='models_fit'></a>\n",
    "## Обучение моделей \"Дерево решений\", \"Случайный лес\" ##"
   ]
  },
  {
   "cell_type": "code",
   "execution_count": 12,
   "metadata": {
    "pycharm": {
     "name": "#%%\n"
    }
   },
   "outputs": [
    {
     "data": {
      "text/plain": [
       "RandomForestClassifier(bootstrap=True, class_weight=None, criterion='gini',\n",
       "                       max_depth=13, max_features='auto', max_leaf_nodes=None,\n",
       "                       min_impurity_decrease=0.0, min_impurity_split=None,\n",
       "                       min_samples_leaf=1, min_samples_split=2,\n",
       "                       min_weight_fraction_leaf=0.0, n_estimators=50,\n",
       "                       n_jobs=None, oob_score=False, random_state=12345,\n",
       "                       verbose=0, warm_start=False)"
      ]
     },
     "execution_count": 12,
     "metadata": {},
     "output_type": "execute_result"
    }
   ],
   "source": [
    "dec_tree_best_model.fit(features_test_fit, target_test_fit)\n",
    "rand_forest_best_model.fit(features_test_fit, target_test_fit)"
   ]
  },
  {
   "cell_type": "markdown",
   "metadata": {},
   "source": [
    "<a id='models_score'></a>\n",
    "## Оценка качества моделей ##"
   ]
  },
  {
   "cell_type": "code",
   "execution_count": 13,
   "metadata": {
    "pycharm": {
     "name": "#%%\n"
    }
   },
   "outputs": [
    {
     "name": "stdout",
     "output_type": "stream",
     "text": [
      "Accuracy модели \"Дерево решений\" на тестовой выборке: 0.7962674961119751\n",
      "Accuracy модели \"Случайный лес\" на тестовой выборке: 0.8180404354587869\n"
     ]
    }
   ],
   "source": [
    "dec_tree_test_result = dec_tree_best_model.score(features_test, target_test)\n",
    "print(f'Accuracy модели \"Дерево решений\" на тестовой выборке: {dec_tree_test_result}')\n",
    "\n",
    "rand_forest_test_result = rand_forest_best_model.score(features_test, target_test)\n",
    "print(f'Accuracy модели \"Случайный лес\" на тестовой выборке: {rand_forest_test_result}')"
   ]
  },
  {
   "cell_type": "markdown",
   "metadata": {
    "pycharm": {
     "name": "#%% md\n"
    }
   },
   "source": [
    "<a id='models_dummy_score'></a>\n",
    "## Проверка качества константной моделью ##"
   ]
  },
  {
   "cell_type": "code",
   "execution_count": 15,
   "metadata": {
    "pycharm": {
     "name": "#%%\n"
    }
   },
   "outputs": [
    {
     "name": "stdout",
     "output_type": "stream",
     "text": [
      "Accuracy модели \"DummyClassifier\" на валидационной выборке: 0.5567651632970451\n",
      "Accuracy модели \"DummyClassifier\" на тестовой выборке: 0.5598755832037325\n"
     ]
    }
   ],
   "source": [
    "model = DummyClassifier(random_state=12345)\n",
    "model.fit(features_train, target_train)\n",
    "dummy_score_valid = model.score(features_valid, target_valid)\n",
    "model.fit(features_test_fit, target_test_fit)\n",
    "dummy_score_test = model.score(features_test, target_test)\n",
    "print(f\"\"\"Accuracy модели \"DummyClassifier\" на валидационной выборке: {dummy_score_valid}\n",
    "Accuracy модели \"DummyClassifier\" на тестовой выборке: {dummy_score_test}\"\"\")"
   ]
  },
  {
   "cell_type": "markdown",
   "metadata": {
    "pycharm": {
     "name": "#%% md\n"
    }
   },
   "source": [
    "<a id='output'></a>\n",
    "# Вывод #\n",
    "Из 3 исследованных моделей, наивысшую точность предсказаний показала модель \"Случайный лес\".\n",
    "Точность предсказаний относительно модели \"Дерево решений\" выше всего на 2%.\n",
    "Учитывая что скорость работы модели \"Случайный лес\", ниже модели \"Дерево решений\", для решения поставленной задачи целесообразно использовать модель \"Дерево решений\".\n",
    "Модель \"Логистическая регерессия\" исключена из рассмотрения, по причине низкой точности предсказаний = 62.7%.\n",
    "Точность модели \"Логистическая регрессия\" не удовлетворяет условиям задачи."
   ]
  }
 ],
 "metadata": {
  "ExecuteTimeLog": [
   {
    "duration": 1996,
    "start_time": "2021-06-21T13:45:28.783Z"
   },
   {
    "duration": 62,
    "start_time": "2021-06-21T13:45:30.783Z"
   },
   {
    "duration": 11,
    "start_time": "2021-06-21T13:45:30.850Z"
   },
   {
    "duration": 26,
    "start_time": "2021-06-21T13:45:30.865Z"
   },
   {
    "duration": 810,
    "start_time": "2021-06-21T13:45:30.894Z"
   },
   {
    "duration": 89,
    "start_time": "2021-06-21T14:21:25.582Z"
   },
   {
    "duration": 1992,
    "start_time": "2021-06-21T14:27:22.209Z"
   },
   {
    "duration": 51,
    "start_time": "2021-06-21T14:27:29.704Z"
   },
   {
    "duration": 513,
    "start_time": "2021-06-21T14:27:35.027Z"
   },
   {
    "duration": 271,
    "start_time": "2021-06-21T14:28:08.936Z"
   },
   {
    "duration": 17495,
    "start_time": "2021-06-21T14:28:15.718Z"
   },
   {
    "duration": 5652,
    "start_time": "2021-06-21T14:35:40.972Z"
   }
  ],
  "kernelspec": {
   "display_name": "Python 3",
   "language": "python",
   "name": "python3"
  },
  "language_info": {
   "codemirror_mode": {
    "name": "ipython",
    "version": 3
   },
   "file_extension": ".py",
   "mimetype": "text/x-python",
   "name": "python",
   "nbconvert_exporter": "python",
   "pygments_lexer": "ipython3",
   "version": "3.7.8"
  },
  "toc": {
   "base_numbering": 1,
   "nav_menu": {},
   "number_sections": true,
   "sideBar": true,
   "skip_h1_title": true,
   "title_cell": "Table of Contents",
   "title_sidebar": "Contents",
   "toc_cell": false,
   "toc_position": {},
   "toc_section_display": true,
   "toc_window_display": true
  }
 },
 "nbformat": 4,
 "nbformat_minor": 2
}