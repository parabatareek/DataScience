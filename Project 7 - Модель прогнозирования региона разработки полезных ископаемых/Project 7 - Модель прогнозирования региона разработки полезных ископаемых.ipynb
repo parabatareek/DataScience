{
 "cells": [
  {
   "cell_type": "markdown",
   "metadata": {
    "pycharm": {
     "name": "#%% md\n"
    }
   },
   "source": [
    "# Содержание #\n",
    "[1. Выбор локации для скважины](#project) </br> &nbsp;&nbsp;&nbsp;\n",
    "    [- Инструкция по выполнению проекта](#project_instruction) </br> &nbsp;&nbsp;&nbsp;\n",
    "    [- Описание данных](#project_data) </br> &nbsp;&nbsp;&nbsp;\n",
    "    [- Условия задачи](#project_conditions) </br>\n",
    "[2. Импорт библиотек/глобальные переменные](#import_libs) </br>\n",
    "[3. Загрузка и подготовка данных](#data) </br> &nbsp;&nbsp;&nbsp;\n",
    "    [- Загрузка данных](#data_load) </br> &nbsp;&nbsp;&nbsp;\n",
    "    [- Подготовка данных](#data_prepare) </br>\n",
    "[4. Обучение и проверка моделей](#model) </br> &nbsp;&nbsp;&nbsp;\n",
    "    [- Создание обучающих/валидационных наборов](#model_data_split) </br> &nbsp;&nbsp;&nbsp;&nbsp;&nbsp;&nbsp;\n",
    "        [* Функция создания обучающих/валидационных наборов](#function_data_split) </br> &nbsp;&nbsp;&nbsp;&nbsp;&nbsp;&nbsp;\n",
    "        [* Создание обучающих/валидационных наборов для первого региона](#model_data_split_0) </br> &nbsp;&nbsp;&nbsp;&nbsp;&nbsp;&nbsp;\n",
    "        [* Создание обучающих/валидационных наборов для второго региона](#model_data_split_1) </br> &nbsp;&nbsp;&nbsp;&nbsp;&nbsp;&nbsp;\n",
    "        [* Создание обучающих/валидационных наборов для третьего региона](#model_data_split_2) </br> &nbsp;&nbsp;&nbsp;\n",
    "    [- Обучение моделей](#model_predict) </br> &nbsp;&nbsp;&nbsp;&nbsp;&nbsp;&nbsp;\n",
    "        [* Функция обучения/предсказания моделей](#function_model_predict) </br> &nbsp;&nbsp;&nbsp;&nbsp;&nbsp;&nbsp;\n",
    "        [* Предсказание для первого региона](#model_predict_0) </br> &nbsp;&nbsp;&nbsp;&nbsp;&nbsp;&nbsp;\n",
    "        [* Предсказание для второго региона](#model_predict_1) </br> &nbsp;&nbsp;&nbsp;&nbsp;&nbsp;&nbsp;\n",
    "        [* Предсказание для третьего региона](#model_predict_2) </br> &nbsp;&nbsp;&nbsp;\n",
    "    [ - Результаты предсказаний для всех регионов](#model_predict_result) </br>\n",
    "[5. Подготовка к расчёту прибыли](#revenue_calc_prepare) </br>\n",
    "[6. Расчёт прибыли и рисков](#revenue_calc) </br> &nbsp;&nbsp;&nbsp;\n",
    "    [- Функция расчета прибыли](#function_revenue_calc) </br> &nbsp;&nbsp;&nbsp;\n",
    "    [- Функция bootstrap](#function_bootstrap) </br> &nbsp;&nbsp;&nbsp;\n",
    "    [- Распределение значений запасов сырья и прибыли для регионов](#revenue_distribution) </br> &nbsp;&nbsp;&nbsp;\n",
    "    [- Функция расчета доверительного интервала](#function_confidence_interval) </br> &nbsp;&nbsp;&nbsp;\n",
    "    [- Расчет доверительного интервала](#revenue_confidence_interval) </br> &nbsp;&nbsp;&nbsp;\n",
    "    [- Функция расчета риска разработки региона](#function_risks) </br> &nbsp;&nbsp;&nbsp;\n",
    "    [- Расчет риска разработки региона](#revenue_risks) </br> &nbsp;&nbsp;&nbsp;\n",
    "    [- Формирование итоговой таблицы](#revenue_results) </br>\n",
    "[7. Вывод](#results)"
   ]
  },
  {
   "cell_type": "markdown",
   "metadata": {},
   "source": [
    "<a id='project'></a>\n",
    "# Выбор локации для скважины"
   ]
  },
  {
   "cell_type": "markdown",
   "metadata": {
    "pycharm": {
     "name": "#%% md\n"
    }
   },
   "source": [
    "<a id='import_libs'></a>\n",
    "# Импорт библиотек/глобальные переменные #"
   ]
  },
  {
   "cell_type": "code",
   "execution_count": 1,
   "metadata": {
    "pycharm": {
     "name": "#%%\n"
    }
   },
   "outputs": [],
   "source": [
    "import pandas as pd\n",
    "from sklearn.model_selection import train_test_split\n",
    "import numpy as np\n",
    "from sklearn.linear_model import LinearRegression\n",
    "from sklearn.metrics import mean_squared_error\n",
    "from sklearn.preprocessing import StandardScaler\n",
    "from numpy import sqrt\n",
    "\n",
    "pd.options.mode.chained_assignment = None\n",
    "\n",
    "state = np.random.RandomState(2020)"
   ]
  },
  {
   "cell_type": "markdown",
   "metadata": {},
   "source": [
    "<a id='data'></a>\n",
    "# Загрузка и подготовка данных #"
   ]
  },
  {
   "cell_type": "markdown",
   "metadata": {
    "pycharm": {
     "name": "#%% md\n"
    }
   },
   "source": [
    "<a id='data_load'></a>\n",
    "## Загрузка данных ##"
   ]
  },
  {
   "cell_type": "code",
   "execution_count": 2,
   "metadata": {},
   "outputs": [],
   "source": [
    "data_0 = pd.read_csv('datasets/geo_data_0.csv')\n",
    "data_1 = pd.read_csv('datasets/geo_data_1.csv')\n",
    "data_2 = pd.read_csv('datasets/geo_data_2.csv')"
   ]
  },
  {
   "cell_type": "code",
   "execution_count": 3,
   "metadata": {
    "pycharm": {
     "name": "#%%\n"
    }
   },
   "outputs": [
    {
     "name": "stdout",
     "output_type": "stream",
     "text": [
      "##### Data_0: #####\n",
      "                      id        f0        f1        f2     product\n",
      "0      txEyH  0.705745 -0.497823  1.221170  105.280062\n",
      "1      2acmU  1.334711 -0.340164  4.365080   73.037750\n",
      "2      409Wp  1.022732  0.151990  1.419926   85.265647\n",
      "3      iJLyR -0.032172  0.139033  2.978566  168.620776\n",
      "4      Xdl7t  1.988431  0.155413  4.751769  154.036647\n",
      "...      ...       ...       ...       ...         ...\n",
      "99995  DLsed  0.971957  0.370953  6.075346  110.744026\n",
      "99996  QKivN  1.392429 -0.382606  1.273912  122.346843\n",
      "99997  3rnvd  1.029585  0.018787 -1.348308   64.375443\n",
      "99998  7kl59  0.998163 -0.528582  1.583869   74.040764\n",
      "99999  1CWhH  1.764754 -0.266417  5.722849  149.633246\n",
      "\n",
      "[100000 rows x 5 columns]\n",
      "\n",
      "##### Data_1: #####\n",
      "                      id         f0         f1        f2     product\n",
      "0      kBEdx -15.001348  -8.276000 -0.005876    3.179103\n",
      "1      62mP7  14.272088  -3.475083  0.999183   26.953261\n",
      "2      vyE1P   6.263187  -5.948386  5.001160  134.766305\n",
      "3      KcrkZ -13.081196 -11.506057  4.999415  137.945408\n",
      "4      AHL4O  12.702195  -8.147433  5.004363  134.766305\n",
      "...      ...        ...        ...       ...         ...\n",
      "99995  QywKC   9.535637  -6.878139  1.998296   53.906522\n",
      "99996  ptvty -10.160631 -12.558096  5.005581  137.945408\n",
      "99997  09gWa  -7.378891  -3.084104  4.998651  137.945408\n",
      "99998  rqwUm   0.665714  -6.152593  1.000146   30.132364\n",
      "99999  relB0  -3.426139  -7.794274 -0.003299    3.179103\n",
      "\n",
      "[100000 rows x 5 columns]\n",
      "\n",
      "##### Data_2: #####\n",
      "                      id        f0        f1        f2     product\n",
      "0      fwXo0 -1.146987  0.963328 -0.828965   27.758673\n",
      "1      WJtFt  0.262778  0.269839 -2.530187   56.069697\n",
      "2      ovLUW  0.194587  0.289035 -5.586433   62.871910\n",
      "3      q6cA6  2.236060 -0.553760  0.930038  114.572842\n",
      "4      WPMUX -0.515993  1.716266  5.899011  149.600746\n",
      "...      ...       ...       ...       ...         ...\n",
      "99995  4GxBu -1.777037  1.125220  6.263374  172.327046\n",
      "99996  YKFjq -1.261523 -0.894828  2.524545  138.748846\n",
      "99997  tKPY3 -1.199934 -2.957637  5.219411  157.080080\n",
      "99998  nmxp2 -2.419896  2.417221 -5.548444   51.795253\n",
      "99999  V9kWn -2.551421 -2.025625  6.090891  102.775767\n",
      "\n",
      "[100000 rows x 5 columns]\n",
      "\n"
     ]
    }
   ],
   "source": [
    "print(f'''##### Data_0: #####\n",
    "            {data_0}''')\n",
    "print()\n",
    "print(f'''##### Data_1: #####\n",
    "            {data_1}''')\n",
    "print()\n",
    "print(f'''##### Data_2: #####\n",
    "            {data_2}''')\n",
    "print()"
   ]
  },
  {
   "cell_type": "code",
   "execution_count": 4,
   "metadata": {
    "pycharm": {
     "name": "#%%\n"
    }
   },
   "outputs": [
    {
     "name": "stdout",
     "output_type": "stream",
     "text": [
      "<class 'pandas.core.frame.DataFrame'>\n",
      "RangeIndex: 100000 entries, 0 to 99999\n",
      "Data columns (total 5 columns):\n",
      " #   Column   Non-Null Count   Dtype  \n",
      "---  ------   --------------   -----  \n",
      " 0   id       100000 non-null  object \n",
      " 1   f0       100000 non-null  float64\n",
      " 2   f1       100000 non-null  float64\n",
      " 3   f2       100000 non-null  float64\n",
      " 4   product  100000 non-null  float64\n",
      "dtypes: float64(4), object(1)\n",
      "memory usage: 3.8+ MB\n",
      "##### Data_0 info: #####\n",
      "            None\n",
      "\n",
      "<class 'pandas.core.frame.DataFrame'>\n",
      "RangeIndex: 100000 entries, 0 to 99999\n",
      "Data columns (total 5 columns):\n",
      " #   Column   Non-Null Count   Dtype  \n",
      "---  ------   --------------   -----  \n",
      " 0   id       100000 non-null  object \n",
      " 1   f0       100000 non-null  float64\n",
      " 2   f1       100000 non-null  float64\n",
      " 3   f2       100000 non-null  float64\n",
      " 4   product  100000 non-null  float64\n",
      "dtypes: float64(4), object(1)\n",
      "memory usage: 3.8+ MB\n",
      "##### Data_1 info: #####\n",
      "            None\n",
      "\n",
      "<class 'pandas.core.frame.DataFrame'>\n",
      "RangeIndex: 100000 entries, 0 to 99999\n",
      "Data columns (total 5 columns):\n",
      " #   Column   Non-Null Count   Dtype  \n",
      "---  ------   --------------   -----  \n",
      " 0   id       100000 non-null  object \n",
      " 1   f0       100000 non-null  float64\n",
      " 2   f1       100000 non-null  float64\n",
      " 3   f2       100000 non-null  float64\n",
      " 4   product  100000 non-null  float64\n",
      "dtypes: float64(4), object(1)\n",
      "memory usage: 3.8+ MB\n",
      "##### Data_2 info: #####\n",
      "            None\n",
      "\n"
     ]
    }
   ],
   "source": [
    "print(f'''##### Data_0 info: #####\n",
    "            {data_0.info()}''')\n",
    "print()\n",
    "print(f'''##### Data_1 info: #####\n",
    "            {data_1.info()}''')\n",
    "print()\n",
    "print(f'''##### Data_2 info: #####\n",
    "            {data_2.info()}''')\n",
    "print()"
   ]
  },
  {
   "cell_type": "code",
   "execution_count": 5,
   "metadata": {
    "pycharm": {
     "name": "#%%\n"
    }
   },
   "outputs": [
    {
     "name": "stdout",
     "output_type": "stream",
     "text": [
      "##### Data_0 describe: #####\n",
      "                              f0             f1             f2        product\n",
      "count  100000.000000  100000.000000  100000.000000  100000.000000\n",
      "mean        0.500419       0.250143       2.502647      92.500000\n",
      "std         0.871832       0.504433       3.248248      44.288691\n",
      "min        -1.408605      -0.848218     -12.088328       0.000000\n",
      "25%        -0.072580      -0.200881       0.287748      56.497507\n",
      "50%         0.502360       0.250252       2.515969      91.849972\n",
      "75%         1.073581       0.700646       4.715088     128.564089\n",
      "max         2.362331       1.343769      16.003790     185.364347\n",
      "\n",
      "##### Data_1 describe: #####\n",
      "                              f0             f1             f2        product\n",
      "count  100000.000000  100000.000000  100000.000000  100000.000000\n",
      "mean        1.141296      -4.796579       2.494541      68.825000\n",
      "std         8.965932       5.119872       1.703572      45.944423\n",
      "min       -31.609576     -26.358598      -0.018144       0.000000\n",
      "25%        -6.298551      -8.267985       1.000021      26.953261\n",
      "50%         1.153055      -4.813172       2.011479      57.085625\n",
      "75%         8.621015      -1.332816       3.999904     107.813044\n",
      "max        29.421755      18.734063       5.019721     137.945408\n",
      "\n",
      "##### Data_2 describe: #####\n",
      "                              f0             f1             f2        product\n",
      "count  100000.000000  100000.000000  100000.000000  100000.000000\n",
      "mean        0.002023      -0.002081       2.495128      95.000000\n",
      "std         1.732045       1.730417       3.473445      44.749921\n",
      "min        -8.760004      -7.084020     -11.970335       0.000000\n",
      "25%        -1.162288      -1.174820       0.130359      59.450441\n",
      "50%         0.009424      -0.009482       2.484236      94.925613\n",
      "75%         1.158535       1.163678       4.858794     130.595027\n",
      "max         7.238262       7.844801      16.739402     190.029838\n",
      "\n"
     ]
    }
   ],
   "source": [
    "print(f'''##### Data_0 describe: #####\n",
    "            {data_0.describe()}''')\n",
    "print()\n",
    "print(f'''##### Data_1 describe: #####\n",
    "            {data_1.describe()}''')\n",
    "print()\n",
    "print(f'''##### Data_2 describe: #####\n",
    "            {data_2.describe()}''')\n",
    "print()"
   ]
  },
  {
   "cell_type": "markdown",
   "metadata": {
    "pycharm": {
     "name": "#%% md\n"
    }
   },
   "source": [
    "### Проверка дубликатов ###"
   ]
  },
  {
   "cell_type": "code",
   "execution_count": 6,
   "metadata": {
    "pycharm": {
     "name": "#%%\n"
    }
   },
   "outputs": [
    {
     "data": {
      "text/plain": "0"
     },
     "execution_count": 6,
     "metadata": {},
     "output_type": "execute_result"
    }
   ],
   "source": [
    "data_0.duplicated().sum()"
   ]
  },
  {
   "cell_type": "code",
   "execution_count": 7,
   "metadata": {
    "pycharm": {
     "name": "#%%\n"
    }
   },
   "outputs": [
    {
     "data": {
      "text/plain": "0"
     },
     "execution_count": 7,
     "metadata": {},
     "output_type": "execute_result"
    }
   ],
   "source": [
    "data_1.duplicated().sum()"
   ]
  },
  {
   "cell_type": "code",
   "execution_count": 8,
   "metadata": {
    "pycharm": {
     "name": "#%%\n"
    }
   },
   "outputs": [
    {
     "data": {
      "text/plain": "0"
     },
     "execution_count": 8,
     "metadata": {},
     "output_type": "execute_result"
    }
   ],
   "source": [
    "data_2.duplicated().sum()"
   ]
  },
  {
   "cell_type": "markdown",
   "metadata": {
    "pycharm": {
     "name": "#%% md\n"
    }
   },
   "source": [
    "## Вывод ##\n",
    "1. пропущенные значения отсутствуют\n",
    "2. столбцы названы корректно, переименование не требуется\n",
    "3. столбец data_*.id - для обучения не нужен\n",
    "4. features:\n",
    "    * data_*.f0\n",
    "    * data_*.f1\n",
    "    * data_*.f2\n",
    "5. target:\n",
    "    * data_*.product\n",
    "6. дубликаты в данных отсутствуют"
   ]
  },
  {
   "cell_type": "markdown",
   "metadata": {
    "pycharm": {
     "name": "#%% md\n"
    }
   },
   "source": [
    "<a id='data_prepare'></a>\n",
    "## Подготовка данных ##"
   ]
  },
  {
   "cell_type": "code",
   "execution_count": 9,
   "metadata": {
    "pycharm": {
     "name": "#%%\n"
    }
   },
   "outputs": [
    {
     "name": "stdout",
     "output_type": "stream",
     "text": [
      "<class 'pandas.core.frame.DataFrame'>\n",
      "RangeIndex: 100000 entries, 0 to 99999\n",
      "Data columns (total 3 columns):\n",
      " #   Column  Non-Null Count   Dtype  \n",
      "---  ------  --------------   -----  \n",
      " 0   f0      100000 non-null  float64\n",
      " 1   f1      100000 non-null  float64\n",
      " 2   f2      100000 non-null  float64\n",
      "dtypes: float64(3)\n",
      "memory usage: 2.3 MB\n",
      "##### Feature_0 info: #####\n",
      "            None\n",
      "\n",
      "<class 'pandas.core.frame.DataFrame'>\n",
      "RangeIndex: 100000 entries, 0 to 99999\n",
      "Data columns (total 1 columns):\n",
      " #   Column   Non-Null Count   Dtype  \n",
      "---  ------   --------------   -----  \n",
      " 0   product  100000 non-null  float64\n",
      "dtypes: float64(1)\n",
      "memory usage: 781.4 KB\n",
      "##### Target_0 info: #####\n",
      "            None\n",
      "\n"
     ]
    }
   ],
   "source": [
    "features_0 = data_0[['f0','f1','f2']]\n",
    "target_0 = data_0[['product']]\n",
    "\n",
    "print(f'''##### Feature_0 info: #####\n",
    "            {features_0.info()}''')\n",
    "print()\n",
    "print(f'''##### Target_0 info: #####\n",
    "            {target_0.info()}''')\n",
    "print()"
   ]
  },
  {
   "cell_type": "code",
   "execution_count": 10,
   "metadata": {
    "pycharm": {
     "name": "#%%\n"
    }
   },
   "outputs": [
    {
     "name": "stdout",
     "output_type": "stream",
     "text": [
      "<class 'pandas.core.frame.DataFrame'>\n",
      "RangeIndex: 100000 entries, 0 to 99999\n",
      "Data columns (total 3 columns):\n",
      " #   Column  Non-Null Count   Dtype  \n",
      "---  ------  --------------   -----  \n",
      " 0   f0      100000 non-null  float64\n",
      " 1   f1      100000 non-null  float64\n",
      " 2   f2      100000 non-null  float64\n",
      "dtypes: float64(3)\n",
      "memory usage: 2.3 MB\n",
      "##### Feature_1 info: #####\n",
      "            None\n",
      "\n",
      "<class 'pandas.core.frame.DataFrame'>\n",
      "RangeIndex: 100000 entries, 0 to 99999\n",
      "Data columns (total 1 columns):\n",
      " #   Column   Non-Null Count   Dtype  \n",
      "---  ------   --------------   -----  \n",
      " 0   product  100000 non-null  float64\n",
      "dtypes: float64(1)\n",
      "memory usage: 781.4 KB\n",
      "##### Target_1 info: #####\n",
      "            None\n",
      "\n"
     ]
    }
   ],
   "source": [
    "features_1 = data_1[['f0','f1','f2']]\n",
    "target_1 = data_1[['product']]\n",
    "print(f'''##### Feature_1 info: #####\n",
    "            {features_1.info()}''')\n",
    "print()\n",
    "print(f'''##### Target_1 info: #####\n",
    "            {target_1.info()}''')\n",
    "print()"
   ]
  },
  {
   "cell_type": "code",
   "execution_count": 11,
   "metadata": {
    "pycharm": {
     "name": "#%%\n"
    }
   },
   "outputs": [
    {
     "name": "stdout",
     "output_type": "stream",
     "text": [
      "<class 'pandas.core.frame.DataFrame'>\n",
      "RangeIndex: 100000 entries, 0 to 99999\n",
      "Data columns (total 3 columns):\n",
      " #   Column  Non-Null Count   Dtype  \n",
      "---  ------  --------------   -----  \n",
      " 0   f0      100000 non-null  float64\n",
      " 1   f1      100000 non-null  float64\n",
      " 2   f2      100000 non-null  float64\n",
      "dtypes: float64(3)\n",
      "memory usage: 2.3 MB\n",
      "##### Feature_2 info: #####\n",
      "            None\n",
      "\n",
      "<class 'pandas.core.frame.DataFrame'>\n",
      "RangeIndex: 100000 entries, 0 to 99999\n",
      "Data columns (total 1 columns):\n",
      " #   Column   Non-Null Count   Dtype  \n",
      "---  ------   --------------   -----  \n",
      " 0   product  100000 non-null  float64\n",
      "dtypes: float64(1)\n",
      "memory usage: 781.4 KB\n",
      "##### Target_2 info: #####\n",
      "            None\n",
      "\n"
     ]
    }
   ],
   "source": [
    "features_2 = data_2[['f0','f1','f2']]\n",
    "target_2 = data_2[['product']]\n",
    "print(f'''##### Feature_2 info: #####\n",
    "            {features_2.info()}''')\n",
    "print()\n",
    "print(f'''##### Target_2 info: #####\n",
    "            {target_2.info()}''')\n",
    "print()"
   ]
  },
  {
   "cell_type": "markdown",
   "metadata": {
    "pycharm": {
     "name": "#%% md\n"
    }
   },
   "source": [
    "## Вывод ##\n",
    "1. Сформированы наборы features:\n",
    "    * features_0\n",
    "    * features_1\n",
    "    * features_2\n",
    "2. Сформированы наборы target:\n",
    "    * target_0\n",
    "    * target_1\n",
    "    * target_2"
   ]
  },
  {
   "cell_type": "markdown",
   "metadata": {},
   "source": [
    "<div class=\"alert alert-block alert-success\">\n",
    "<b>Успех:</b> Данные загружены и осмотрены замечательным образом, выводы логичны\n",
    "</div>\n"
   ]
  },
  {
   "cell_type": "markdown",
   "metadata": {},
   "source": [
    "<a id='model'></a>\n",
    "# Обучение и проверка моделей #"
   ]
  },
  {
   "cell_type": "markdown",
   "metadata": {
    "pycharm": {
     "name": "#%% md\n"
    }
   },
   "source": [
    "<a id='model_data_split'></a>\n",
    "## Создание обучающих/валидационных наборов ##"
   ]
  },
  {
   "cell_type": "markdown",
   "metadata": {
    "pycharm": {
     "name": "#%% md\n"
    }
   },
   "source": [
    "<a id='function_data_split'></a>\n",
    "### Функция создания обучающих/валидационных наборов ###"
   ]
  },
  {
   "cell_type": "code",
   "execution_count": 12,
   "metadata": {
    "pycharm": {
     "name": "#%%\n"
    }
   },
   "outputs": [],
   "source": [
    "def sets_create(features, target):\n",
    "    features_train, features_valid, target_train, target_valid = train_test_split(features,\n",
    "                                                                                  target,\n",
    "                                                                                  train_size=0.75,\n",
    "                                                                                  random_state=state,\n",
    "                                                                                  shuffle=False)\n",
    "    return features_train, features_valid, target_train, target_valid"
   ]
  },
  {
   "cell_type": "markdown",
   "metadata": {
    "pycharm": {
     "name": "#%% md\n"
    }
   },
   "source": [
    "<a id='model_data_split_0'></a>\n",
    "### Создание обучающих/валидационных наборов для первого региона ###"
   ]
  },
  {
   "cell_type": "code",
   "execution_count": 13,
   "metadata": {},
   "outputs": [
    {
     "name": "stdout",
     "output_type": "stream",
     "text": [
      "##### Feature_0_train shape: #####\n",
      "            (75000, 3)\n",
      "\n",
      "##### Feature_0_valid shape: #####\n",
      "            (25000, 3)\n",
      "\n",
      "##### Target_0_train shape: #####\n",
      "            (75000, 1)\n",
      "\n",
      "##### Target_0_valid shape: #####\n",
      "            (25000, 1)\n"
     ]
    }
   ],
   "source": [
    "features_0_train, features_0_valid, target_0_train, target_0_valid = sets_create(features=features_0,\n",
    "                                                                                 target=target_0)\n",
    "print(f'''##### Feature_0_train shape: #####\n",
    "            {features_0_train.shape}''')\n",
    "print()\n",
    "print(f'''##### Feature_0_valid shape: #####\n",
    "            {features_0_valid.shape}''')\n",
    "print()\n",
    "print(f'''##### Target_0_train shape: #####\n",
    "            {target_0_train.shape}''')\n",
    "print()\n",
    "print(f'''##### Target_0_valid shape: #####\n",
    "            {target_0_valid.shape}''')"
   ]
  },
  {
   "cell_type": "markdown",
   "metadata": {
    "pycharm": {
     "name": "#%% md\n"
    }
   },
   "source": [
    "<a id='model_data_split_1'></a>\n",
    "### Создание обучающих/валидационных наборов для второго региона ###"
   ]
  },
  {
   "cell_type": "code",
   "execution_count": 14,
   "metadata": {
    "pycharm": {
     "name": "#%%\n"
    }
   },
   "outputs": [
    {
     "name": "stdout",
     "output_type": "stream",
     "text": [
      "##### Feature_1_train shape: #####\n",
      "            (75000, 3)\n",
      "\n",
      "##### Feature_1_valid shape: #####\n",
      "            (25000, 3)\n",
      "\n",
      "##### Target_1_train shape: #####\n",
      "            (75000, 1)\n",
      "\n",
      "##### Target_1_valid shape: #####\n",
      "            (25000, 1)\n"
     ]
    }
   ],
   "source": [
    "features_1_train, features_1_valid, target_1_train, target_1_valid = sets_create(features=features_1,\n",
    "                                                                                 target=target_1)\n",
    "print(f'''##### Feature_1_train shape: #####\n",
    "            {features_1_train.shape}''')\n",
    "print()\n",
    "print(f'''##### Feature_1_valid shape: #####\n",
    "            {features_1_valid.shape}''')\n",
    "print()\n",
    "print(f'''##### Target_1_train shape: #####\n",
    "            {target_1_train.shape}''')\n",
    "print()\n",
    "print(f'''##### Target_1_valid shape: #####\n",
    "            {target_1_valid.shape}''')"
   ]
  },
  {
   "cell_type": "markdown",
   "metadata": {
    "pycharm": {
     "name": "#%% md\n"
    }
   },
   "source": [
    "<a id='model_data_split_2'></a>\n",
    "### Создание обучающих/валидационных наборов для третьего региона ###"
   ]
  },
  {
   "cell_type": "code",
   "execution_count": 15,
   "metadata": {
    "pycharm": {
     "name": "#%%\n"
    }
   },
   "outputs": [
    {
     "name": "stdout",
     "output_type": "stream",
     "text": [
      "##### Feature_2_train shape: #####\n",
      "            (75000, 3)\n",
      "\n",
      "##### Feature_2_valid shape: #####\n",
      "            (25000, 3)\n",
      "\n",
      "##### Target_2_train shape: #####\n",
      "            (75000, 1)\n",
      "\n",
      "##### Target_2_valid shape: #####\n",
      "            (25000, 1)\n"
     ]
    }
   ],
   "source": [
    "features_2_train, features_2_valid, target_2_train, target_2_valid = sets_create(features=features_2,\n",
    "                                                                                 target=target_2)\n",
    "print(f'''##### Feature_2_train shape: #####\n",
    "            {features_2_train.shape}''')\n",
    "print()\n",
    "print(f'''##### Feature_2_valid shape: #####\n",
    "            {features_2_valid.shape}''')\n",
    "print()\n",
    "print(f'''##### Target_2_train shape: #####\n",
    "            {target_2_train.shape}''')\n",
    "print()\n",
    "print(f'''##### Target_2_valid shape: #####\n",
    "            {target_2_valid.shape}''')"
   ]
  },
  {
   "cell_type": "markdown",
   "metadata": {
    "pycharm": {
     "name": "#%% md\n"
    }
   },
   "source": [
    "## Вывод: ##\n",
    "1. Созданы обучающие наборы:\n",
    "    * features_0_train\n",
    "    * target_0_train\n",
    "    * features_1_train\n",
    "    * target_1_train\n",
    "    * features_2_train\n",
    "    * target_2_train\n",
    "2. Созданы валидационные наборы:\n",
    "    * features_0_valid\n",
    "    * target_0_valid\n",
    "    * features_1_valid\n",
    "    * target_1_valid\n",
    "    * features_2_valid\n",
    "    * target_2_valid"
   ]
  },
  {
   "cell_type": "markdown",
   "metadata": {
    "pycharm": {
     "name": "#%% md\n"
    }
   },
   "source": [
    "<a id='model_predict'></a>\n",
    "## Обучение моделей ##"
   ]
  },
  {
   "cell_type": "markdown",
   "metadata": {
    "pycharm": {
     "name": "#%% md\n"
    }
   },
   "source": [
    "<a id='function_model_predict'></a>\n",
    "### Функция обучения/предсказания моделей ###"
   ]
  },
  {
   "cell_type": "code",
   "execution_count": 16,
   "metadata": {
    "pycharm": {
     "name": "#%%\n"
    }
   },
   "outputs": [],
   "source": [
    "def model_predict(features_train, target_train, features_valid, target_valid):\n",
    "    scaler = StandardScaler()\n",
    "\n",
    "    scaler.fit(features_train)\n",
    "\n",
    "    features_train = scaler.transform(features_train)\n",
    "    features_valid = scaler.transform(features_valid)\n",
    "\n",
    "    model = LinearRegression()\n",
    "    model.fit(features_train, target_train)\n",
    "\n",
    "    predicted_valid = model.predict(features_valid)\n",
    "    return model.score(features_valid, target_valid), predicted_valid"
   ]
  },
  {
   "cell_type": "markdown",
   "metadata": {
    "pycharm": {
     "name": "#%% md\n"
    }
   },
   "source": [
    "<a id='model_predict_0'></a>\n",
    "### Предсказание для первого региона ###"
   ]
  },
  {
   "cell_type": "code",
   "execution_count": 17,
   "metadata": {
    "pycharm": {
     "name": "#%%\n"
    }
   },
   "outputs": [],
   "source": [
    "model_0_score, predicted_valid_0 = model_predict(features_train=features_0_train,\n",
    "                                                 target_train=target_0_train,\n",
    "                                                 features_valid=features_0_valid,\n",
    "                                                 target_valid=target_0_valid)"
   ]
  },
  {
   "cell_type": "markdown",
   "metadata": {},
   "source": [
    "<a id='model_predict_1'></a>\n",
    "### Предсказание для второго региона ###"
   ]
  },
  {
   "cell_type": "code",
   "execution_count": 18,
   "metadata": {
    "pycharm": {
     "name": "#%%\n"
    }
   },
   "outputs": [],
   "source": [
    "model_1_score, predicted_valid_1 = model_predict(features_train=features_1_train,\n",
    "                                                 target_train=target_1_train,\n",
    "                                                 features_valid=features_1_valid,\n",
    "                                                 target_valid=target_1_valid)"
   ]
  },
  {
   "cell_type": "markdown",
   "metadata": {},
   "source": [
    "<a id='model_predict_2'></a>\n",
    "### Предсказание для третьего региона ###"
   ]
  },
  {
   "cell_type": "code",
   "execution_count": 19,
   "metadata": {
    "pycharm": {
     "name": "#%%\n"
    }
   },
   "outputs": [],
   "source": [
    "model_2_score, predicted_valid_2 = model_predict(features_train=features_2_train,\n",
    "                                                 target_train=target_2_train,\n",
    "                                                 features_valid=features_2_valid,\n",
    "                                                 target_valid=target_2_valid)"
   ]
  },
  {
   "cell_type": "markdown",
   "metadata": {},
   "source": [
    "<a id='model_predict_result'></a>\n",
    "## Результаты предсказаний для всех регионов ##"
   ]
  },
  {
   "cell_type": "code",
   "execution_count": 20,
   "metadata": {
    "pycharm": {
     "name": "#%%\n"
    }
   },
   "outputs": [],
   "source": [
    "target_0_predict = pd.concat([target_0_valid.reset_index(drop=True), pd.DataFrame(predicted_valid_0)], axis=1)\n",
    "target_1_predict = pd.concat([target_1_valid.reset_index(drop=True), pd.DataFrame(predicted_valid_1)], axis=1)\n",
    "target_2_predict = pd.concat([target_2_valid.reset_index(drop=True), pd.DataFrame(predicted_valid_2)], axis=1)\n",
    "\n",
    "target_0_predict = target_0_predict.rename(columns={0:'predicted_product'})\n",
    "target_1_predict = target_1_predict.rename(columns={0:'predicted_product'})\n",
    "target_2_predict = target_1_predict.rename(columns={0:'predicted_product'})"
   ]
  },
  {
   "cell_type": "code",
   "execution_count": 21,
   "metadata": {
    "pycharm": {
     "name": "#%%\n"
    }
   },
   "outputs": [
    {
     "data": {
      "text/plain": "   real_materials_volume  predict_material_volume  \\\n0           2.310666e+06             2.314842e+06   \n1           1.723502e+06             1.723938e+06   \n2           2.372809e+06             2.381887e+06   \n\n   mean_predict_materila_volume       RMSE  R2-score  \n0                     92.593681  37.650563  0.273593  \n1                     68.957534   0.894446  0.999622  \n2                     95.275462  40.003681  0.202021  ",
      "text/html": "<div>\n<style scoped>\n    .dataframe tbody tr th:only-of-type {\n        vertical-align: middle;\n    }\n\n    .dataframe tbody tr th {\n        vertical-align: top;\n    }\n\n    .dataframe thead th {\n        text-align: right;\n    }\n</style>\n<table border=\"1\" class=\"dataframe\">\n  <thead>\n    <tr style=\"text-align: right;\">\n      <th></th>\n      <th>real_materials_volume</th>\n      <th>predict_material_volume</th>\n      <th>mean_predict_materila_volume</th>\n      <th>RMSE</th>\n      <th>R2-score</th>\n    </tr>\n  </thead>\n  <tbody>\n    <tr>\n      <th>0</th>\n      <td>2.310666e+06</td>\n      <td>2.314842e+06</td>\n      <td>92.593681</td>\n      <td>37.650563</td>\n      <td>0.273593</td>\n    </tr>\n    <tr>\n      <th>1</th>\n      <td>1.723502e+06</td>\n      <td>1.723938e+06</td>\n      <td>68.957534</td>\n      <td>0.894446</td>\n      <td>0.999622</td>\n    </tr>\n    <tr>\n      <th>2</th>\n      <td>2.372809e+06</td>\n      <td>2.381887e+06</td>\n      <td>95.275462</td>\n      <td>40.003681</td>\n      <td>0.202021</td>\n    </tr>\n  </tbody>\n</table>\n</div>"
     },
     "execution_count": 21,
     "metadata": {},
     "output_type": "execute_result"
    }
   ],
   "source": [
    "model_results = pd.DataFrame({'real_materials_volume'        :[target_0_valid['product'].sum(),\n",
    "                                                               target_1_valid['product'].sum(),\n",
    "                                                               target_2_valid['product'].sum()],\n",
    "                              'predict_material_volume'      : [predicted_valid_0.sum(),\n",
    "                                                                predicted_valid_1.sum(),\n",
    "                                                                predicted_valid_2.sum()],\n",
    "                              'mean_predict_materila_volume' : [predicted_valid_0.mean(),\n",
    "                                                                predicted_valid_1.mean(),\n",
    "                                                                predicted_valid_2.mean()],\n",
    "                              'RMSE'                         : [sqrt(mean_squared_error(target_0_valid, predicted_valid_0)),\n",
    "                                                                sqrt(mean_squared_error(target_1_valid, predicted_valid_1)),\n",
    "                                                                sqrt(mean_squared_error(target_2_valid, predicted_valid_2))],\n",
    "                              'R2-score'                     : [model_0_score,\n",
    "                                                                model_1_score,\n",
    "                                                                model_2_score]\n",
    "}\n",
    ")\n",
    "\n",
    "model_results"
   ]
  },
  {
   "cell_type": "markdown",
   "metadata": {
    "pycharm": {
     "name": "#%% md\n"
    }
   },
   "source": [
    "## Вывод ##\n",
    "1. Правильные ответы и предсказания моделей сохранены в:\n",
    "    - model_results\n",
    "2. Анализ характеристик каждого региона показал:\n",
    "    - наиболее перспектиные регионы по среднему предсказанному запасу сырья являются 1-й и 3-й регион\n",
    "    - минимальное значение RMSE получено для 2-го региона\n",
    "    - максимальное качество(коэффициент детерминации) имеет модель полученная для 2-го региона"
   ]
  },
  {
   "cell_type": "markdown",
   "metadata": {},
   "source": [
    "<a id='revenue_calc_prepare'></a>\n",
    "# Подготовка к расчёту прибыли #"
   ]
  },
  {
   "cell_type": "code",
   "execution_count": 22,
   "metadata": {},
   "outputs": [
    {
     "name": "stdout",
     "output_type": "stream",
     "text": [
      "\n",
      "Порог безубыточности скважины: 111.11111111111111 ед. сырья\n",
      "Порог безубыточности региона:  22222.222222222223 ед. сырья\n"
     ]
    }
   ],
   "source": [
    "MATERIAL_UNIT_PRICE = 10**3*450                      # доход с единицы сырья(1000 баррелей)\n",
    "INVESTMENT_SUM = 10**10                             # бюджет на разработку скважин\n",
    "HOLE_PRICE = INVESTMENT_SUM/200                      # стоимость стротельства одной скважины\n",
    "HOLE_TRESHOLD = HOLE_PRICE/MATERIAL_UNIT_PRICE       # необходимый запас сырья для безубыточности скважины\n",
    "REGION_TRESHOLD = INVESTMENT_SUM/MATERIAL_UNIT_PRICE # необходимый запас сырья для безубыточности региона\n",
    "print(f'''\n",
    "Порог безубыточности скважины: {HOLE_TRESHOLD} ед. сырья\n",
    "Порог безубыточности региона:  {REGION_TRESHOLD} ед. сырья''')"
   ]
  },
  {
   "cell_type": "markdown",
   "metadata": {
    "pycharm": {
     "name": "#%% md\n"
    }
   },
   "source": [
    "# Вывод #\n",
    "Для начала освоения региона необходимо, чтобы запасы сырья в отобранных 200 скважинах были более 22223 ед. сырья.\n",
    "Запасы сырьяя в каждой отобранной скважине должны быть более 112 ед. сырья."
   ]
  },
  {
   "cell_type": "markdown",
   "metadata": {},
   "source": [
    "<a id='revenue_calc'></a>\n",
    "# Расчёт прибыли и рисков #"
   ]
  },
  {
   "cell_type": "markdown",
   "metadata": {
    "pycharm": {
     "name": "#%% md\n"
    }
   },
   "source": [
    "<a id='function_revenue_calc'></a>\n",
    "## Функция расчета прибыли ##"
   ]
  },
  {
   "cell_type": "code",
   "execution_count": 23,
   "metadata": {
    "pycharm": {
     "name": "#%%\n"
    }
   },
   "outputs": [],
   "source": [
    "def material_sum_revenue(target, probabilities, count):\n",
    "    probs_sorted = probabilities.sort_values(ascending=False)\n",
    "    selected = target[probs_sorted.index][:count]\n",
    "    material_sum = selected.sum()\n",
    "    material_revenue = material_sum*MATERIAL_UNIT_PRICE - INVESTMENT_SUM\n",
    "    return pd.DataFrame({'material_sum':[material_sum], 'material_revenue':[material_revenue]})"
   ]
  },
  {
   "cell_type": "markdown",
   "metadata": {
    "pycharm": {
     "name": "#%% md\n"
    }
   },
   "source": [
    "<a id='function_bootstrap'></a>\n",
    "## Функция bootstrap ##"
   ]
  },
  {
   "cell_type": "code",
   "execution_count": 24,
   "metadata": {
    "pycharm": {
     "name": "#%%\n"
    }
   },
   "outputs": [],
   "source": [
    "def bootstrap(target_valid, probabilities_valid, hole_count):\n",
    "    region_boot = pd.DataFrame()\n",
    "    for i in range(1000):\n",
    "        target_subsample = target_valid.sample(n=hole_count, replace=True, random_state=state)\n",
    "        probs_subsample = probabilities_valid[target_subsample.index]\n",
    "        region_boot = region_boot.append(material_sum_revenue(target_subsample, probs_subsample, 200), ignore_index=True)\n",
    "    return  region_boot"
   ]
  },
  {
   "cell_type": "markdown",
   "metadata": {
    "pycharm": {
     "name": "#%% md\n"
    }
   },
   "source": [
    "<a id='revenue_distribution'></a>\n",
    "## Распределение значений запасов сырья и прибыли для регионов ##"
   ]
  },
  {
   "cell_type": "code",
   "execution_count": 25,
   "metadata": {
    "pycharm": {
     "name": "#%%\n"
    }
   },
   "outputs": [],
   "source": [
    "region_0_boot = bootstrap(target_valid=target_0_predict['product'],\n",
    "                          probabilities_valid=target_0_predict['predicted_product'],\n",
    "                          hole_count=500)\n",
    "\n",
    "region_1_boot = bootstrap(target_valid=target_1_predict['product'],\n",
    "                            probabilities_valid=target_1_predict['predicted_product'],\n",
    "                            hole_count=500)\n",
    "\n",
    "region_2_boot = bootstrap(target_valid=target_2_predict['product'],\n",
    "                            probabilities_valid=target_2_predict['predicted_product'],\n",
    "                            hole_count=500)"
   ]
  },
  {
   "cell_type": "code",
   "execution_count": 26,
   "metadata": {
    "pycharm": {
     "name": "#%%\n"
    }
   },
   "outputs": [
    {
     "data": {
      "text/plain": "     material_sum  material_revenue\n0    23360.146756      5.120660e+08\n1    22474.088624      1.133399e+08\n2    22179.510065     -1.922047e+07\n3    21758.135034     -2.088392e+08\n4    23968.189502      7.856853e+08\n..            ...               ...\n995  24200.388292      8.901747e+08\n996  23014.834460      3.566755e+08\n997  23820.702656      7.193162e+08\n998  22588.769489      1.649463e+08\n999  23017.951999      3.580784e+08\n\n[1000 rows x 2 columns]",
      "text/html": "<div>\n<style scoped>\n    .dataframe tbody tr th:only-of-type {\n        vertical-align: middle;\n    }\n\n    .dataframe tbody tr th {\n        vertical-align: top;\n    }\n\n    .dataframe thead th {\n        text-align: right;\n    }\n</style>\n<table border=\"1\" class=\"dataframe\">\n  <thead>\n    <tr style=\"text-align: right;\">\n      <th></th>\n      <th>material_sum</th>\n      <th>material_revenue</th>\n    </tr>\n  </thead>\n  <tbody>\n    <tr>\n      <th>0</th>\n      <td>23360.146756</td>\n      <td>5.120660e+08</td>\n    </tr>\n    <tr>\n      <th>1</th>\n      <td>22474.088624</td>\n      <td>1.133399e+08</td>\n    </tr>\n    <tr>\n      <th>2</th>\n      <td>22179.510065</td>\n      <td>-1.922047e+07</td>\n    </tr>\n    <tr>\n      <th>3</th>\n      <td>21758.135034</td>\n      <td>-2.088392e+08</td>\n    </tr>\n    <tr>\n      <th>4</th>\n      <td>23968.189502</td>\n      <td>7.856853e+08</td>\n    </tr>\n    <tr>\n      <th>...</th>\n      <td>...</td>\n      <td>...</td>\n    </tr>\n    <tr>\n      <th>995</th>\n      <td>24200.388292</td>\n      <td>8.901747e+08</td>\n    </tr>\n    <tr>\n      <th>996</th>\n      <td>23014.834460</td>\n      <td>3.566755e+08</td>\n    </tr>\n    <tr>\n      <th>997</th>\n      <td>23820.702656</td>\n      <td>7.193162e+08</td>\n    </tr>\n    <tr>\n      <th>998</th>\n      <td>22588.769489</td>\n      <td>1.649463e+08</td>\n    </tr>\n    <tr>\n      <th>999</th>\n      <td>23017.951999</td>\n      <td>3.580784e+08</td>\n    </tr>\n  </tbody>\n</table>\n<p>1000 rows × 2 columns</p>\n</div>"
     },
     "execution_count": 26,
     "metadata": {},
     "output_type": "execute_result"
    }
   ],
   "source": [
    "region_0_boot"
   ]
  },
  {
   "cell_type": "markdown",
   "metadata": {},
   "source": [
    "<a id='function_confidence_interval'></a>\n",
    "## Функция расчета доверительного интервала ##"
   ]
  },
  {
   "cell_type": "code",
   "execution_count": 27,
   "metadata": {
    "pycharm": {
     "name": "#%%\n"
    }
   },
   "outputs": [],
   "source": [
    "def get_confidence_interval(region_boot):\n",
    "    return (region_boot.material_revenue.quantile(0.025), region_boot.material_revenue.quantile(0.975))"
   ]
  },
  {
   "cell_type": "markdown",
   "metadata": {
    "pycharm": {
     "name": "#%% md\n"
    }
   },
   "source": [
    "<a id='revenue_confidence_interval'></a>\n",
    "## Расчет доверительного интервала ##"
   ]
  },
  {
   "cell_type": "code",
   "execution_count": 28,
   "metadata": {
    "pycharm": {
     "name": "#%%\n"
    }
   },
   "outputs": [],
   "source": [
    "confidence_interval_region_0 = get_confidence_interval(region_0_boot)\n",
    "confidence_interval_region_1 = get_confidence_interval(region_1_boot)\n",
    "confidence_interval_region_2 = get_confidence_interval(region_2_boot)"
   ]
  },
  {
   "cell_type": "markdown",
   "metadata": {
    "pycharm": {
     "name": "#%% md\n"
    }
   },
   "source": [
    "<a id='function_risks'></a>\n",
    "## Функция расчета риска разработки региона ##"
   ]
  },
  {
   "cell_type": "code",
   "execution_count": 29,
   "metadata": {
    "pycharm": {
     "name": "#%%\n"
    }
   },
   "outputs": [],
   "source": [
    "def risk_percent(region_boot):\n",
    "    low_treshold_count = len(region_boot.query('material_revenue <= 0'))\n",
    "    return low_treshold_count/len(region_boot) * 100\n"
   ]
  },
  {
   "cell_type": "markdown",
   "metadata": {
    "pycharm": {
     "name": "#%% md\n"
    }
   },
   "source": [
    "<a id='revenue_risks'></a>\n",
    "## Расчет риска разработки региона ##"
   ]
  },
  {
   "cell_type": "code",
   "execution_count": 30,
   "metadata": {
    "pycharm": {
     "name": "#%%\n"
    }
   },
   "outputs": [],
   "source": [
    "risk_region_0 = risk_percent(region_0_boot)\n",
    "risk_region_1 = risk_percent(region_1_boot)\n",
    "risk_region_2 = risk_percent(region_2_boot)"
   ]
  },
  {
   "cell_type": "markdown",
   "metadata": {
    "pycharm": {
     "name": "#%% md\n"
    }
   },
   "source": [
    "<a id='revenue_results'></a>\n",
    "## Формирование итоговой таблицы ##"
   ]
  },
  {
   "cell_type": "code",
   "execution_count": 31,
   "metadata": {
    "pycharm": {
     "name": "#%%\n"
    }
   },
   "outputs": [
    {
     "data": {
      "text/plain": "          Средняя прибыль региона, руб.  \\\nРегион 1                   4.358953e+08   \nРегион 2                   5.417625e+08   \nРегион 3                   5.337983e+08   \n\n                95%-й доверительный интервал, руб.  Вероятность убытков, %  \nРегион 1  (-105951189.97876148, 936297443.5804422)                     5.0  \nРегион 2    (120267392.5062757, 998014332.9608271)                     0.4  \nРегион 3   (100808174.70538989, 968727541.5222876)                     1.1  ",
      "text/html": "<div>\n<style scoped>\n    .dataframe tbody tr th:only-of-type {\n        vertical-align: middle;\n    }\n\n    .dataframe tbody tr th {\n        vertical-align: top;\n    }\n\n    .dataframe thead th {\n        text-align: right;\n    }\n</style>\n<table border=\"1\" class=\"dataframe\">\n  <thead>\n    <tr style=\"text-align: right;\">\n      <th></th>\n      <th>Средняя прибыль региона, руб.</th>\n      <th>95%-й доверительный интервал, руб.</th>\n      <th>Вероятность убытков, %</th>\n    </tr>\n  </thead>\n  <tbody>\n    <tr>\n      <th>Регион 1</th>\n      <td>4.358953e+08</td>\n      <td>(-105951189.97876148, 936297443.5804422)</td>\n      <td>5.0</td>\n    </tr>\n    <tr>\n      <th>Регион 2</th>\n      <td>5.417625e+08</td>\n      <td>(120267392.5062757, 998014332.9608271)</td>\n      <td>0.4</td>\n    </tr>\n    <tr>\n      <th>Регион 3</th>\n      <td>5.337983e+08</td>\n      <td>(100808174.70538989, 968727541.5222876)</td>\n      <td>1.1</td>\n    </tr>\n  </tbody>\n</table>\n</div>"
     },
     "execution_count": 31,
     "metadata": {},
     "output_type": "execute_result"
    }
   ],
   "source": [
    "region_final = pd.DataFrame({'Средняя прибыль региона, руб.'      : [region_0_boot.material_revenue.mean(),\n",
    "                                                                     region_1_boot.material_revenue.mean(),\n",
    "                                                                     region_2_boot.material_revenue.mean()],\n",
    "                             '95%-й доверительный интервал, руб.' : [confidence_interval_region_0,\n",
    "                                                                     confidence_interval_region_1,\n",
    "                                                                     confidence_interval_region_2],\n",
    "                             'Вероятность убытков, %'             : [risk_region_0,\n",
    "                                                                     risk_region_1,\n",
    "                                                                     risk_region_2]}, index=['Регион 1','Регион 2','Регион 3'])\n",
    "region_final"
   ]
  },
  {
   "cell_type": "markdown",
   "metadata": {
    "pycharm": {
     "name": "#%% md\n"
    }
   },
   "source": [
    "<a id='results'></a>\n",
    "# Вывод #\n",
    "1. Для разработки рекомендуется \"Регион 2\", по следующим причинам:\n",
    "    * минимальная вероятность убытков ~ 0.4%\n",
    "    * максимальная средняя прибыль из предложенных для анализа регионов"
   ]
  }
 ],
 "metadata": {
  "ExecuteTimeLog": [
   {
    "duration": 106,
    "start_time": "2021-07-22T09:45:23.701Z"
   },
   {
    "duration": 106,
    "start_time": "2021-07-22T09:45:27.016Z"
   },
   {
    "duration": 1390,
    "start_time": "2021-07-22T09:52:24.394Z"
   },
   {
    "duration": 507,
    "start_time": "2021-07-22T09:52:25.787Z"
   },
   {
    "duration": 30,
    "start_time": "2021-07-22T09:52:26.297Z"
   },
   {
    "duration": 63,
    "start_time": "2021-07-22T09:52:26.330Z"
   },
   {
    "duration": 174,
    "start_time": "2021-07-22T09:52:26.395Z"
   },
   {
    "duration": 83,
    "start_time": "2021-07-22T09:52:26.573Z"
   },
   {
    "duration": 64,
    "start_time": "2021-07-22T09:52:26.659Z"
   },
   {
    "duration": 94,
    "start_time": "2021-07-22T09:52:26.725Z"
   },
   {
    "duration": 31,
    "start_time": "2021-07-22T09:52:26.823Z"
   },
   {
    "duration": 21,
    "start_time": "2021-07-22T09:52:26.859Z"
   },
   {
    "duration": 16,
    "start_time": "2021-07-22T09:52:26.882Z"
   },
   {
    "duration": 5,
    "start_time": "2021-07-22T09:52:26.901Z"
   },
   {
    "duration": 64,
    "start_time": "2021-07-22T09:52:26.908Z"
   },
   {
    "duration": 18,
    "start_time": "2021-07-22T09:52:26.975Z"
   },
   {
    "duration": 17,
    "start_time": "2021-07-22T09:52:26.995Z"
   },
   {
    "duration": 4,
    "start_time": "2021-07-22T09:52:27.015Z"
   },
   {
    "duration": 139,
    "start_time": "2021-07-22T09:52:27.021Z"
   },
   {
    "duration": 198,
    "start_time": "2021-07-22T09:52:27.171Z"
   },
   {
    "duration": 86,
    "start_time": "2021-07-22T09:52:27.395Z"
   },
   {
    "duration": 98,
    "start_time": "2021-07-22T09:52:27.568Z"
   },
   {
    "duration": 27,
    "start_time": "2021-07-22T09:52:27.669Z"
   },
   {
    "duration": 6,
    "start_time": "2021-07-22T09:52:27.699Z"
   },
   {
    "duration": 13,
    "start_time": "2021-07-22T09:52:27.708Z"
   },
   {
    "duration": 8,
    "start_time": "2021-07-22T09:52:27.756Z"
   },
   {
    "duration": 21415,
    "start_time": "2021-07-22T09:52:27.772Z"
   },
   {
    "duration": 5,
    "start_time": "2021-07-22T09:52:49.190Z"
   },
   {
    "duration": 11,
    "start_time": "2021-07-22T09:52:49.201Z"
   },
   {
    "duration": 5,
    "start_time": "2021-07-22T09:52:49.215Z"
   },
   {
    "duration": 33,
    "start_time": "2021-07-22T09:52:49.256Z"
   },
   {
    "duration": 15,
    "start_time": "2021-07-22T09:52:49.292Z"
   },
   {
    "duration": 6,
    "start_time": "2021-07-22T09:53:00.758Z"
   },
   {
    "duration": 13,
    "start_time": "2021-07-22T09:53:01.574Z"
   },
   {
    "duration": 16,
    "start_time": "2021-07-22T09:53:02.068Z"
   },
   {
    "duration": 1348,
    "start_time": "2021-07-22T09:53:33.414Z"
   },
   {
    "duration": 463,
    "start_time": "2021-07-22T09:53:34.765Z"
   },
   {
    "duration": 31,
    "start_time": "2021-07-22T09:53:35.231Z"
   },
   {
    "duration": 48,
    "start_time": "2021-07-22T09:53:35.265Z"
   },
   {
    "duration": 136,
    "start_time": "2021-07-22T09:53:35.316Z"
   },
   {
    "duration": 75,
    "start_time": "2021-07-22T09:53:35.455Z"
   },
   {
    "duration": 74,
    "start_time": "2021-07-22T09:53:35.533Z"
   },
   {
    "duration": 87,
    "start_time": "2021-07-22T09:53:35.611Z"
   },
   {
    "duration": 16,
    "start_time": "2021-07-22T09:53:35.702Z"
   },
   {
    "duration": 42,
    "start_time": "2021-07-22T09:53:35.721Z"
   },
   {
    "duration": 15,
    "start_time": "2021-07-22T09:53:35.766Z"
   },
   {
    "duration": 6,
    "start_time": "2021-07-22T09:53:35.784Z"
   },
   {
    "duration": 20,
    "start_time": "2021-07-22T09:53:35.792Z"
   },
   {
    "duration": 51,
    "start_time": "2021-07-22T09:53:35.815Z"
   },
   {
    "duration": 18,
    "start_time": "2021-07-22T09:53:35.868Z"
   },
   {
    "duration": 5,
    "start_time": "2021-07-22T09:53:35.888Z"
   },
   {
    "duration": 63,
    "start_time": "2021-07-22T09:53:35.895Z"
   },
   {
    "duration": 200,
    "start_time": "2021-07-22T09:53:35.960Z"
   },
   {
    "duration": 194,
    "start_time": "2021-07-22T09:53:36.167Z"
   },
   {
    "duration": 101,
    "start_time": "2021-07-22T09:53:36.454Z"
   },
   {
    "duration": 24,
    "start_time": "2021-07-22T09:53:36.557Z"
   },
   {
    "duration": 5,
    "start_time": "2021-07-22T09:53:36.583Z"
   },
   {
    "duration": 8,
    "start_time": "2021-07-22T09:53:36.593Z"
   },
   {
    "duration": 16,
    "start_time": "2021-07-22T09:53:36.604Z"
   },
   {
    "duration": 19507,
    "start_time": "2021-07-22T09:53:36.622Z"
   },
   {
    "duration": 4,
    "start_time": "2021-07-22T09:53:56.132Z"
   },
   {
    "duration": 18,
    "start_time": "2021-07-22T09:53:56.138Z"
   },
   {
    "duration": 9,
    "start_time": "2021-07-22T09:53:56.159Z"
   },
   {
    "duration": 29,
    "start_time": "2021-07-22T09:53:56.171Z"
   },
   {
    "duration": 17,
    "start_time": "2021-07-22T09:53:56.203Z"
   },
   {
    "duration": 6,
    "start_time": "2021-07-22T10:25:46.317Z"
   },
   {
    "duration": 6,
    "start_time": "2021-07-22T11:18:40.468Z"
   },
   {
    "duration": 1519,
    "start_time": "2021-07-22T11:18:40.476Z"
   },
   {
    "duration": 33,
    "start_time": "2021-07-22T11:18:41.999Z"
   },
   {
    "duration": 69,
    "start_time": "2021-07-22T11:18:42.036Z"
   },
   {
    "duration": 199,
    "start_time": "2021-07-22T11:18:42.108Z"
   },
   {
    "duration": 100,
    "start_time": "2021-07-22T11:18:42.311Z"
   },
   {
    "duration": 93,
    "start_time": "2021-07-22T11:18:42.415Z"
   },
   {
    "duration": 92,
    "start_time": "2021-07-22T11:18:42.513Z"
   },
   {
    "duration": 16,
    "start_time": "2021-07-22T11:18:42.611Z"
   },
   {
    "duration": 37,
    "start_time": "2021-07-22T11:18:42.631Z"
   },
   {
    "duration": 25,
    "start_time": "2021-07-22T11:18:42.671Z"
   },
   {
    "duration": 8,
    "start_time": "2021-07-22T11:18:42.699Z"
   },
   {
    "duration": 26,
    "start_time": "2021-07-22T11:18:42.709Z"
   },
   {
    "duration": 13,
    "start_time": "2021-07-22T11:18:42.754Z"
   },
   {
    "duration": 23,
    "start_time": "2021-07-22T11:18:42.769Z"
   },
   {
    "duration": 25,
    "start_time": "2021-07-22T11:18:42.795Z"
   },
   {
    "duration": 133,
    "start_time": "2021-07-22T11:18:42.823Z"
   },
   {
    "duration": 111,
    "start_time": "2021-07-22T11:18:42.959Z"
   },
   {
    "duration": 193,
    "start_time": "2021-07-22T11:18:43.074Z"
   },
   {
    "duration": 186,
    "start_time": "2021-07-22T11:18:43.271Z"
   },
   {
    "duration": 22,
    "start_time": "2021-07-22T11:18:43.459Z"
   },
   {
    "duration": 26,
    "start_time": "2021-07-22T11:18:43.483Z"
   },
   {
    "duration": 27,
    "start_time": "2021-07-22T11:18:43.511Z"
   },
   {
    "duration": 25,
    "start_time": "2021-07-22T11:18:43.540Z"
   },
   {
    "duration": 20267,
    "start_time": "2021-07-22T11:18:43.567Z"
   },
   {
    "duration": 4,
    "start_time": "2021-07-22T11:19:03.836Z"
   },
   {
    "duration": 8,
    "start_time": "2021-07-22T11:19:06.242Z"
   },
   {
    "duration": 95,
    "start_time": "2021-07-22T11:19:30.789Z"
   }
  ],
  "kernelspec": {
   "display_name": "Python 3",
   "language": "python",
   "name": "python3"
  },
  "language_info": {
   "codemirror_mode": {
    "name": "ipython",
    "version": 3
   },
   "file_extension": ".py",
   "mimetype": "text/x-python",
   "name": "python",
   "nbconvert_exporter": "python",
   "pygments_lexer": "ipython3",
   "version": "3.7.8"
  },
  "toc": {
   "base_numbering": 1,
   "nav_menu": {},
   "number_sections": true,
   "sideBar": true,
   "skip_h1_title": true,
   "title_cell": "Table of Contents",
   "title_sidebar": "Contents",
   "toc_cell": false,
   "toc_position": {},
   "toc_section_display": true,
   "toc_window_display": false
  }
 },
 "nbformat": 4,
 "nbformat_minor": 2
}