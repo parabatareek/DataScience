{
 "cells": [
  {
   "cell_type": "markdown",
   "metadata": {
    "collapsed": true,
    "pycharm": {
     "name": "#%% md\n"
    }
   },
   "source": [
    "# Содержание #\n",
    "<div>\n",
    "    <ol>\n",
    "        <li>\n",
    "            <a href=\"#import_libs\">Импорт библиотек</a>\n",
    "        </li>\n",
    "        <li>\n",
    "            <a href=\"#data\">Данные</a>\n",
    "        </li>\n",
    "        <ul>\n",
    "            <li>\n",
    "                <a href=\"#data_load\">Загрузка данных</a>\n",
    "            </li>\n",
    "            <li>\n",
    "                <a href=\"#data_view\">Первичный осмотр данных</a>\n",
    "            </li>\n",
    "        </ul>\n",
    "        <li>\n",
    "            <a href=\"#prepare\">Предобработка данных</a>\n",
    "        </li>\n",
    "        <ul>\n",
    "            <li>\n",
    "                <a href=\"#prepare_calls\">Предобработка данных calls</a>\n",
    "            </li>\n",
    "            <li>\n",
    "                <a href=\"#prepare_internet\">Предобработка данных internet</a>\n",
    "            </li>\n",
    "            <li>\n",
    "                <a href=\"#prepare_messages\">Предобработка данных messages</a>\n",
    "            </li>\n",
    "            <li>\n",
    "                <a href=\"#prepare_users\">Предобработка данных users</a>\n",
    "            </li>\n",
    "        </ul>\n",
    "        <li>\n",
    "            <a href=\"#calculations\">Расчет</a>\n",
    "        </li>\n",
    "        <ul>\n",
    "            <li>\n",
    "                <a href=\"#calc_calls_minutes_bills\">Расчет количества звонков, израсходованных минут, звонковой выручки</a>\n",
    "            </li>\n",
    "            <li>\n",
    "                <a href=\"#calc_messages_bills\">Расчет количества отправленных сообщений, выручки от сообщений</a>\n",
    "            </li>\n",
    "            <li>\n",
    "                <a href=\"#calc_internet_bills\">Расчет количества потребленного трафика, выручка от интренет-трафика</a>\n",
    "            </li>\n",
    "            <li>\n",
    "                <a href=\"#calc_total_revenue\">Расчет выручки</a>\n",
    "            </li>\n",
    "        </ul>\n",
    "        <li>\n",
    "            <a href=\"#analyze\">Анализ</a>\n",
    "        </li>\n",
    "        <ul>\n",
    "            <li>\n",
    "                <a href=\"#analyze_stats\">Статистические данные тарифных планов</a>\n",
    "            </li>\n",
    "            <li>\n",
    "                <a href=\"#analyze_calls_hist\">Гистограмма длительности звонков</a>\n",
    "            </li>\n",
    "            <li>\n",
    "                <a href=\"#analyze_messages_hist\">Гистограмма количества сообщений</a>\n",
    "            </li>\n",
    "            <li>\n",
    "                <a href=\"#analyze_internet_hist\">Гистограмма интренет-трафика</a>\n",
    "            </li>\n",
    "            <li>\n",
    "                <a href=\"#analyze_revenue_hist\">Гистограмма выручки</a>\n",
    "            </li>\n",
    "        </ul>\n",
    "        <li>\n",
    "            <a href=\"#hypothesis\">Проверка гипотез</a>\n",
    "        </li>\n",
    "        <ul>\n",
    "            <li>\n",
    "                <a href=\"#hypothesis_1\">Гипотеза 1: выручка тарифных планов</a>\n",
    "            </li>\n",
    "            <li>\n",
    "                <a href=\"#hypothesis_2\">Гипотеза 2: выручка регионов</a>\n",
    "            </li>\n",
    "        </ul>\n",
    "        <li>\n",
    "            <a href=\"#summary\">Вывод</a>\n",
    "        </li>\n",
    "    </ol>\n",
    "</div>"
   ]
  },
  {
   "cell_type": "markdown",
   "source": [
    "<a id='import_libs'></a>\n",
    "# Импорт библиотек #"
   ],
   "metadata": {
    "collapsed": false,
    "pycharm": {
     "name": "#%% md\n"
    }
   }
  },
  {
   "cell_type": "code",
   "execution_count": 1,
   "outputs": [],
   "source": [
    "import numpy as np\n",
    "import pandas as pd\n",
    "from IPython.core.display import display\n",
    "from scipy import stats as st\n",
    "import math as mt\n",
    "import warnings\n",
    "import seaborn as sns\n",
    "import matplotlib.pyplot as plt\n",
    "warnings.filterwarnings('ignore')"
   ],
   "metadata": {
    "collapsed": false,
    "pycharm": {
     "name": "#%%\n"
    }
   }
  },
  {
   "cell_type": "markdown",
   "source": [
    "<a id='data'></a>\n",
    "# Данные #"
   ],
   "metadata": {
    "collapsed": false,
    "pycharm": {
     "name": "#%% md\n"
    }
   }
  },
  {
   "cell_type": "markdown",
   "source": [
    "<a id='data_load'></a>\n",
    "## Загрузка данных ##"
   ],
   "metadata": {
    "collapsed": false,
    "pycharm": {
     "name": "#%% md\n"
    }
   }
  },
  {
   "cell_type": "code",
   "execution_count": 2,
   "outputs": [],
   "source": [
    "calls = pd.read_csv(filepath_or_buffer='datasets/calls.csv')\n",
    "internet = pd.read_csv(filepath_or_buffer='datasets/internet.csv')\n",
    "messages = pd.read_csv(filepath_or_buffer='datasets/messages.csv')\n",
    "tariffs = pd.read_csv(filepath_or_buffer='datasets/tariffs.csv')\n",
    "users = pd.read_csv(filepath_or_buffer='datasets/users.csv')"
   ],
   "metadata": {
    "collapsed": false,
    "pycharm": {
     "name": "#%%\n"
    }
   }
  },
  {
   "cell_type": "markdown",
   "source": [
    "<a id='data_view'></a>\n",
    "## Первичный осмотр данных ##"
   ],
   "metadata": {
    "collapsed": false,
    "pycharm": {
     "name": "#%% md\n"
    }
   }
  },
  {
   "cell_type": "code",
   "execution_count": 3,
   "outputs": [
    {
     "data": {
      "text/plain": "              id   call_date  duration  user_id\n0         1000_0  2018-07-25      0.00     1000\n1         1000_1  2018-08-17      0.00     1000\n2         1000_2  2018-06-11      2.85     1000\n3         1000_3  2018-09-21     13.80     1000\n4         1000_4  2018-12-15      5.18     1000\n...          ...         ...       ...      ...\n202602  1499_215  2018-12-26      0.76     1499\n202603  1499_216  2018-10-18     18.83     1499\n202604  1499_217  2018-11-10     10.81     1499\n202605  1499_218  2018-10-06      4.27     1499\n202606  1499_219  2018-12-14     19.62     1499\n\n[202607 rows x 4 columns]",
      "text/html": "<div>\n<style scoped>\n    .dataframe tbody tr th:only-of-type {\n        vertical-align: middle;\n    }\n\n    .dataframe tbody tr th {\n        vertical-align: top;\n    }\n\n    .dataframe thead th {\n        text-align: right;\n    }\n</style>\n<table border=\"1\" class=\"dataframe\">\n  <thead>\n    <tr style=\"text-align: right;\">\n      <th></th>\n      <th>id</th>\n      <th>call_date</th>\n      <th>duration</th>\n      <th>user_id</th>\n    </tr>\n  </thead>\n  <tbody>\n    <tr>\n      <th>0</th>\n      <td>1000_0</td>\n      <td>2018-07-25</td>\n      <td>0.00</td>\n      <td>1000</td>\n    </tr>\n    <tr>\n      <th>1</th>\n      <td>1000_1</td>\n      <td>2018-08-17</td>\n      <td>0.00</td>\n      <td>1000</td>\n    </tr>\n    <tr>\n      <th>2</th>\n      <td>1000_2</td>\n      <td>2018-06-11</td>\n      <td>2.85</td>\n      <td>1000</td>\n    </tr>\n    <tr>\n      <th>3</th>\n      <td>1000_3</td>\n      <td>2018-09-21</td>\n      <td>13.80</td>\n      <td>1000</td>\n    </tr>\n    <tr>\n      <th>4</th>\n      <td>1000_4</td>\n      <td>2018-12-15</td>\n      <td>5.18</td>\n      <td>1000</td>\n    </tr>\n    <tr>\n      <th>...</th>\n      <td>...</td>\n      <td>...</td>\n      <td>...</td>\n      <td>...</td>\n    </tr>\n    <tr>\n      <th>202602</th>\n      <td>1499_215</td>\n      <td>2018-12-26</td>\n      <td>0.76</td>\n      <td>1499</td>\n    </tr>\n    <tr>\n      <th>202603</th>\n      <td>1499_216</td>\n      <td>2018-10-18</td>\n      <td>18.83</td>\n      <td>1499</td>\n    </tr>\n    <tr>\n      <th>202604</th>\n      <td>1499_217</td>\n      <td>2018-11-10</td>\n      <td>10.81</td>\n      <td>1499</td>\n    </tr>\n    <tr>\n      <th>202605</th>\n      <td>1499_218</td>\n      <td>2018-10-06</td>\n      <td>4.27</td>\n      <td>1499</td>\n    </tr>\n    <tr>\n      <th>202606</th>\n      <td>1499_219</td>\n      <td>2018-12-14</td>\n      <td>19.62</td>\n      <td>1499</td>\n    </tr>\n  </tbody>\n</table>\n<p>202607 rows × 4 columns</p>\n</div>"
     },
     "metadata": {},
     "output_type": "display_data"
    },
    {
     "name": "stdout",
     "output_type": "stream",
     "text": [
      "<class 'pandas.core.frame.DataFrame'>\n",
      "RangeIndex: 202607 entries, 0 to 202606\n",
      "Data columns (total 4 columns):\n",
      " #   Column     Non-Null Count   Dtype  \n",
      "---  ------     --------------   -----  \n",
      " 0   id         202607 non-null  object \n",
      " 1   call_date  202607 non-null  object \n",
      " 2   duration   202607 non-null  float64\n",
      " 3   user_id    202607 non-null  int64  \n",
      "dtypes: float64(1), int64(1), object(2)\n",
      "memory usage: 6.2+ MB\n"
     ]
    }
   ],
   "source": [
    "display(calls)\n",
    "calls.info()"
   ],
   "metadata": {
    "collapsed": false,
    "pycharm": {
     "name": "#%%\n"
    }
   }
  },
  {
   "cell_type": "code",
   "execution_count": 4,
   "outputs": [
    {
     "data": {
      "text/plain": "        Unnamed: 0        id  mb_used session_date  user_id\n0                0    1000_0   112.95   2018-11-25     1000\n1                1    1000_1  1052.81   2018-09-07     1000\n2                2    1000_2  1197.26   2018-06-25     1000\n3                3    1000_3   550.27   2018-08-22     1000\n4                4    1000_4   302.56   2018-09-24     1000\n...            ...       ...      ...          ...      ...\n149391      149391  1499_152   318.90   2018-10-03     1499\n149392      149392  1499_153   490.13   2018-12-14     1499\n149393      149393  1499_154     0.00   2018-10-27     1499\n149394      149394  1499_155  1246.32   2018-11-26     1499\n149395      149395  1499_156   544.37   2018-10-26     1499\n\n[149396 rows x 5 columns]",
      "text/html": "<div>\n<style scoped>\n    .dataframe tbody tr th:only-of-type {\n        vertical-align: middle;\n    }\n\n    .dataframe tbody tr th {\n        vertical-align: top;\n    }\n\n    .dataframe thead th {\n        text-align: right;\n    }\n</style>\n<table border=\"1\" class=\"dataframe\">\n  <thead>\n    <tr style=\"text-align: right;\">\n      <th></th>\n      <th>Unnamed: 0</th>\n      <th>id</th>\n      <th>mb_used</th>\n      <th>session_date</th>\n      <th>user_id</th>\n    </tr>\n  </thead>\n  <tbody>\n    <tr>\n      <th>0</th>\n      <td>0</td>\n      <td>1000_0</td>\n      <td>112.95</td>\n      <td>2018-11-25</td>\n      <td>1000</td>\n    </tr>\n    <tr>\n      <th>1</th>\n      <td>1</td>\n      <td>1000_1</td>\n      <td>1052.81</td>\n      <td>2018-09-07</td>\n      <td>1000</td>\n    </tr>\n    <tr>\n      <th>2</th>\n      <td>2</td>\n      <td>1000_2</td>\n      <td>1197.26</td>\n      <td>2018-06-25</td>\n      <td>1000</td>\n    </tr>\n    <tr>\n      <th>3</th>\n      <td>3</td>\n      <td>1000_3</td>\n      <td>550.27</td>\n      <td>2018-08-22</td>\n      <td>1000</td>\n    </tr>\n    <tr>\n      <th>4</th>\n      <td>4</td>\n      <td>1000_4</td>\n      <td>302.56</td>\n      <td>2018-09-24</td>\n      <td>1000</td>\n    </tr>\n    <tr>\n      <th>...</th>\n      <td>...</td>\n      <td>...</td>\n      <td>...</td>\n      <td>...</td>\n      <td>...</td>\n    </tr>\n    <tr>\n      <th>149391</th>\n      <td>149391</td>\n      <td>1499_152</td>\n      <td>318.90</td>\n      <td>2018-10-03</td>\n      <td>1499</td>\n    </tr>\n    <tr>\n      <th>149392</th>\n      <td>149392</td>\n      <td>1499_153</td>\n      <td>490.13</td>\n      <td>2018-12-14</td>\n      <td>1499</td>\n    </tr>\n    <tr>\n      <th>149393</th>\n      <td>149393</td>\n      <td>1499_154</td>\n      <td>0.00</td>\n      <td>2018-10-27</td>\n      <td>1499</td>\n    </tr>\n    <tr>\n      <th>149394</th>\n      <td>149394</td>\n      <td>1499_155</td>\n      <td>1246.32</td>\n      <td>2018-11-26</td>\n      <td>1499</td>\n    </tr>\n    <tr>\n      <th>149395</th>\n      <td>149395</td>\n      <td>1499_156</td>\n      <td>544.37</td>\n      <td>2018-10-26</td>\n      <td>1499</td>\n    </tr>\n  </tbody>\n</table>\n<p>149396 rows × 5 columns</p>\n</div>"
     },
     "metadata": {},
     "output_type": "display_data"
    },
    {
     "name": "stdout",
     "output_type": "stream",
     "text": [
      "<class 'pandas.core.frame.DataFrame'>\n",
      "RangeIndex: 149396 entries, 0 to 149395\n",
      "Data columns (total 5 columns):\n",
      " #   Column        Non-Null Count   Dtype  \n",
      "---  ------        --------------   -----  \n",
      " 0   Unnamed: 0    149396 non-null  int64  \n",
      " 1   id            149396 non-null  object \n",
      " 2   mb_used       149396 non-null  float64\n",
      " 3   session_date  149396 non-null  object \n",
      " 4   user_id       149396 non-null  int64  \n",
      "dtypes: float64(1), int64(2), object(2)\n",
      "memory usage: 5.7+ MB\n"
     ]
    }
   ],
   "source": [
    "display(internet)\n",
    "internet.info()"
   ],
   "metadata": {
    "collapsed": false,
    "pycharm": {
     "name": "#%%\n"
    }
   }
  },
  {
   "cell_type": "code",
   "execution_count": 5,
   "outputs": [
    {
     "data": {
      "text/plain": "              id message_date  user_id\n0         1000_0   2018-06-27     1000\n1         1000_1   2018-10-08     1000\n2         1000_2   2018-08-04     1000\n3         1000_3   2018-06-16     1000\n4         1000_4   2018-12-05     1000\n...          ...          ...      ...\n123031  1499_179   2018-12-12     1499\n123032  1499_180   2018-09-28     1499\n123033  1499_181   2018-09-27     1499\n123034  1499_182   2018-11-15     1499\n123035  1499_183   2018-11-16     1499\n\n[123036 rows x 3 columns]",
      "text/html": "<div>\n<style scoped>\n    .dataframe tbody tr th:only-of-type {\n        vertical-align: middle;\n    }\n\n    .dataframe tbody tr th {\n        vertical-align: top;\n    }\n\n    .dataframe thead th {\n        text-align: right;\n    }\n</style>\n<table border=\"1\" class=\"dataframe\">\n  <thead>\n    <tr style=\"text-align: right;\">\n      <th></th>\n      <th>id</th>\n      <th>message_date</th>\n      <th>user_id</th>\n    </tr>\n  </thead>\n  <tbody>\n    <tr>\n      <th>0</th>\n      <td>1000_0</td>\n      <td>2018-06-27</td>\n      <td>1000</td>\n    </tr>\n    <tr>\n      <th>1</th>\n      <td>1000_1</td>\n      <td>2018-10-08</td>\n      <td>1000</td>\n    </tr>\n    <tr>\n      <th>2</th>\n      <td>1000_2</td>\n      <td>2018-08-04</td>\n      <td>1000</td>\n    </tr>\n    <tr>\n      <th>3</th>\n      <td>1000_3</td>\n      <td>2018-06-16</td>\n      <td>1000</td>\n    </tr>\n    <tr>\n      <th>4</th>\n      <td>1000_4</td>\n      <td>2018-12-05</td>\n      <td>1000</td>\n    </tr>\n    <tr>\n      <th>...</th>\n      <td>...</td>\n      <td>...</td>\n      <td>...</td>\n    </tr>\n    <tr>\n      <th>123031</th>\n      <td>1499_179</td>\n      <td>2018-12-12</td>\n      <td>1499</td>\n    </tr>\n    <tr>\n      <th>123032</th>\n      <td>1499_180</td>\n      <td>2018-09-28</td>\n      <td>1499</td>\n    </tr>\n    <tr>\n      <th>123033</th>\n      <td>1499_181</td>\n      <td>2018-09-27</td>\n      <td>1499</td>\n    </tr>\n    <tr>\n      <th>123034</th>\n      <td>1499_182</td>\n      <td>2018-11-15</td>\n      <td>1499</td>\n    </tr>\n    <tr>\n      <th>123035</th>\n      <td>1499_183</td>\n      <td>2018-11-16</td>\n      <td>1499</td>\n    </tr>\n  </tbody>\n</table>\n<p>123036 rows × 3 columns</p>\n</div>"
     },
     "metadata": {},
     "output_type": "display_data"
    },
    {
     "name": "stdout",
     "output_type": "stream",
     "text": [
      "<class 'pandas.core.frame.DataFrame'>\n",
      "RangeIndex: 123036 entries, 0 to 123035\n",
      "Data columns (total 3 columns):\n",
      " #   Column        Non-Null Count   Dtype \n",
      "---  ------        --------------   ----- \n",
      " 0   id            123036 non-null  object\n",
      " 1   message_date  123036 non-null  object\n",
      " 2   user_id       123036 non-null  int64 \n",
      "dtypes: int64(1), object(2)\n",
      "memory usage: 2.8+ MB\n"
     ]
    }
   ],
   "source": [
    "display(messages)\n",
    "messages.info()"
   ],
   "metadata": {
    "collapsed": false,
    "pycharm": {
     "name": "#%%\n"
    }
   }
  },
  {
   "cell_type": "code",
   "execution_count": 6,
   "outputs": [
    {
     "data": {
      "text/plain": "   messages_included  mb_per_month_included  minutes_included  \\\n0                 50                  15360               500   \n1               1000                  30720              3000   \n\n   rub_monthly_fee  rub_per_gb  rub_per_message  rub_per_minute tariff_name  \n0              550         200                3               3       smart  \n1             1950         150                1               1       ultra  ",
      "text/html": "<div>\n<style scoped>\n    .dataframe tbody tr th:only-of-type {\n        vertical-align: middle;\n    }\n\n    .dataframe tbody tr th {\n        vertical-align: top;\n    }\n\n    .dataframe thead th {\n        text-align: right;\n    }\n</style>\n<table border=\"1\" class=\"dataframe\">\n  <thead>\n    <tr style=\"text-align: right;\">\n      <th></th>\n      <th>messages_included</th>\n      <th>mb_per_month_included</th>\n      <th>minutes_included</th>\n      <th>rub_monthly_fee</th>\n      <th>rub_per_gb</th>\n      <th>rub_per_message</th>\n      <th>rub_per_minute</th>\n      <th>tariff_name</th>\n    </tr>\n  </thead>\n  <tbody>\n    <tr>\n      <th>0</th>\n      <td>50</td>\n      <td>15360</td>\n      <td>500</td>\n      <td>550</td>\n      <td>200</td>\n      <td>3</td>\n      <td>3</td>\n      <td>smart</td>\n    </tr>\n    <tr>\n      <th>1</th>\n      <td>1000</td>\n      <td>30720</td>\n      <td>3000</td>\n      <td>1950</td>\n      <td>150</td>\n      <td>1</td>\n      <td>1</td>\n      <td>ultra</td>\n    </tr>\n  </tbody>\n</table>\n</div>"
     },
     "metadata": {},
     "output_type": "display_data"
    },
    {
     "name": "stdout",
     "output_type": "stream",
     "text": [
      "<class 'pandas.core.frame.DataFrame'>\n",
      "RangeIndex: 2 entries, 0 to 1\n",
      "Data columns (total 8 columns):\n",
      " #   Column                 Non-Null Count  Dtype \n",
      "---  ------                 --------------  ----- \n",
      " 0   messages_included      2 non-null      int64 \n",
      " 1   mb_per_month_included  2 non-null      int64 \n",
      " 2   minutes_included       2 non-null      int64 \n",
      " 3   rub_monthly_fee        2 non-null      int64 \n",
      " 4   rub_per_gb             2 non-null      int64 \n",
      " 5   rub_per_message        2 non-null      int64 \n",
      " 6   rub_per_minute         2 non-null      int64 \n",
      " 7   tariff_name            2 non-null      object\n",
      "dtypes: int64(7), object(1)\n",
      "memory usage: 256.0+ bytes\n"
     ]
    }
   ],
   "source": [
    "display(tariffs)\n",
    "tariffs.info()"
   ],
   "metadata": {
    "collapsed": false,
    "pycharm": {
     "name": "#%%\n"
    }
   }
  },
  {
   "cell_type": "code",
   "execution_count": 7,
   "outputs": [
    {
     "data": {
      "text/plain": "     user_id  age  churn_date         city first_name  last_name    reg_date  \\\n0       1000   52         NaN    Краснодар     Рафаил  Верещагин  2018-05-25   \n1       1001   41         NaN       Москва       Иван       Ежов  2018-11-01   \n2       1002   59         NaN  Стерлитамак    Евгений  Абрамович  2018-06-17   \n3       1003   23         NaN       Москва      Белла   Белякова  2018-08-17   \n4       1004   68         NaN  Новокузнецк    Татьяна   Авдеенко  2018-05-14   \n..       ...  ...         ...          ...        ...        ...         ...   \n495     1495   65         NaN      Иркутск  Авксентий      Фокин  2018-08-28   \n496     1496   36         NaN      Вологда     Трифон     Блохин  2018-01-27   \n497     1497   32         NaN    Челябинск   Каролина     Агеева  2018-10-09   \n498     1498   68  2018-10-25  Владикавказ   Всеволод    Акимчин  2018-07-19   \n499     1499   35         NaN        Пермь     Гектор   Корнилов  2018-09-27   \n\n    tariff  \n0    ultra  \n1    smart  \n2    smart  \n3    ultra  \n4    ultra  \n..     ...  \n495  ultra  \n496  smart  \n497  smart  \n498  smart  \n499  smart  \n\n[500 rows x 8 columns]",
      "text/html": "<div>\n<style scoped>\n    .dataframe tbody tr th:only-of-type {\n        vertical-align: middle;\n    }\n\n    .dataframe tbody tr th {\n        vertical-align: top;\n    }\n\n    .dataframe thead th {\n        text-align: right;\n    }\n</style>\n<table border=\"1\" class=\"dataframe\">\n  <thead>\n    <tr style=\"text-align: right;\">\n      <th></th>\n      <th>user_id</th>\n      <th>age</th>\n      <th>churn_date</th>\n      <th>city</th>\n      <th>first_name</th>\n      <th>last_name</th>\n      <th>reg_date</th>\n      <th>tariff</th>\n    </tr>\n  </thead>\n  <tbody>\n    <tr>\n      <th>0</th>\n      <td>1000</td>\n      <td>52</td>\n      <td>NaN</td>\n      <td>Краснодар</td>\n      <td>Рафаил</td>\n      <td>Верещагин</td>\n      <td>2018-05-25</td>\n      <td>ultra</td>\n    </tr>\n    <tr>\n      <th>1</th>\n      <td>1001</td>\n      <td>41</td>\n      <td>NaN</td>\n      <td>Москва</td>\n      <td>Иван</td>\n      <td>Ежов</td>\n      <td>2018-11-01</td>\n      <td>smart</td>\n    </tr>\n    <tr>\n      <th>2</th>\n      <td>1002</td>\n      <td>59</td>\n      <td>NaN</td>\n      <td>Стерлитамак</td>\n      <td>Евгений</td>\n      <td>Абрамович</td>\n      <td>2018-06-17</td>\n      <td>smart</td>\n    </tr>\n    <tr>\n      <th>3</th>\n      <td>1003</td>\n      <td>23</td>\n      <td>NaN</td>\n      <td>Москва</td>\n      <td>Белла</td>\n      <td>Белякова</td>\n      <td>2018-08-17</td>\n      <td>ultra</td>\n    </tr>\n    <tr>\n      <th>4</th>\n      <td>1004</td>\n      <td>68</td>\n      <td>NaN</td>\n      <td>Новокузнецк</td>\n      <td>Татьяна</td>\n      <td>Авдеенко</td>\n      <td>2018-05-14</td>\n      <td>ultra</td>\n    </tr>\n    <tr>\n      <th>...</th>\n      <td>...</td>\n      <td>...</td>\n      <td>...</td>\n      <td>...</td>\n      <td>...</td>\n      <td>...</td>\n      <td>...</td>\n      <td>...</td>\n    </tr>\n    <tr>\n      <th>495</th>\n      <td>1495</td>\n      <td>65</td>\n      <td>NaN</td>\n      <td>Иркутск</td>\n      <td>Авксентий</td>\n      <td>Фокин</td>\n      <td>2018-08-28</td>\n      <td>ultra</td>\n    </tr>\n    <tr>\n      <th>496</th>\n      <td>1496</td>\n      <td>36</td>\n      <td>NaN</td>\n      <td>Вологда</td>\n      <td>Трифон</td>\n      <td>Блохин</td>\n      <td>2018-01-27</td>\n      <td>smart</td>\n    </tr>\n    <tr>\n      <th>497</th>\n      <td>1497</td>\n      <td>32</td>\n      <td>NaN</td>\n      <td>Челябинск</td>\n      <td>Каролина</td>\n      <td>Агеева</td>\n      <td>2018-10-09</td>\n      <td>smart</td>\n    </tr>\n    <tr>\n      <th>498</th>\n      <td>1498</td>\n      <td>68</td>\n      <td>2018-10-25</td>\n      <td>Владикавказ</td>\n      <td>Всеволод</td>\n      <td>Акимчин</td>\n      <td>2018-07-19</td>\n      <td>smart</td>\n    </tr>\n    <tr>\n      <th>499</th>\n      <td>1499</td>\n      <td>35</td>\n      <td>NaN</td>\n      <td>Пермь</td>\n      <td>Гектор</td>\n      <td>Корнилов</td>\n      <td>2018-09-27</td>\n      <td>smart</td>\n    </tr>\n  </tbody>\n</table>\n<p>500 rows × 8 columns</p>\n</div>"
     },
     "metadata": {},
     "output_type": "display_data"
    },
    {
     "name": "stdout",
     "output_type": "stream",
     "text": [
      "<class 'pandas.core.frame.DataFrame'>\n",
      "RangeIndex: 500 entries, 0 to 499\n",
      "Data columns (total 8 columns):\n",
      " #   Column      Non-Null Count  Dtype \n",
      "---  ------      --------------  ----- \n",
      " 0   user_id     500 non-null    int64 \n",
      " 1   age         500 non-null    int64 \n",
      " 2   churn_date  38 non-null     object\n",
      " 3   city        500 non-null    object\n",
      " 4   first_name  500 non-null    object\n",
      " 5   last_name   500 non-null    object\n",
      " 6   reg_date    500 non-null    object\n",
      " 7   tariff      500 non-null    object\n",
      "dtypes: int64(2), object(6)\n",
      "memory usage: 31.4+ KB\n"
     ]
    }
   ],
   "source": [
    "display(users)\n",
    "users.info()"
   ],
   "metadata": {
    "collapsed": false,
    "pycharm": {
     "name": "#%%\n"
    }
   }
  },
  {
   "cell_type": "markdown",
   "source": [
    "## Результаты первичного осмотра ##\n",
    "1. calls:\n",
    "    - id:\n",
    "        * значение обрезать '_', идентификатор абонента указан в другом столбце\n",
    "        * привести к типу int\n",
    "    - call_date:\n",
    "        * привести к типу date\n",
    "    - duration:\n",
    "        * округлить до большего целого\n",
    "        * привести к типу int\n",
    "2. internet:\n",
    "    - 'unnamed:0' - удалить\n",
    "    - id:\n",
    "        * значение обрезать '_', идентификатор абонента указан в другом столбце\n",
    "        * привести к типу int\n",
    "    - session_date:\n",
    "        * привести к типу date\n",
    "3. messages:\n",
    "    - id:\n",
    "        * значение обрезать '_', идентификатор абонента указан в другом столбце\n",
    "        * привести к типу int\n",
    "    - message_date:\n",
    "        * привести к типу date\n",
    "4. users:\n",
    "    - churn_date\n",
    "        * привести к типу date\n",
    "        * пропуски оставить\n",
    "    - city:\n",
    "        * удалить лишние символы\n",
    "        * преобразовать в нижний регистр\n",
    "    - first_name:\n",
    "        * удалить лишние символы\n",
    "        * преобразовать в нижний регистр\n",
    "    - last_name:\n",
    "        * удалить лишние символы\n",
    "        * преобразовать в нижний регистр\n",
    "    - reg_date:\n",
    "        * привести к типу date\n",
    "5. собрать данные абонентов и условий тарифного плана в одну таблицу"
   ],
   "metadata": {
    "collapsed": false,
    "pycharm": {
     "name": "#%% md\n"
    }
   }
  },
  {
   "cell_type": "markdown",
   "source": [
    "<a id='prepare'></a>\n",
    "# Предобработка данных #"
   ],
   "metadata": {
    "collapsed": false,
    "pycharm": {
     "name": "#%% md\n"
    }
   }
  },
  {
   "cell_type": "markdown",
   "source": [
    "<a id='prepare_calls'></a>\n",
    "## Предобработка данных calls ##"
   ],
   "metadata": {
    "collapsed": false,
    "pycharm": {
     "name": "#%% md\n"
    }
   }
  },
  {
   "cell_type": "code",
   "execution_count": 8,
   "outputs": [
    {
     "name": "stdout",
     "output_type": "stream",
     "text": [
      "<class 'pandas.core.frame.DataFrame'>\n",
      "RangeIndex: 202607 entries, 0 to 202606\n",
      "Data columns (total 4 columns):\n",
      " #   Column     Non-Null Count   Dtype         \n",
      "---  ------     --------------   -----         \n",
      " 0   id         202607 non-null  int32         \n",
      " 1   call_date  202607 non-null  datetime64[ns]\n",
      " 2   duration   202607 non-null  int32         \n",
      " 3   user_id    202607 non-null  int64         \n",
      "dtypes: datetime64[ns](1), int32(2), int64(1)\n",
      "memory usage: 4.6 MB\n"
     ]
    }
   ],
   "source": [
    "calls['id'] = calls['id'].str.split('_', expand=True)[1].astype('int')\n",
    "calls['call_date'] = pd.to_datetime(calls['call_date'], format='%Y-%m-%d')\n",
    "calls['duration'] = calls['duration'].apply(mt.ceil).astype('int')\n",
    "calls.info()"
   ],
   "metadata": {
    "collapsed": false,
    "pycharm": {
     "name": "#%%\n"
    }
   }
  },
  {
   "cell_type": "code",
   "execution_count": 9,
   "outputs": [
    {
     "data": {
      "text/plain": "0"
     },
     "execution_count": 9,
     "metadata": {},
     "output_type": "execute_result"
    }
   ],
   "source": [
    "calls.duplicated().sum()"
   ],
   "metadata": {
    "collapsed": false,
    "pycharm": {
     "name": "#%%\n"
    }
   }
  },
  {
   "cell_type": "markdown",
   "source": [
    "<a id='prepare_internet'></a>\n",
    "## Предобработка данных internet ##"
   ],
   "metadata": {
    "collapsed": false,
    "pycharm": {
     "name": "#%% md\n"
    }
   }
  },
  {
   "cell_type": "code",
   "execution_count": 10,
   "outputs": [
    {
     "name": "stdout",
     "output_type": "stream",
     "text": [
      "<class 'pandas.core.frame.DataFrame'>\n",
      "RangeIndex: 149396 entries, 0 to 149395\n",
      "Data columns (total 4 columns):\n",
      " #   Column        Non-Null Count   Dtype         \n",
      "---  ------        --------------   -----         \n",
      " 0   id            149396 non-null  int32         \n",
      " 1   mb_used       149396 non-null  float64       \n",
      " 2   session_date  149396 non-null  datetime64[ns]\n",
      " 3   user_id       149396 non-null  int64         \n",
      "dtypes: datetime64[ns](1), float64(1), int32(1), int64(1)\n",
      "memory usage: 4.0 MB\n"
     ]
    }
   ],
   "source": [
    "internet = internet.drop(columns=['Unnamed: 0'])\n",
    "internet['id'] = internet['id'].str.split('_', expand=True)[1].astype('int')\n",
    "internet['session_date'] = pd.to_datetime(internet['session_date'], format='%Y-%m-%d')\n",
    "internet.info()"
   ],
   "metadata": {
    "collapsed": false,
    "pycharm": {
     "name": "#%%\n"
    }
   }
  },
  {
   "cell_type": "code",
   "execution_count": 11,
   "outputs": [
    {
     "data": {
      "text/plain": "0"
     },
     "execution_count": 11,
     "metadata": {},
     "output_type": "execute_result"
    }
   ],
   "source": [
    "internet.duplicated().sum()"
   ],
   "metadata": {
    "collapsed": false,
    "pycharm": {
     "name": "#%%\n"
    }
   }
  },
  {
   "cell_type": "markdown",
   "source": [
    "<a id='prepare_messages'></a>\n",
    "## Предобработка данных messages ##"
   ],
   "metadata": {
    "collapsed": false,
    "pycharm": {
     "name": "#%% md\n"
    }
   }
  },
  {
   "cell_type": "code",
   "execution_count": 12,
   "outputs": [
    {
     "name": "stdout",
     "output_type": "stream",
     "text": [
      "<class 'pandas.core.frame.DataFrame'>\n",
      "RangeIndex: 123036 entries, 0 to 123035\n",
      "Data columns (total 3 columns):\n",
      " #   Column        Non-Null Count   Dtype         \n",
      "---  ------        --------------   -----         \n",
      " 0   id            123036 non-null  int32         \n",
      " 1   message_date  123036 non-null  datetime64[ns]\n",
      " 2   user_id       123036 non-null  int64         \n",
      "dtypes: datetime64[ns](1), int32(1), int64(1)\n",
      "memory usage: 2.3 MB\n"
     ]
    }
   ],
   "source": [
    "messages['id'] = messages['id'].str.split('_', expand=True)[1].astype('int')\n",
    "messages['message_date'] = pd.to_datetime(messages['message_date'], format='%Y-%m-%d')\n",
    "messages.info()"
   ],
   "metadata": {
    "collapsed": false,
    "pycharm": {
     "name": "#%%\n"
    }
   }
  },
  {
   "cell_type": "code",
   "execution_count": 13,
   "outputs": [
    {
     "data": {
      "text/plain": "0"
     },
     "execution_count": 13,
     "metadata": {},
     "output_type": "execute_result"
    }
   ],
   "source": [
    "messages.duplicated().sum()"
   ],
   "metadata": {
    "collapsed": false,
    "pycharm": {
     "name": "#%%\n"
    }
   }
  },
  {
   "cell_type": "markdown",
   "source": [
    "<a id='prepare_users'></a>\n",
    "## Предобработка данных users ##"
   ],
   "metadata": {
    "collapsed": false
   }
  },
  {
   "cell_type": "code",
   "execution_count": 14,
   "outputs": [
    {
     "name": "stdout",
     "output_type": "stream",
     "text": [
      "<class 'pandas.core.frame.DataFrame'>\n",
      "RangeIndex: 500 entries, 0 to 499\n",
      "Data columns (total 8 columns):\n",
      " #   Column       Non-Null Count  Dtype         \n",
      "---  ------       --------------  -----         \n",
      " 0   user_id      500 non-null    int64         \n",
      " 1   age          500 non-null    int64         \n",
      " 2   churn_date   38 non-null     datetime64[ns]\n",
      " 3   city         500 non-null    object        \n",
      " 4   first_name   500 non-null    object        \n",
      " 5   last_name    500 non-null    object        \n",
      " 6   reg_date     500 non-null    datetime64[ns]\n",
      " 7   tariff_name  500 non-null    object        \n",
      "dtypes: datetime64[ns](2), int64(2), object(4)\n",
      "memory usage: 31.4+ KB\n"
     ]
    }
   ],
   "source": [
    "users = users.rename(columns={'tariff':'tariff_name'})\n",
    "users['churn_date'] = pd.to_datetime(users['churn_date'], format='%Y-%m-%d', errors='coerce')\n",
    "users['reg_date'] = pd.to_datetime(users['reg_date'], format='%Y-%m-%d')\n",
    "\n",
    "for column in ['city', 'first_name', 'last_name']:\n",
    "    users[column] = users[column].str.strip()\n",
    "    users[column] = users[column].str.lower()\n",
    "\n",
    "users.info()"
   ],
   "metadata": {
    "collapsed": false,
    "pycharm": {
     "name": "#%%\n"
    }
   }
  },
  {
   "cell_type": "code",
   "execution_count": 15,
   "outputs": [
    {
     "data": {
      "text/plain": "     user_id  age churn_date         city first_name  last_name   reg_date  \\\n0       1000   52        NaT    краснодар     рафаил  верещагин 2018-05-25   \n1       1003   23        NaT       москва      белла   белякова 2018-08-17   \n2       1004   68        NaT  новокузнецк    татьяна   авдеенко 2018-05-14   \n3       1013   36        NaT      иваново      борис  андреенко 2018-11-14   \n4       1016   58        NaT         омск     марица   сазонова 2018-11-21   \n..       ...  ...        ...          ...        ...        ...        ...   \n495     1494   62        NaT         омск      ренат   андропов 2018-08-17   \n496     1496   36        NaT      вологда     трифон     блохин 2018-01-27   \n497     1497   32        NaT    челябинск   каролина     агеева 2018-10-09   \n498     1498   68 2018-10-25  владикавказ   всеволод    акимчин 2018-07-19   \n499     1499   35        NaT        пермь     гектор   корнилов 2018-09-27   \n\n    tariff_name  messages_included  mb_per_month_included  minutes_included  \\\n0         ultra               1000                  30720              3000   \n1         ultra               1000                  30720              3000   \n2         ultra               1000                  30720              3000   \n3         ultra               1000                  30720              3000   \n4         ultra               1000                  30720              3000   \n..          ...                ...                    ...               ...   \n495       smart                 50                  15360               500   \n496       smart                 50                  15360               500   \n497       smart                 50                  15360               500   \n498       smart                 50                  15360               500   \n499       smart                 50                  15360               500   \n\n     rub_monthly_fee  rub_per_gb  rub_per_message  rub_per_minute  \n0               1950         150                1               1  \n1               1950         150                1               1  \n2               1950         150                1               1  \n3               1950         150                1               1  \n4               1950         150                1               1  \n..               ...         ...              ...             ...  \n495              550         200                3               3  \n496              550         200                3               3  \n497              550         200                3               3  \n498              550         200                3               3  \n499              550         200                3               3  \n\n[500 rows x 15 columns]",
      "text/html": "<div>\n<style scoped>\n    .dataframe tbody tr th:only-of-type {\n        vertical-align: middle;\n    }\n\n    .dataframe tbody tr th {\n        vertical-align: top;\n    }\n\n    .dataframe thead th {\n        text-align: right;\n    }\n</style>\n<table border=\"1\" class=\"dataframe\">\n  <thead>\n    <tr style=\"text-align: right;\">\n      <th></th>\n      <th>user_id</th>\n      <th>age</th>\n      <th>churn_date</th>\n      <th>city</th>\n      <th>first_name</th>\n      <th>last_name</th>\n      <th>reg_date</th>\n      <th>tariff_name</th>\n      <th>messages_included</th>\n      <th>mb_per_month_included</th>\n      <th>minutes_included</th>\n      <th>rub_monthly_fee</th>\n      <th>rub_per_gb</th>\n      <th>rub_per_message</th>\n      <th>rub_per_minute</th>\n    </tr>\n  </thead>\n  <tbody>\n    <tr>\n      <th>0</th>\n      <td>1000</td>\n      <td>52</td>\n      <td>NaT</td>\n      <td>краснодар</td>\n      <td>рафаил</td>\n      <td>верещагин</td>\n      <td>2018-05-25</td>\n      <td>ultra</td>\n      <td>1000</td>\n      <td>30720</td>\n      <td>3000</td>\n      <td>1950</td>\n      <td>150</td>\n      <td>1</td>\n      <td>1</td>\n    </tr>\n    <tr>\n      <th>1</th>\n      <td>1003</td>\n      <td>23</td>\n      <td>NaT</td>\n      <td>москва</td>\n      <td>белла</td>\n      <td>белякова</td>\n      <td>2018-08-17</td>\n      <td>ultra</td>\n      <td>1000</td>\n      <td>30720</td>\n      <td>3000</td>\n      <td>1950</td>\n      <td>150</td>\n      <td>1</td>\n      <td>1</td>\n    </tr>\n    <tr>\n      <th>2</th>\n      <td>1004</td>\n      <td>68</td>\n      <td>NaT</td>\n      <td>новокузнецк</td>\n      <td>татьяна</td>\n      <td>авдеенко</td>\n      <td>2018-05-14</td>\n      <td>ultra</td>\n      <td>1000</td>\n      <td>30720</td>\n      <td>3000</td>\n      <td>1950</td>\n      <td>150</td>\n      <td>1</td>\n      <td>1</td>\n    </tr>\n    <tr>\n      <th>3</th>\n      <td>1013</td>\n      <td>36</td>\n      <td>NaT</td>\n      <td>иваново</td>\n      <td>борис</td>\n      <td>андреенко</td>\n      <td>2018-11-14</td>\n      <td>ultra</td>\n      <td>1000</td>\n      <td>30720</td>\n      <td>3000</td>\n      <td>1950</td>\n      <td>150</td>\n      <td>1</td>\n      <td>1</td>\n    </tr>\n    <tr>\n      <th>4</th>\n      <td>1016</td>\n      <td>58</td>\n      <td>NaT</td>\n      <td>омск</td>\n      <td>марица</td>\n      <td>сазонова</td>\n      <td>2018-11-21</td>\n      <td>ultra</td>\n      <td>1000</td>\n      <td>30720</td>\n      <td>3000</td>\n      <td>1950</td>\n      <td>150</td>\n      <td>1</td>\n      <td>1</td>\n    </tr>\n    <tr>\n      <th>...</th>\n      <td>...</td>\n      <td>...</td>\n      <td>...</td>\n      <td>...</td>\n      <td>...</td>\n      <td>...</td>\n      <td>...</td>\n      <td>...</td>\n      <td>...</td>\n      <td>...</td>\n      <td>...</td>\n      <td>...</td>\n      <td>...</td>\n      <td>...</td>\n      <td>...</td>\n    </tr>\n    <tr>\n      <th>495</th>\n      <td>1494</td>\n      <td>62</td>\n      <td>NaT</td>\n      <td>омск</td>\n      <td>ренат</td>\n      <td>андропов</td>\n      <td>2018-08-17</td>\n      <td>smart</td>\n      <td>50</td>\n      <td>15360</td>\n      <td>500</td>\n      <td>550</td>\n      <td>200</td>\n      <td>3</td>\n      <td>3</td>\n    </tr>\n    <tr>\n      <th>496</th>\n      <td>1496</td>\n      <td>36</td>\n      <td>NaT</td>\n      <td>вологда</td>\n      <td>трифон</td>\n      <td>блохин</td>\n      <td>2018-01-27</td>\n      <td>smart</td>\n      <td>50</td>\n      <td>15360</td>\n      <td>500</td>\n      <td>550</td>\n      <td>200</td>\n      <td>3</td>\n      <td>3</td>\n    </tr>\n    <tr>\n      <th>497</th>\n      <td>1497</td>\n      <td>32</td>\n      <td>NaT</td>\n      <td>челябинск</td>\n      <td>каролина</td>\n      <td>агеева</td>\n      <td>2018-10-09</td>\n      <td>smart</td>\n      <td>50</td>\n      <td>15360</td>\n      <td>500</td>\n      <td>550</td>\n      <td>200</td>\n      <td>3</td>\n      <td>3</td>\n    </tr>\n    <tr>\n      <th>498</th>\n      <td>1498</td>\n      <td>68</td>\n      <td>2018-10-25</td>\n      <td>владикавказ</td>\n      <td>всеволод</td>\n      <td>акимчин</td>\n      <td>2018-07-19</td>\n      <td>smart</td>\n      <td>50</td>\n      <td>15360</td>\n      <td>500</td>\n      <td>550</td>\n      <td>200</td>\n      <td>3</td>\n      <td>3</td>\n    </tr>\n    <tr>\n      <th>499</th>\n      <td>1499</td>\n      <td>35</td>\n      <td>NaT</td>\n      <td>пермь</td>\n      <td>гектор</td>\n      <td>корнилов</td>\n      <td>2018-09-27</td>\n      <td>smart</td>\n      <td>50</td>\n      <td>15360</td>\n      <td>500</td>\n      <td>550</td>\n      <td>200</td>\n      <td>3</td>\n      <td>3</td>\n    </tr>\n  </tbody>\n</table>\n<p>500 rows × 15 columns</p>\n</div>"
     },
     "execution_count": 15,
     "metadata": {},
     "output_type": "execute_result"
    }
   ],
   "source": [
    "users_data = users.merge(tariffs, on='tariff_name')\n",
    "users_data"
   ],
   "metadata": {
    "collapsed": false,
    "pycharm": {
     "name": "#%%\n"
    }
   }
  },
  {
   "cell_type": "code",
   "execution_count": 16,
   "outputs": [
    {
     "data": {
      "text/plain": "0"
     },
     "execution_count": 16,
     "metadata": {},
     "output_type": "execute_result"
    }
   ],
   "source": [
    "users.duplicated().sum()"
   ],
   "metadata": {
    "collapsed": false,
    "pycharm": {
     "name": "#%%\n"
    }
   }
  },
  {
   "cell_type": "code",
   "execution_count": 17,
   "outputs": [
    {
     "data": {
      "text/plain": "0"
     },
     "execution_count": 17,
     "metadata": {},
     "output_type": "execute_result"
    }
   ],
   "source": [
    "users_data.duplicated().sum()"
   ],
   "metadata": {
    "collapsed": false,
    "pycharm": {
     "name": "#%%\n"
    }
   }
  },
  {
   "cell_type": "markdown",
   "source": [
    "# Результаты предобработки данных #\n",
    "1. calls:\n",
    "    - ['id']:\n",
    "        * лишние значения удалены\n",
    "        * приведен к типу 'int'\n",
    "    - ['call_date']:\n",
    "        * приведен к типу 'datetime'\n",
    "    - ['duration']:\n",
    "        * округлен до большего целого\n",
    "        * приведен к типу 'int'\n",
    "    - дубликаты отсутствуют\n",
    "2. internet:\n",
    "    - ['Unnamed: 0']:\n",
    "        * удален\n",
    "    - ['id']:\n",
    "        * лишние данные удалены\n",
    "        * приведен к типу 'int'\n",
    "    - ['session_date']:\n",
    "        * приведен к типу 'datetime'\n",
    "    - дубликаты отсутствуют\n",
    "3. messages:\n",
    "    - ['id']:\n",
    "        * лишние значения удалены\n",
    "        * приведен к типу 'int'\n",
    "    - ['message_date']:\n",
    "        * приведен к типу 'datetime'\n",
    "    - дубликаты отсутствуют\n",
    "4. users:\n",
    "    - ['churn_date']:\n",
    "        * приведен к типу 'datetime'\n",
    "    - ['reg_date']:\n",
    "        * приведен к типу 'datetime'\n",
    "    - ['city', 'first_name', 'last_name']:\n",
    "        * лишние символы удалены\n",
    "        * преобразованы в нижний регистр\n",
    "    - ['tariff']:\n",
    "        * переименован в ['tariff_name']\n",
    "    - дубликаты отсутствуют\n",
    "5. создана таблица users_data содержащая данные об абонентах и условиях тарифного плана:\n",
    "    - дубликаты отсутствуют"
   ],
   "metadata": {
    "collapsed": false,
    "pycharm": {
     "name": "#%% md\n"
    }
   }
  },
  {
   "cell_type": "markdown",
   "source": [
    "<a id='calculations'></a>\n",
    "# Расчет #"
   ],
   "metadata": {
    "collapsed": false,
    "pycharm": {
     "name": "#%% md\n"
    }
   }
  },
  {
   "cell_type": "markdown",
   "source": [
    "<a id='calc_calls_minutes_bills'></a>\n",
    "## Расчет количества звонков, израсходованных минут, звонковой выручки ##"
   ],
   "metadata": {
    "collapsed": false,
    "pycharm": {
     "name": "#%% md\n"
    }
   }
  },
  {
   "cell_type": "code",
   "execution_count": 18,
   "outputs": [
    {
     "data": {
      "text/plain": "      user_id  month  calls_durations  calls_count\n0        1000      5              159           22\n1        1000      6              172           43\n2        1000      7              340           47\n3        1000      8              408           52\n4        1000      9              466           58\n...       ...    ...              ...          ...\n3169     1498     10              247           41\n3170     1499      9               70            9\n3171     1499     10              449           68\n3172     1499     11              612           74\n3173     1499     12              492           69\n\n[3174 rows x 4 columns]",
      "text/html": "<div>\n<style scoped>\n    .dataframe tbody tr th:only-of-type {\n        vertical-align: middle;\n    }\n\n    .dataframe tbody tr th {\n        vertical-align: top;\n    }\n\n    .dataframe thead th {\n        text-align: right;\n    }\n</style>\n<table border=\"1\" class=\"dataframe\">\n  <thead>\n    <tr style=\"text-align: right;\">\n      <th></th>\n      <th>user_id</th>\n      <th>month</th>\n      <th>calls_durations</th>\n      <th>calls_count</th>\n    </tr>\n  </thead>\n  <tbody>\n    <tr>\n      <th>0</th>\n      <td>1000</td>\n      <td>5</td>\n      <td>159</td>\n      <td>22</td>\n    </tr>\n    <tr>\n      <th>1</th>\n      <td>1000</td>\n      <td>6</td>\n      <td>172</td>\n      <td>43</td>\n    </tr>\n    <tr>\n      <th>2</th>\n      <td>1000</td>\n      <td>7</td>\n      <td>340</td>\n      <td>47</td>\n    </tr>\n    <tr>\n      <th>3</th>\n      <td>1000</td>\n      <td>8</td>\n      <td>408</td>\n      <td>52</td>\n    </tr>\n    <tr>\n      <th>4</th>\n      <td>1000</td>\n      <td>9</td>\n      <td>466</td>\n      <td>58</td>\n    </tr>\n    <tr>\n      <th>...</th>\n      <td>...</td>\n      <td>...</td>\n      <td>...</td>\n      <td>...</td>\n    </tr>\n    <tr>\n      <th>3169</th>\n      <td>1498</td>\n      <td>10</td>\n      <td>247</td>\n      <td>41</td>\n    </tr>\n    <tr>\n      <th>3170</th>\n      <td>1499</td>\n      <td>9</td>\n      <td>70</td>\n      <td>9</td>\n    </tr>\n    <tr>\n      <th>3171</th>\n      <td>1499</td>\n      <td>10</td>\n      <td>449</td>\n      <td>68</td>\n    </tr>\n    <tr>\n      <th>3172</th>\n      <td>1499</td>\n      <td>11</td>\n      <td>612</td>\n      <td>74</td>\n    </tr>\n    <tr>\n      <th>3173</th>\n      <td>1499</td>\n      <td>12</td>\n      <td>492</td>\n      <td>69</td>\n    </tr>\n  </tbody>\n</table>\n<p>3174 rows × 4 columns</p>\n</div>"
     },
     "execution_count": 18,
     "metadata": {},
     "output_type": "execute_result"
    }
   ],
   "source": [
    "calls['month'] = calls['call_date'].dt.month\n",
    "calls_pivot = pd.pivot_table(data=calls,\n",
    "                             index=['user_id','month'],\n",
    "                             values='duration',\n",
    "                             aggfunc=['sum', 'count'])\n",
    "calls_pivot.columns = ['calls_durations','calls_count']\n",
    "calls_pivot.reset_index(inplace=True)\n",
    "calls_pivot"
   ],
   "metadata": {
    "collapsed": false,
    "pycharm": {
     "name": "#%%\n"
    }
   }
  },
  {
   "cell_type": "code",
   "execution_count": 19,
   "outputs": [
    {
     "data": {
      "text/plain": "(3174, 4)"
     },
     "execution_count": 19,
     "metadata": {},
     "output_type": "execute_result"
    }
   ],
   "source": [
    "calls_pivot.shape"
   ],
   "metadata": {
    "collapsed": false,
    "pycharm": {
     "name": "#%%\n"
    }
   }
  },
  {
   "cell_type": "code",
   "execution_count": 20,
   "outputs": [],
   "source": [
    "revenue_data = users_data.merge(calls_pivot, on='user_id', how='left')"
   ],
   "metadata": {
    "collapsed": false,
    "pycharm": {
     "name": "#%%\n"
    }
   }
  },
  {
   "cell_type": "code",
   "execution_count": 21,
   "outputs": [],
   "source": [
    "def calls_revenue(rec):\n",
    "    if rec['calls_durations'] > rec['minutes_included']:\n",
    "        return (rec['calls_durations'] - rec['minutes_included']) * rec['rub_per_minute']\n",
    "    else: return 0"
   ],
   "metadata": {
    "collapsed": false,
    "pycharm": {
     "name": "#%%\n"
    }
   }
  },
  {
   "cell_type": "code",
   "execution_count": 22,
   "outputs": [],
   "source": [
    "revenue_data['calls_revenue'] = revenue_data.apply(calls_revenue, axis=1)"
   ],
   "metadata": {
    "collapsed": false,
    "pycharm": {
     "name": "#%%\n"
    }
   }
  },
  {
   "cell_type": "code",
   "execution_count": 23,
   "outputs": [
    {
     "data": {
      "text/plain": "      user_id  age churn_date         city first_name  last_name   reg_date  \\\n0        1000   52        NaT    краснодар     рафаил  верещагин 2018-05-25   \n1        1000   52        NaT    краснодар     рафаил  верещагин 2018-05-25   \n2        1000   52        NaT    краснодар     рафаил  верещагин 2018-05-25   \n3        1000   52        NaT    краснодар     рафаил  верещагин 2018-05-25   \n4        1000   52        NaT    краснодар     рафаил  верещагин 2018-05-25   \n...       ...  ...        ...          ...        ...        ...        ...   \n3177     1498   68 2018-10-25  владикавказ   всеволод    акимчин 2018-07-19   \n3178     1499   35        NaT        пермь     гектор   корнилов 2018-09-27   \n3179     1499   35        NaT        пермь     гектор   корнилов 2018-09-27   \n3180     1499   35        NaT        пермь     гектор   корнилов 2018-09-27   \n3181     1499   35        NaT        пермь     гектор   корнилов 2018-09-27   \n\n     tariff_name  messages_included  mb_per_month_included  minutes_included  \\\n0          ultra               1000                  30720              3000   \n1          ultra               1000                  30720              3000   \n2          ultra               1000                  30720              3000   \n3          ultra               1000                  30720              3000   \n4          ultra               1000                  30720              3000   \n...          ...                ...                    ...               ...   \n3177       smart                 50                  15360               500   \n3178       smart                 50                  15360               500   \n3179       smart                 50                  15360               500   \n3180       smart                 50                  15360               500   \n3181       smart                 50                  15360               500   \n\n      rub_monthly_fee  rub_per_gb  rub_per_message  rub_per_minute  month  \\\n0                1950         150                1               1    5.0   \n1                1950         150                1               1    6.0   \n2                1950         150                1               1    7.0   \n3                1950         150                1               1    8.0   \n4                1950         150                1               1    9.0   \n...               ...         ...              ...             ...    ...   \n3177              550         200                3               3   10.0   \n3178              550         200                3               3    9.0   \n3179              550         200                3               3   10.0   \n3180              550         200                3               3   11.0   \n3181              550         200                3               3   12.0   \n\n      calls_durations  calls_count  calls_revenue  \n0               159.0         22.0            0.0  \n1               172.0         43.0            0.0  \n2               340.0         47.0            0.0  \n3               408.0         52.0            0.0  \n4               466.0         58.0            0.0  \n...               ...          ...            ...  \n3177            247.0         41.0            0.0  \n3178             70.0          9.0            0.0  \n3179            449.0         68.0            0.0  \n3180            612.0         74.0          336.0  \n3181            492.0         69.0            0.0  \n\n[3182 rows x 19 columns]",
      "text/html": "<div>\n<style scoped>\n    .dataframe tbody tr th:only-of-type {\n        vertical-align: middle;\n    }\n\n    .dataframe tbody tr th {\n        vertical-align: top;\n    }\n\n    .dataframe thead th {\n        text-align: right;\n    }\n</style>\n<table border=\"1\" class=\"dataframe\">\n  <thead>\n    <tr style=\"text-align: right;\">\n      <th></th>\n      <th>user_id</th>\n      <th>age</th>\n      <th>churn_date</th>\n      <th>city</th>\n      <th>first_name</th>\n      <th>last_name</th>\n      <th>reg_date</th>\n      <th>tariff_name</th>\n      <th>messages_included</th>\n      <th>mb_per_month_included</th>\n      <th>minutes_included</th>\n      <th>rub_monthly_fee</th>\n      <th>rub_per_gb</th>\n      <th>rub_per_message</th>\n      <th>rub_per_minute</th>\n      <th>month</th>\n      <th>calls_durations</th>\n      <th>calls_count</th>\n      <th>calls_revenue</th>\n    </tr>\n  </thead>\n  <tbody>\n    <tr>\n      <th>0</th>\n      <td>1000</td>\n      <td>52</td>\n      <td>NaT</td>\n      <td>краснодар</td>\n      <td>рафаил</td>\n      <td>верещагин</td>\n      <td>2018-05-25</td>\n      <td>ultra</td>\n      <td>1000</td>\n      <td>30720</td>\n      <td>3000</td>\n      <td>1950</td>\n      <td>150</td>\n      <td>1</td>\n      <td>1</td>\n      <td>5.0</td>\n      <td>159.0</td>\n      <td>22.0</td>\n      <td>0.0</td>\n    </tr>\n    <tr>\n      <th>1</th>\n      <td>1000</td>\n      <td>52</td>\n      <td>NaT</td>\n      <td>краснодар</td>\n      <td>рафаил</td>\n      <td>верещагин</td>\n      <td>2018-05-25</td>\n      <td>ultra</td>\n      <td>1000</td>\n      <td>30720</td>\n      <td>3000</td>\n      <td>1950</td>\n      <td>150</td>\n      <td>1</td>\n      <td>1</td>\n      <td>6.0</td>\n      <td>172.0</td>\n      <td>43.0</td>\n      <td>0.0</td>\n    </tr>\n    <tr>\n      <th>2</th>\n      <td>1000</td>\n      <td>52</td>\n      <td>NaT</td>\n      <td>краснодар</td>\n      <td>рафаил</td>\n      <td>верещагин</td>\n      <td>2018-05-25</td>\n      <td>ultra</td>\n      <td>1000</td>\n      <td>30720</td>\n      <td>3000</td>\n      <td>1950</td>\n      <td>150</td>\n      <td>1</td>\n      <td>1</td>\n      <td>7.0</td>\n      <td>340.0</td>\n      <td>47.0</td>\n      <td>0.0</td>\n    </tr>\n    <tr>\n      <th>3</th>\n      <td>1000</td>\n      <td>52</td>\n      <td>NaT</td>\n      <td>краснодар</td>\n      <td>рафаил</td>\n      <td>верещагин</td>\n      <td>2018-05-25</td>\n      <td>ultra</td>\n      <td>1000</td>\n      <td>30720</td>\n      <td>3000</td>\n      <td>1950</td>\n      <td>150</td>\n      <td>1</td>\n      <td>1</td>\n      <td>8.0</td>\n      <td>408.0</td>\n      <td>52.0</td>\n      <td>0.0</td>\n    </tr>\n    <tr>\n      <th>4</th>\n      <td>1000</td>\n      <td>52</td>\n      <td>NaT</td>\n      <td>краснодар</td>\n      <td>рафаил</td>\n      <td>верещагин</td>\n      <td>2018-05-25</td>\n      <td>ultra</td>\n      <td>1000</td>\n      <td>30720</td>\n      <td>3000</td>\n      <td>1950</td>\n      <td>150</td>\n      <td>1</td>\n      <td>1</td>\n      <td>9.0</td>\n      <td>466.0</td>\n      <td>58.0</td>\n      <td>0.0</td>\n    </tr>\n    <tr>\n      <th>...</th>\n      <td>...</td>\n      <td>...</td>\n      <td>...</td>\n      <td>...</td>\n      <td>...</td>\n      <td>...</td>\n      <td>...</td>\n      <td>...</td>\n      <td>...</td>\n      <td>...</td>\n      <td>...</td>\n      <td>...</td>\n      <td>...</td>\n      <td>...</td>\n      <td>...</td>\n      <td>...</td>\n      <td>...</td>\n      <td>...</td>\n      <td>...</td>\n    </tr>\n    <tr>\n      <th>3177</th>\n      <td>1498</td>\n      <td>68</td>\n      <td>2018-10-25</td>\n      <td>владикавказ</td>\n      <td>всеволод</td>\n      <td>акимчин</td>\n      <td>2018-07-19</td>\n      <td>smart</td>\n      <td>50</td>\n      <td>15360</td>\n      <td>500</td>\n      <td>550</td>\n      <td>200</td>\n      <td>3</td>\n      <td>3</td>\n      <td>10.0</td>\n      <td>247.0</td>\n      <td>41.0</td>\n      <td>0.0</td>\n    </tr>\n    <tr>\n      <th>3178</th>\n      <td>1499</td>\n      <td>35</td>\n      <td>NaT</td>\n      <td>пермь</td>\n      <td>гектор</td>\n      <td>корнилов</td>\n      <td>2018-09-27</td>\n      <td>smart</td>\n      <td>50</td>\n      <td>15360</td>\n      <td>500</td>\n      <td>550</td>\n      <td>200</td>\n      <td>3</td>\n      <td>3</td>\n      <td>9.0</td>\n      <td>70.0</td>\n      <td>9.0</td>\n      <td>0.0</td>\n    </tr>\n    <tr>\n      <th>3179</th>\n      <td>1499</td>\n      <td>35</td>\n      <td>NaT</td>\n      <td>пермь</td>\n      <td>гектор</td>\n      <td>корнилов</td>\n      <td>2018-09-27</td>\n      <td>smart</td>\n      <td>50</td>\n      <td>15360</td>\n      <td>500</td>\n      <td>550</td>\n      <td>200</td>\n      <td>3</td>\n      <td>3</td>\n      <td>10.0</td>\n      <td>449.0</td>\n      <td>68.0</td>\n      <td>0.0</td>\n    </tr>\n    <tr>\n      <th>3180</th>\n      <td>1499</td>\n      <td>35</td>\n      <td>NaT</td>\n      <td>пермь</td>\n      <td>гектор</td>\n      <td>корнилов</td>\n      <td>2018-09-27</td>\n      <td>smart</td>\n      <td>50</td>\n      <td>15360</td>\n      <td>500</td>\n      <td>550</td>\n      <td>200</td>\n      <td>3</td>\n      <td>3</td>\n      <td>11.0</td>\n      <td>612.0</td>\n      <td>74.0</td>\n      <td>336.0</td>\n    </tr>\n    <tr>\n      <th>3181</th>\n      <td>1499</td>\n      <td>35</td>\n      <td>NaT</td>\n      <td>пермь</td>\n      <td>гектор</td>\n      <td>корнилов</td>\n      <td>2018-09-27</td>\n      <td>smart</td>\n      <td>50</td>\n      <td>15360</td>\n      <td>500</td>\n      <td>550</td>\n      <td>200</td>\n      <td>3</td>\n      <td>3</td>\n      <td>12.0</td>\n      <td>492.0</td>\n      <td>69.0</td>\n      <td>0.0</td>\n    </tr>\n  </tbody>\n</table>\n<p>3182 rows × 19 columns</p>\n</div>"
     },
     "execution_count": 23,
     "metadata": {},
     "output_type": "execute_result"
    }
   ],
   "source": [
    "revenue_data"
   ],
   "metadata": {
    "collapsed": false,
    "pycharm": {
     "name": "#%%\n"
    }
   }
  },
  {
   "cell_type": "markdown",
   "source": [
    "<a id='calc_messages_bills'></a>\n",
    "## Расчет количества отправленных сообщений, выручки от сообщений ##"
   ],
   "metadata": {
    "collapsed": false,
    "pycharm": {
     "name": "#%% md\n"
    }
   }
  },
  {
   "cell_type": "code",
   "execution_count": 24,
   "outputs": [
    {
     "data": {
      "text/plain": "      user_id  month  messages_count\n0        1000      5              22\n1        1000      6              60\n2        1000      7              75\n3        1000      8              81\n4        1000      9              57\n...       ...    ...             ...\n2712     1498     10              42\n2713     1499      9              11\n2714     1499     10              48\n2715     1499     11              59\n2716     1499     12              66\n\n[2717 rows x 3 columns]",
      "text/html": "<div>\n<style scoped>\n    .dataframe tbody tr th:only-of-type {\n        vertical-align: middle;\n    }\n\n    .dataframe tbody tr th {\n        vertical-align: top;\n    }\n\n    .dataframe thead th {\n        text-align: right;\n    }\n</style>\n<table border=\"1\" class=\"dataframe\">\n  <thead>\n    <tr style=\"text-align: right;\">\n      <th></th>\n      <th>user_id</th>\n      <th>month</th>\n      <th>messages_count</th>\n    </tr>\n  </thead>\n  <tbody>\n    <tr>\n      <th>0</th>\n      <td>1000</td>\n      <td>5</td>\n      <td>22</td>\n    </tr>\n    <tr>\n      <th>1</th>\n      <td>1000</td>\n      <td>6</td>\n      <td>60</td>\n    </tr>\n    <tr>\n      <th>2</th>\n      <td>1000</td>\n      <td>7</td>\n      <td>75</td>\n    </tr>\n    <tr>\n      <th>3</th>\n      <td>1000</td>\n      <td>8</td>\n      <td>81</td>\n    </tr>\n    <tr>\n      <th>4</th>\n      <td>1000</td>\n      <td>9</td>\n      <td>57</td>\n    </tr>\n    <tr>\n      <th>...</th>\n      <td>...</td>\n      <td>...</td>\n      <td>...</td>\n    </tr>\n    <tr>\n      <th>2712</th>\n      <td>1498</td>\n      <td>10</td>\n      <td>42</td>\n    </tr>\n    <tr>\n      <th>2713</th>\n      <td>1499</td>\n      <td>9</td>\n      <td>11</td>\n    </tr>\n    <tr>\n      <th>2714</th>\n      <td>1499</td>\n      <td>10</td>\n      <td>48</td>\n    </tr>\n    <tr>\n      <th>2715</th>\n      <td>1499</td>\n      <td>11</td>\n      <td>59</td>\n    </tr>\n    <tr>\n      <th>2716</th>\n      <td>1499</td>\n      <td>12</td>\n      <td>66</td>\n    </tr>\n  </tbody>\n</table>\n<p>2717 rows × 3 columns</p>\n</div>"
     },
     "execution_count": 24,
     "metadata": {},
     "output_type": "execute_result"
    }
   ],
   "source": [
    "messages['month'] = messages['message_date'].dt.month\n",
    "messages_pivot = pd.pivot_table(data=messages,\n",
    "                                index=['user_id', 'month'],\n",
    "                                values='message_date',\n",
    "                                aggfunc='count')\n",
    "messages_pivot.columns = ['messages_count']\n",
    "messages_pivot.reset_index(inplace=True)\n",
    "messages_pivot"
   ],
   "metadata": {
    "collapsed": false,
    "pycharm": {
     "name": "#%%\n"
    }
   }
  },
  {
   "cell_type": "code",
   "execution_count": 25,
   "outputs": [
    {
     "data": {
      "text/plain": "(2717, 3)"
     },
     "execution_count": 25,
     "metadata": {},
     "output_type": "execute_result"
    }
   ],
   "source": [
    "messages_pivot.shape"
   ],
   "metadata": {
    "collapsed": false,
    "pycharm": {
     "name": "#%%\n"
    }
   }
  },
  {
   "cell_type": "code",
   "execution_count": 26,
   "outputs": [
    {
     "data": {
      "text/plain": "(3182, 20)"
     },
     "execution_count": 26,
     "metadata": {},
     "output_type": "execute_result"
    }
   ],
   "source": [
    "revenue_data = revenue_data.merge(messages_pivot, on=['user_id','month'], how='left')\n",
    "revenue_data.shape"
   ],
   "metadata": {
    "collapsed": false,
    "pycharm": {
     "name": "#%%\n"
    }
   }
  },
  {
   "cell_type": "code",
   "execution_count": 27,
   "outputs": [],
   "source": [
    "def messages_revenue(rec):\n",
    "    if rec['messages_count'] > rec['messages_included']:\n",
    "        return (rec['messages_count'] - rec['messages_included']) * rec['rub_per_message']\n",
    "    else: return 0"
   ],
   "metadata": {
    "collapsed": false,
    "pycharm": {
     "name": "#%%\n"
    }
   }
  },
  {
   "cell_type": "code",
   "execution_count": 28,
   "outputs": [
    {
     "data": {
      "text/plain": "      user_id  age churn_date         city first_name  last_name   reg_date  \\\n0        1000   52        NaT    краснодар     рафаил  верещагин 2018-05-25   \n1        1000   52        NaT    краснодар     рафаил  верещагин 2018-05-25   \n2        1000   52        NaT    краснодар     рафаил  верещагин 2018-05-25   \n3        1000   52        NaT    краснодар     рафаил  верещагин 2018-05-25   \n4        1000   52        NaT    краснодар     рафаил  верещагин 2018-05-25   \n...       ...  ...        ...          ...        ...        ...        ...   \n3177     1498   68 2018-10-25  владикавказ   всеволод    акимчин 2018-07-19   \n3178     1499   35        NaT        пермь     гектор   корнилов 2018-09-27   \n3179     1499   35        NaT        пермь     гектор   корнилов 2018-09-27   \n3180     1499   35        NaT        пермь     гектор   корнилов 2018-09-27   \n3181     1499   35        NaT        пермь     гектор   корнилов 2018-09-27   \n\n     tariff_name  messages_included  mb_per_month_included  ...  \\\n0          ultra               1000                  30720  ...   \n1          ultra               1000                  30720  ...   \n2          ultra               1000                  30720  ...   \n3          ultra               1000                  30720  ...   \n4          ultra               1000                  30720  ...   \n...          ...                ...                    ...  ...   \n3177       smart                 50                  15360  ...   \n3178       smart                 50                  15360  ...   \n3179       smart                 50                  15360  ...   \n3180       smart                 50                  15360  ...   \n3181       smart                 50                  15360  ...   \n\n      rub_monthly_fee  rub_per_gb  rub_per_message  rub_per_minute  month  \\\n0                1950         150                1               1    5.0   \n1                1950         150                1               1    6.0   \n2                1950         150                1               1    7.0   \n3                1950         150                1               1    8.0   \n4                1950         150                1               1    9.0   \n...               ...         ...              ...             ...    ...   \n3177              550         200                3               3   10.0   \n3178              550         200                3               3    9.0   \n3179              550         200                3               3   10.0   \n3180              550         200                3               3   11.0   \n3181              550         200                3               3   12.0   \n\n      calls_durations  calls_count  calls_revenue  messages_count  \\\n0               159.0         22.0            0.0            22.0   \n1               172.0         43.0            0.0            60.0   \n2               340.0         47.0            0.0            75.0   \n3               408.0         52.0            0.0            81.0   \n4               466.0         58.0            0.0            57.0   \n...               ...          ...            ...             ...   \n3177            247.0         41.0            0.0            42.0   \n3178             70.0          9.0            0.0            11.0   \n3179            449.0         68.0            0.0            48.0   \n3180            612.0         74.0          336.0            59.0   \n3181            492.0         69.0            0.0            66.0   \n\n      messages_revenue  \n0                  0.0  \n1                  0.0  \n2                  0.0  \n3                  0.0  \n4                  0.0  \n...                ...  \n3177               0.0  \n3178               0.0  \n3179               0.0  \n3180              27.0  \n3181              48.0  \n\n[3182 rows x 21 columns]",
      "text/html": "<div>\n<style scoped>\n    .dataframe tbody tr th:only-of-type {\n        vertical-align: middle;\n    }\n\n    .dataframe tbody tr th {\n        vertical-align: top;\n    }\n\n    .dataframe thead th {\n        text-align: right;\n    }\n</style>\n<table border=\"1\" class=\"dataframe\">\n  <thead>\n    <tr style=\"text-align: right;\">\n      <th></th>\n      <th>user_id</th>\n      <th>age</th>\n      <th>churn_date</th>\n      <th>city</th>\n      <th>first_name</th>\n      <th>last_name</th>\n      <th>reg_date</th>\n      <th>tariff_name</th>\n      <th>messages_included</th>\n      <th>mb_per_month_included</th>\n      <th>...</th>\n      <th>rub_monthly_fee</th>\n      <th>rub_per_gb</th>\n      <th>rub_per_message</th>\n      <th>rub_per_minute</th>\n      <th>month</th>\n      <th>calls_durations</th>\n      <th>calls_count</th>\n      <th>calls_revenue</th>\n      <th>messages_count</th>\n      <th>messages_revenue</th>\n    </tr>\n  </thead>\n  <tbody>\n    <tr>\n      <th>0</th>\n      <td>1000</td>\n      <td>52</td>\n      <td>NaT</td>\n      <td>краснодар</td>\n      <td>рафаил</td>\n      <td>верещагин</td>\n      <td>2018-05-25</td>\n      <td>ultra</td>\n      <td>1000</td>\n      <td>30720</td>\n      <td>...</td>\n      <td>1950</td>\n      <td>150</td>\n      <td>1</td>\n      <td>1</td>\n      <td>5.0</td>\n      <td>159.0</td>\n      <td>22.0</td>\n      <td>0.0</td>\n      <td>22.0</td>\n      <td>0.0</td>\n    </tr>\n    <tr>\n      <th>1</th>\n      <td>1000</td>\n      <td>52</td>\n      <td>NaT</td>\n      <td>краснодар</td>\n      <td>рафаил</td>\n      <td>верещагин</td>\n      <td>2018-05-25</td>\n      <td>ultra</td>\n      <td>1000</td>\n      <td>30720</td>\n      <td>...</td>\n      <td>1950</td>\n      <td>150</td>\n      <td>1</td>\n      <td>1</td>\n      <td>6.0</td>\n      <td>172.0</td>\n      <td>43.0</td>\n      <td>0.0</td>\n      <td>60.0</td>\n      <td>0.0</td>\n    </tr>\n    <tr>\n      <th>2</th>\n      <td>1000</td>\n      <td>52</td>\n      <td>NaT</td>\n      <td>краснодар</td>\n      <td>рафаил</td>\n      <td>верещагин</td>\n      <td>2018-05-25</td>\n      <td>ultra</td>\n      <td>1000</td>\n      <td>30720</td>\n      <td>...</td>\n      <td>1950</td>\n      <td>150</td>\n      <td>1</td>\n      <td>1</td>\n      <td>7.0</td>\n      <td>340.0</td>\n      <td>47.0</td>\n      <td>0.0</td>\n      <td>75.0</td>\n      <td>0.0</td>\n    </tr>\n    <tr>\n      <th>3</th>\n      <td>1000</td>\n      <td>52</td>\n      <td>NaT</td>\n      <td>краснодар</td>\n      <td>рафаил</td>\n      <td>верещагин</td>\n      <td>2018-05-25</td>\n      <td>ultra</td>\n      <td>1000</td>\n      <td>30720</td>\n      <td>...</td>\n      <td>1950</td>\n      <td>150</td>\n      <td>1</td>\n      <td>1</td>\n      <td>8.0</td>\n      <td>408.0</td>\n      <td>52.0</td>\n      <td>0.0</td>\n      <td>81.0</td>\n      <td>0.0</td>\n    </tr>\n    <tr>\n      <th>4</th>\n      <td>1000</td>\n      <td>52</td>\n      <td>NaT</td>\n      <td>краснодар</td>\n      <td>рафаил</td>\n      <td>верещагин</td>\n      <td>2018-05-25</td>\n      <td>ultra</td>\n      <td>1000</td>\n      <td>30720</td>\n      <td>...</td>\n      <td>1950</td>\n      <td>150</td>\n      <td>1</td>\n      <td>1</td>\n      <td>9.0</td>\n      <td>466.0</td>\n      <td>58.0</td>\n      <td>0.0</td>\n      <td>57.0</td>\n      <td>0.0</td>\n    </tr>\n    <tr>\n      <th>...</th>\n      <td>...</td>\n      <td>...</td>\n      <td>...</td>\n      <td>...</td>\n      <td>...</td>\n      <td>...</td>\n      <td>...</td>\n      <td>...</td>\n      <td>...</td>\n      <td>...</td>\n      <td>...</td>\n      <td>...</td>\n      <td>...</td>\n      <td>...</td>\n      <td>...</td>\n      <td>...</td>\n      <td>...</td>\n      <td>...</td>\n      <td>...</td>\n      <td>...</td>\n      <td>...</td>\n    </tr>\n    <tr>\n      <th>3177</th>\n      <td>1498</td>\n      <td>68</td>\n      <td>2018-10-25</td>\n      <td>владикавказ</td>\n      <td>всеволод</td>\n      <td>акимчин</td>\n      <td>2018-07-19</td>\n      <td>smart</td>\n      <td>50</td>\n      <td>15360</td>\n      <td>...</td>\n      <td>550</td>\n      <td>200</td>\n      <td>3</td>\n      <td>3</td>\n      <td>10.0</td>\n      <td>247.0</td>\n      <td>41.0</td>\n      <td>0.0</td>\n      <td>42.0</td>\n      <td>0.0</td>\n    </tr>\n    <tr>\n      <th>3178</th>\n      <td>1499</td>\n      <td>35</td>\n      <td>NaT</td>\n      <td>пермь</td>\n      <td>гектор</td>\n      <td>корнилов</td>\n      <td>2018-09-27</td>\n      <td>smart</td>\n      <td>50</td>\n      <td>15360</td>\n      <td>...</td>\n      <td>550</td>\n      <td>200</td>\n      <td>3</td>\n      <td>3</td>\n      <td>9.0</td>\n      <td>70.0</td>\n      <td>9.0</td>\n      <td>0.0</td>\n      <td>11.0</td>\n      <td>0.0</td>\n    </tr>\n    <tr>\n      <th>3179</th>\n      <td>1499</td>\n      <td>35</td>\n      <td>NaT</td>\n      <td>пермь</td>\n      <td>гектор</td>\n      <td>корнилов</td>\n      <td>2018-09-27</td>\n      <td>smart</td>\n      <td>50</td>\n      <td>15360</td>\n      <td>...</td>\n      <td>550</td>\n      <td>200</td>\n      <td>3</td>\n      <td>3</td>\n      <td>10.0</td>\n      <td>449.0</td>\n      <td>68.0</td>\n      <td>0.0</td>\n      <td>48.0</td>\n      <td>0.0</td>\n    </tr>\n    <tr>\n      <th>3180</th>\n      <td>1499</td>\n      <td>35</td>\n      <td>NaT</td>\n      <td>пермь</td>\n      <td>гектор</td>\n      <td>корнилов</td>\n      <td>2018-09-27</td>\n      <td>smart</td>\n      <td>50</td>\n      <td>15360</td>\n      <td>...</td>\n      <td>550</td>\n      <td>200</td>\n      <td>3</td>\n      <td>3</td>\n      <td>11.0</td>\n      <td>612.0</td>\n      <td>74.0</td>\n      <td>336.0</td>\n      <td>59.0</td>\n      <td>27.0</td>\n    </tr>\n    <tr>\n      <th>3181</th>\n      <td>1499</td>\n      <td>35</td>\n      <td>NaT</td>\n      <td>пермь</td>\n      <td>гектор</td>\n      <td>корнилов</td>\n      <td>2018-09-27</td>\n      <td>smart</td>\n      <td>50</td>\n      <td>15360</td>\n      <td>...</td>\n      <td>550</td>\n      <td>200</td>\n      <td>3</td>\n      <td>3</td>\n      <td>12.0</td>\n      <td>492.0</td>\n      <td>69.0</td>\n      <td>0.0</td>\n      <td>66.0</td>\n      <td>48.0</td>\n    </tr>\n  </tbody>\n</table>\n<p>3182 rows × 21 columns</p>\n</div>"
     },
     "execution_count": 28,
     "metadata": {},
     "output_type": "execute_result"
    }
   ],
   "source": [
    "revenue_data['messages_revenue'] = revenue_data.apply(messages_revenue, axis=1)\n",
    "revenue_data"
   ],
   "metadata": {
    "collapsed": false,
    "pycharm": {
     "name": "#%%\n"
    }
   }
  },
  {
   "cell_type": "markdown",
   "source": [
    "<a id='calc_internet_bills'></a>\n",
    "## Расчет количества потребленного трафика, выручка от интренет-трафика ##"
   ],
   "metadata": {
    "collapsed": false
   }
  },
  {
   "cell_type": "code",
   "execution_count": 29,
   "outputs": [
    {
     "data": {
      "text/plain": "      user_id  month  gb_used\n0        1000      5        3\n1        1000      6       23\n2        1000      7       14\n3        1000      8       14\n4        1000      9       15\n...       ...    ...      ...\n3198     1498     10       21\n3199     1499      9        2\n3200     1499     10       18\n3201     1499     11       18\n3202     1499     12       13\n\n[3203 rows x 3 columns]",
      "text/html": "<div>\n<style scoped>\n    .dataframe tbody tr th:only-of-type {\n        vertical-align: middle;\n    }\n\n    .dataframe tbody tr th {\n        vertical-align: top;\n    }\n\n    .dataframe thead th {\n        text-align: right;\n    }\n</style>\n<table border=\"1\" class=\"dataframe\">\n  <thead>\n    <tr style=\"text-align: right;\">\n      <th></th>\n      <th>user_id</th>\n      <th>month</th>\n      <th>gb_used</th>\n    </tr>\n  </thead>\n  <tbody>\n    <tr>\n      <th>0</th>\n      <td>1000</td>\n      <td>5</td>\n      <td>3</td>\n    </tr>\n    <tr>\n      <th>1</th>\n      <td>1000</td>\n      <td>6</td>\n      <td>23</td>\n    </tr>\n    <tr>\n      <th>2</th>\n      <td>1000</td>\n      <td>7</td>\n      <td>14</td>\n    </tr>\n    <tr>\n      <th>3</th>\n      <td>1000</td>\n      <td>8</td>\n      <td>14</td>\n    </tr>\n    <tr>\n      <th>4</th>\n      <td>1000</td>\n      <td>9</td>\n      <td>15</td>\n    </tr>\n    <tr>\n      <th>...</th>\n      <td>...</td>\n      <td>...</td>\n      <td>...</td>\n    </tr>\n    <tr>\n      <th>3198</th>\n      <td>1498</td>\n      <td>10</td>\n      <td>21</td>\n    </tr>\n    <tr>\n      <th>3199</th>\n      <td>1499</td>\n      <td>9</td>\n      <td>2</td>\n    </tr>\n    <tr>\n      <th>3200</th>\n      <td>1499</td>\n      <td>10</td>\n      <td>18</td>\n    </tr>\n    <tr>\n      <th>3201</th>\n      <td>1499</td>\n      <td>11</td>\n      <td>18</td>\n    </tr>\n    <tr>\n      <th>3202</th>\n      <td>1499</td>\n      <td>12</td>\n      <td>13</td>\n    </tr>\n  </tbody>\n</table>\n<p>3203 rows × 3 columns</p>\n</div>"
     },
     "execution_count": 29,
     "metadata": {},
     "output_type": "execute_result"
    }
   ],
   "source": [
    "internet['month'] = internet['session_date'].dt.month\n",
    "internet_pivot = pd.pivot_table(data=internet,\n",
    "                                index=['user_id', 'month'],\n",
    "                                values='mb_used',\n",
    "                                aggfunc='sum')\n",
    "internet_pivot.columns = ['gb_used']\n",
    "internet_pivot['gb_used'] = internet_pivot['gb_used'] / 1024\n",
    "internet_pivot['gb_used'] = internet_pivot['gb_used'].apply(mt.ceil)\n",
    "internet_pivot.reset_index(inplace=True)\n",
    "internet_pivot"
   ],
   "metadata": {
    "collapsed": false,
    "pycharm": {
     "name": "#%%\n"
    }
   }
  },
  {
   "cell_type": "code",
   "execution_count": 30,
   "outputs": [
    {
     "data": {
      "text/plain": "(3203, 3)"
     },
     "execution_count": 30,
     "metadata": {},
     "output_type": "execute_result"
    }
   ],
   "source": [
    "internet_pivot.shape"
   ],
   "metadata": {
    "collapsed": false,
    "pycharm": {
     "name": "#%%\n"
    }
   }
  },
  {
   "cell_type": "code",
   "execution_count": 31,
   "outputs": [
    {
     "data": {
      "text/plain": "(3182, 22)"
     },
     "execution_count": 31,
     "metadata": {},
     "output_type": "execute_result"
    }
   ],
   "source": [
    "revenue_data = revenue_data.merge(internet_pivot, on=['user_id', 'month'], how='left')\n",
    "revenue_data.shape"
   ],
   "metadata": {
    "collapsed": false,
    "pycharm": {
     "name": "#%%\n"
    }
   }
  },
  {
   "cell_type": "code",
   "execution_count": 32,
   "outputs": [],
   "source": [
    "def interet_revenue(rec):\n",
    "    if rec['gb_used'] > rec['mb_per_month_included'] / 1024:\n",
    "        return (rec['gb_used'] - rec['mb_per_month_included'] / 1024) * rec['rub_per_gb']\n",
    "    else: return 0"
   ],
   "metadata": {
    "collapsed": false,
    "pycharm": {
     "name": "#%%\n"
    }
   }
  },
  {
   "cell_type": "markdown",
   "source": [
    "<a id='calc_total_revenue'></a>\n",
    "## Расчет выручки ##"
   ],
   "metadata": {
    "collapsed": false,
    "pycharm": {
     "name": "#%% md\n"
    }
   }
  },
  {
   "cell_type": "code",
   "execution_count": 33,
   "outputs": [],
   "source": [
    "revenue_data['internet_revenue'] = revenue_data.apply(interet_revenue, axis=1)"
   ],
   "metadata": {
    "collapsed": false,
    "pycharm": {
     "name": "#%%\n"
    }
   }
  },
  {
   "cell_type": "code",
   "execution_count": 34,
   "outputs": [
    {
     "name": "stdout",
     "output_type": "stream",
     "text": [
      "<class 'pandas.core.frame.DataFrame'>\n",
      "Int64Index: 3182 entries, 0 to 3181\n",
      "Data columns (total 23 columns):\n",
      " #   Column                 Non-Null Count  Dtype         \n",
      "---  ------                 --------------  -----         \n",
      " 0   user_id                3182 non-null   int64         \n",
      " 1   age                    3182 non-null   int64         \n",
      " 2   churn_date             189 non-null    datetime64[ns]\n",
      " 3   city                   3182 non-null   object        \n",
      " 4   first_name             3182 non-null   object        \n",
      " 5   last_name              3182 non-null   object        \n",
      " 6   reg_date               3182 non-null   datetime64[ns]\n",
      " 7   tariff_name            3182 non-null   object        \n",
      " 8   messages_included      3182 non-null   int64         \n",
      " 9   mb_per_month_included  3182 non-null   int64         \n",
      " 10  minutes_included       3182 non-null   int64         \n",
      " 11  rub_monthly_fee        3182 non-null   int64         \n",
      " 12  rub_per_gb             3182 non-null   int64         \n",
      " 13  rub_per_message        3182 non-null   int64         \n",
      " 14  rub_per_minute         3182 non-null   int64         \n",
      " 15  month                  3174 non-null   float64       \n",
      " 16  calls_durations        3174 non-null   float64       \n",
      " 17  calls_count            3174 non-null   float64       \n",
      " 18  calls_revenue          3182 non-null   float64       \n",
      " 19  messages_count         2678 non-null   float64       \n",
      " 20  messages_revenue       3182 non-null   float64       \n",
      " 21  gb_used                3163 non-null   float64       \n",
      " 22  internet_revenue       3182 non-null   float64       \n",
      "dtypes: datetime64[ns](2), float64(8), int64(9), object(4)\n",
      "memory usage: 596.6+ KB\n"
     ]
    }
   ],
   "source": [
    "revenue_data.info()"
   ],
   "metadata": {
    "collapsed": false,
    "pycharm": {
     "name": "#%%\n"
    }
   }
  },
  {
   "cell_type": "code",
   "execution_count": 35,
   "outputs": [],
   "source": [
    "revenue_data['total_revenue'] = revenue_data['internet_revenue'] + revenue_data['calls_revenue'] + revenue_data['messages_revenue'] + revenue_data['rub_monthly_fee']"
   ],
   "metadata": {
    "collapsed": false,
    "pycharm": {
     "name": "#%%\n"
    }
   }
  },
  {
   "cell_type": "code",
   "execution_count": 36,
   "outputs": [
    {
     "data": {
      "text/plain": "      total_revenue  internet_revenue  calls_revenue  messages_revenue  \\\n1633         1550.0            1000.0            0.0               0.0   \n2784         1350.0             800.0            0.0               0.0   \n2786         1150.0             600.0            0.0               0.0   \n2229         1907.0            1000.0          357.0               0.0   \n1311         1550.0            1000.0            0.0               0.0   \n\n      rub_monthly_fee  \n1633              550  \n2784              550  \n2786              550  \n2229              550  \n1311              550  ",
      "text/html": "<div>\n<style scoped>\n    .dataframe tbody tr th:only-of-type {\n        vertical-align: middle;\n    }\n\n    .dataframe tbody tr th {\n        vertical-align: top;\n    }\n\n    .dataframe thead th {\n        text-align: right;\n    }\n</style>\n<table border=\"1\" class=\"dataframe\">\n  <thead>\n    <tr style=\"text-align: right;\">\n      <th></th>\n      <th>total_revenue</th>\n      <th>internet_revenue</th>\n      <th>calls_revenue</th>\n      <th>messages_revenue</th>\n      <th>rub_monthly_fee</th>\n    </tr>\n  </thead>\n  <tbody>\n    <tr>\n      <th>1633</th>\n      <td>1550.0</td>\n      <td>1000.0</td>\n      <td>0.0</td>\n      <td>0.0</td>\n      <td>550</td>\n    </tr>\n    <tr>\n      <th>2784</th>\n      <td>1350.0</td>\n      <td>800.0</td>\n      <td>0.0</td>\n      <td>0.0</td>\n      <td>550</td>\n    </tr>\n    <tr>\n      <th>2786</th>\n      <td>1150.0</td>\n      <td>600.0</td>\n      <td>0.0</td>\n      <td>0.0</td>\n      <td>550</td>\n    </tr>\n    <tr>\n      <th>2229</th>\n      <td>1907.0</td>\n      <td>1000.0</td>\n      <td>357.0</td>\n      <td>0.0</td>\n      <td>550</td>\n    </tr>\n    <tr>\n      <th>1311</th>\n      <td>1550.0</td>\n      <td>1000.0</td>\n      <td>0.0</td>\n      <td>0.0</td>\n      <td>550</td>\n    </tr>\n  </tbody>\n</table>\n</div>"
     },
     "execution_count": 36,
     "metadata": {},
     "output_type": "execute_result"
    }
   ],
   "source": [
    "revenue_data[['total_revenue', 'internet_revenue', 'calls_revenue', 'messages_revenue', 'rub_monthly_fee']].sample(5)"
   ],
   "metadata": {
    "collapsed": false,
    "pycharm": {
     "name": "#%%\n"
    }
   }
  },
  {
   "cell_type": "markdown",
   "source": [
    "# Итоги проведения расчетов #\n",
    "1. звонки\n",
    "    - расчет количества звонков сохранен в revenue_data['calls_count']\n",
    "    - длительность совершенных звонков сохранена в revenue_data['calls_durations']\n",
    "    - звонковая выручка сохранена в revenue_data['calls_revenue']\n",
    "2. соощения:\n",
    "    - расчет количества сообщений сохранен в revenue_data['messages_count']\n",
    "    - выручка от сообщений сохранена в revenue_data['messages_revenue']\n",
    "3. интернет:\n",
    "    - расчет потребленного объема трафика сохранен в revenue_data['gb_used']\n",
    "    - выручка от интернет-трафика сохранена в revenue_data['internet_revenue']\n",
    "4. итоговая выручка сохранена в revenue_data['total_revenue']"
   ],
   "metadata": {
    "collapsed": false,
    "pycharm": {
     "name": "#%% md\n"
    }
   }
  },
  {
   "cell_type": "markdown",
   "source": [
    "<a id='analyze'></a>\n",
    "# Анализ #"
   ],
   "metadata": {
    "collapsed": false,
    "pycharm": {
     "name": "#%% md\n"
    }
   }
  },
  {
   "cell_type": "markdown",
   "source": [
    "<a id='analyze_stats'></a>\n",
    "## Статистические данные тарифных планов ##"
   ],
   "metadata": {
    "collapsed": false,
    "pycharm": {
     "name": "#%% md\n"
    }
   }
  },
  {
   "cell_type": "code",
   "execution_count": 37,
   "outputs": [
    {
     "data": {
      "text/plain": "                        std                                         \\\n            calls_durations   gb_used messages_count total_revenue   \ntariff_name                                                          \nsmart            189.325618  5.743447      26.817396    819.052589   \nultra            306.925754  9.735407      44.716597    378.351486   \n\n                        var                                           \\\n            calls_durations    gb_used messages_count  total_revenue   \ntariff_name                                                            \nsmart          35844.189551  32.987179     719.172709  670847.143071   \nultra          94203.418396  94.778156    1999.574067  143149.847195   \n\n                       mean                                          \n            calls_durations    gb_used messages_count total_revenue  \ntariff_name                                                          \nsmart            419.062978  16.337084      38.747390   1290.225169  \nultra            545.451104  19.695005      61.195538   2070.219436  ",
      "text/html": "<div>\n<style scoped>\n    .dataframe tbody tr th:only-of-type {\n        vertical-align: middle;\n    }\n\n    .dataframe tbody tr th {\n        vertical-align: top;\n    }\n\n    .dataframe thead tr th {\n        text-align: left;\n    }\n\n    .dataframe thead tr:last-of-type th {\n        text-align: right;\n    }\n</style>\n<table border=\"1\" class=\"dataframe\">\n  <thead>\n    <tr>\n      <th></th>\n      <th colspan=\"4\" halign=\"left\">std</th>\n      <th colspan=\"4\" halign=\"left\">var</th>\n      <th colspan=\"4\" halign=\"left\">mean</th>\n    </tr>\n    <tr>\n      <th></th>\n      <th>calls_durations</th>\n      <th>gb_used</th>\n      <th>messages_count</th>\n      <th>total_revenue</th>\n      <th>calls_durations</th>\n      <th>gb_used</th>\n      <th>messages_count</th>\n      <th>total_revenue</th>\n      <th>calls_durations</th>\n      <th>gb_used</th>\n      <th>messages_count</th>\n      <th>total_revenue</th>\n    </tr>\n    <tr>\n      <th>tariff_name</th>\n      <th></th>\n      <th></th>\n      <th></th>\n      <th></th>\n      <th></th>\n      <th></th>\n      <th></th>\n      <th></th>\n      <th></th>\n      <th></th>\n      <th></th>\n      <th></th>\n    </tr>\n  </thead>\n  <tbody>\n    <tr>\n      <th>smart</th>\n      <td>189.325618</td>\n      <td>5.743447</td>\n      <td>26.817396</td>\n      <td>819.052589</td>\n      <td>35844.189551</td>\n      <td>32.987179</td>\n      <td>719.172709</td>\n      <td>670847.143071</td>\n      <td>419.062978</td>\n      <td>16.337084</td>\n      <td>38.747390</td>\n      <td>1290.225169</td>\n    </tr>\n    <tr>\n      <th>ultra</th>\n      <td>306.925754</td>\n      <td>9.735407</td>\n      <td>44.716597</td>\n      <td>378.351486</td>\n      <td>94203.418396</td>\n      <td>94.778156</td>\n      <td>1999.574067</td>\n      <td>143149.847195</td>\n      <td>545.451104</td>\n      <td>19.695005</td>\n      <td>61.195538</td>\n      <td>2070.219436</td>\n    </tr>\n  </tbody>\n</table>\n</div>"
     },
     "execution_count": 37,
     "metadata": {},
     "output_type": "execute_result"
    }
   ],
   "source": [
    "stat_data = pd.pivot_table(data=revenue_data,\n",
    "                           index=revenue_data['tariff_name'],\n",
    "                           values=['calls_durations', 'messages_count', 'gb_used', 'total_revenue'],\n",
    "                           aggfunc=[lambda x:np.std(x,ddof=1)])\n",
    "stat_data = stat_data.rename(columns={'<lambda>':'std'})\n",
    "\n",
    "stat_data = stat_data.merge(pd.pivot_table(data=revenue_data,\n",
    "                           index=revenue_data['tariff_name'],\n",
    "                           values=['calls_durations', 'messages_count', 'gb_used', 'total_revenue'],\n",
    "                           aggfunc=[lambda x:np.var(x,ddof=1)]),\n",
    "                on='tariff_name')\n",
    "stat_data = stat_data.rename(columns={'<lambda>':'var'})\n",
    "\n",
    "stat_data = stat_data.merge(pd.pivot_table(data=revenue_data,\n",
    "                           index=revenue_data['tariff_name'],\n",
    "                           values=['calls_durations', 'messages_count', 'gb_used', 'total_revenue'],\n",
    "                           aggfunc=[lambda x:np.mean(x)]),\n",
    "                on='tariff_name')\n",
    "stat_data = stat_data.rename(columns={'<lambda>':'mean'})\n",
    "stat_data"
   ],
   "metadata": {
    "collapsed": false,
    "pycharm": {
     "name": "#%%\n"
    }
   }
  },
  {
   "cell_type": "markdown",
   "source": [
    "<a id='analyze_calls_hist'></a>\n",
    "## Гистограмма длительности звонков ##"
   ],
   "metadata": {
    "collapsed": false,
    "pycharm": {
     "name": "#%% md\n"
    }
   }
  },
  {
   "cell_type": "code",
   "source": [
    "fig, ax = plt.subplots(figsize=(10,8))\n",
    "sns.histplot(data=revenue_data,\n",
    "             x='calls_durations',\n",
    "             hue='tariff_name',\n",
    "             ax=ax,\n",
    "             multiple='stack',\n",
    "             kde=True)\n",
    "plt.grid()\n",
    "plt.xlabel('Длительность вызовов в месяц')\n",
    "plt.ylabel('Кол-во')\n",
    "plt.title('Гистограмма длительности звонков')"
   ],
   "metadata": {
    "collapsed": false,
    "pycharm": {
     "name": "#%%\n"
    }
   },
   "execution_count": 38,
   "outputs": [
    {
     "data": {
      "text/plain": "Text(0.5, 1.0, 'Гистограмма длительности звонков')"
     },
     "execution_count": 38,
     "metadata": {},
     "output_type": "execute_result"
    },
    {
     "data": {
      "text/plain": "<Figure size 720x576 with 1 Axes>",
      "image/png": "[encoded data removed]"
     },
     "metadata": {
      "needs_background": "light"
     },
     "output_type": "display_data"
    }
   ]
  },
  {
   "cell_type": "markdown",
   "source": [
    "<a id='analyze_messages_hist'></a>\n",
    "## Гистограмма количества сообщений ##"
   ],
   "metadata": {
    "collapsed": false,
    "pycharm": {
     "name": "#%% md\n"
    }
   }
  },
  {
   "cell_type": "code",
   "source": [
    "fig, ax = plt.subplots(figsize=(10,8))\n",
    "sns.histplot(data=revenue_data,\n",
    "             x='messages_count',\n",
    "             hue='tariff_name',\n",
    "             ax=ax,\n",
    "             multiple='stack',\n",
    "             kde=True)\n",
    "plt.grid()\n",
    "plt.xlabel('Количество сообщений в месяц')\n",
    "plt.ylabel('Кол-во')\n",
    "plt.title('Гистограмма количества сообщений')"
   ],
   "metadata": {
    "collapsed": false,
    "pycharm": {
     "name": "#%%\n"
    }
   },
   "execution_count": 39,
   "outputs": [
    {
     "data": {
      "text/plain": "Text(0.5, 1.0, 'Гистограмма количества сообщений')"
     },
     "execution_count": 39,
     "metadata": {},
     "output_type": "execute_result"
    },
    {
     "data": {
      "text/plain": "<Figure size 720x576 with 1 Axes>",
      "image/png": "[encoded data removed]"
     },
     "metadata": {
      "needs_background": "light"
     },
     "output_type": "display_data"
    }
   ]
  },
  {
   "cell_type": "markdown",
   "source": [
    "<a id='analyze_internet_hist'></a>\n",
    "## Гистограмма интренет-трафика ##"
   ],
   "metadata": {
    "collapsed": false,
    "pycharm": {
     "name": "#%% md\n"
    }
   }
  },
  {
   "cell_type": "code",
   "execution_count": 40,
   "outputs": [
    {
     "data": {
      "text/plain": "Text(0.5, 1.0, 'Гистограмма интренет-трафика')"
     },
     "execution_count": 40,
     "metadata": {},
     "output_type": "execute_result"
    },
    {
     "data": {
      "text/plain": "<Figure size 720x576 with 1 Axes>",
      "image/png": "[encoded data removed]"
     },
     "metadata": {
      "needs_background": "light"
     },
     "output_type": "display_data"
    }
   ],
   "source": [
    "fig, ax = plt.subplots(figsize=(10,8))\n",
    "sns.histplot(data=revenue_data,\n",
    "             x='gb_used',\n",
    "             hue='tariff_name',\n",
    "             ax=ax,\n",
    "             multiple='stack',\n",
    "             kde=True)\n",
    "plt.grid()\n",
    "plt.xlabel('Объем трафика в месяц')\n",
    "plt.ylabel('Кол-во')\n",
    "plt.title('Гистограмма интренет-трафика')"
   ],
   "metadata": {
    "collapsed": false,
    "pycharm": {
     "name": "#%%\n"
    }
   }
  },
  {
   "cell_type": "markdown",
   "source": [
    "<a id='analyze_revenue_hist'></a>\n",
    "## Гистограмма выручки ##"
   ],
   "metadata": {
    "collapsed": false,
    "pycharm": {
     "name": "#%% md\n"
    }
   }
  },
  {
   "cell_type": "code",
   "execution_count": 41,
   "outputs": [
    {
     "data": {
      "text/plain": "Text(0.5, 1.0, 'Гистограмма месячной выручки')"
     },
     "execution_count": 41,
     "metadata": {},
     "output_type": "execute_result"
    },
    {
     "data": {
      "text/plain": "<Figure size 720x576 with 1 Axes>",
      "image/png": "[encoded data removed]"
     },
     "metadata": {
      "needs_background": "light"
     },
     "output_type": "display_data"
    }
   ],
   "source": [
    "fig, ax = plt.subplots(figsize=(10,8))\n",
    "sns.histplot(data=revenue_data,\n",
    "             x='total_revenue',\n",
    "             hue='tariff_name',\n",
    "             ax=ax,\n",
    "             multiple='stack')\n",
    "plt.grid()\n",
    "plt.xlabel('Месячная выручка')\n",
    "plt.ylabel('Кол-во')\n",
    "plt.title('Гистограмма месячной выручки')"
   ],
   "metadata": {
    "collapsed": false,
    "pycharm": {
     "name": "#%%\n"
    }
   }
  },
  {
   "cell_type": "markdown",
   "source": [
    "# Результаты статистического анализа #\n",
    "1. Средние значения объема услуг потребляемых абонентами:\n",
    "    Тариф \"Smart\":\n",
    "    - звонки: 419 мин.\n",
    "    - сообщения: 39 шт.\n",
    "    - интренет: 17 Gb\n",
    "    Тариф \"Ultra\":\n",
    "    - звонки: 545 мин.\n",
    "    - сообщения: 62 шт.\n",
    "    - интернет: 20 Gb\n",
    "2. Гистограмма звонков:\n",
    "    - для обоих тарифов скошена вправо\n",
    "    - длительность звонков абонентов ТП \"ultra\" больше\n",
    "3. Гистограмма сообщений:\n",
    "    - для обоих тарифов скошена вправо\n",
    "    - абоненты ТП \"ultra\" отправляют больше сообщений\n",
    "4. Гистограмма интернет-трафика:\n",
    "    - данные рспределены почти нормально\n",
    "    - абоненты ТП \"ultra\" потребляют больше\n",
    "5. Гистограмма месячной выручки:\n",
    "    - выручка абонентов ТП \"ultra\" выше"
   ],
   "metadata": {
    "collapsed": false,
    "pycharm": {
     "name": "#%% md\n"
    }
   }
  },
  {
   "cell_type": "markdown",
   "source": [
    "<a id='hypothesis'></a>\n",
    "# Проверка гипотез #"
   ],
   "metadata": {
    "collapsed": false,
    "pycharm": {
     "name": "#%% md\n"
    }
   }
  },
  {
   "cell_type": "markdown",
   "source": [
    "<a id='hypothesis_1'></a>\n",
    "## Гипотеза 1: выручка тарифных планов ##\n",
    "$ H_0 $: средняя выручка абонентов тарифов «Ультра» и «Смарт» одинакова.\n",
    "\n",
    "$ H_1 $: средняя выручка абонентов тарифов «Ультра» и «Смарт» различаются."
   ],
   "metadata": {
    "collapsed": false,
    "pycharm": {
     "name": "#%% md\n"
    }
   }
  },
  {
   "cell_type": "code",
   "execution_count": 42,
   "outputs": [
    {
     "name": "stdout",
     "output_type": "stream",
     "text": [
      "2225\n",
      "957\n"
     ]
    }
   ],
   "source": [
    "print(revenue_data.query('tariff_name == \"smart\"').shape[0])\n",
    "print(revenue_data.query('tariff_name == \"ultra\"').shape[0])"
   ],
   "metadata": {
    "collapsed": false,
    "pycharm": {
     "name": "#%%\n"
    }
   }
  },
  {
   "cell_type": "code",
   "execution_count": 43,
   "outputs": [
    {
     "name": "stdout",
     "output_type": "stream",
     "text": [
      "2.796424815525196e-246\n",
      "Отвергаем нулевую гипотезу\n",
      "Средняя выручка ТП \"Ultra\": 2.1e+03.\n",
      "Средняя выручка ТП \"Smart\": 1.3e+03\n"
     ]
    }
   ],
   "source": [
    "alpha = 0.05\n",
    "result = st.ttest_ind(revenue_data.query('tariff_name == \"smart\"')['total_revenue'],\n",
    "                      revenue_data.query('tariff_name == \"ultra\"')['total_revenue'],\n",
    "                      equal_var=False)\n",
    "print(result.pvalue)\n",
    "if result.pvalue < alpha:\n",
    "    print(\"Отвергаем нулевую гипотезу\")\n",
    "    print(f'''Средняя выручка ТП \"Ultra\": {revenue_data.query('tariff_name == \"ultra\"')['total_revenue'].mean() :.2}.\n",
    "Средняя выручка ТП \"Smart\": {revenue_data.query('tariff_name == \"smart\"')['total_revenue'].mean() :.2}''')\n",
    "else:\n",
    "    print(\"Не получилось отвергнуть нулевую гипотезу\")"
   ],
   "metadata": {
    "collapsed": false,
    "pycharm": {
     "name": "#%%\n"
    }
   }
  },
  {
   "cell_type": "markdown",
   "source": [
    "<a id='hypothesis_2'></a>\n",
    "## Гипотеза 2: выручка регионов ##\n",
    "$ H_0 $: средняя выручка абонентов Москвы и регионов одинакова.\n",
    "\n",
    "$ H_1 $: средняя выручка абонентов Москвы и регионов различаются."
   ],
   "metadata": {
    "collapsed": false,
    "pycharm": {
     "name": "#%% md\n"
    }
   }
  },
  {
   "cell_type": "code",
   "execution_count": 44,
   "outputs": [
    {
     "name": "stdout",
     "output_type": "stream",
     "text": [
      "610\n",
      "2572\n"
     ]
    }
   ],
   "source": [
    "print(revenue_data.query('city == \"москва\"').shape[0])\n",
    "print(revenue_data.query('city != \"москва\"').shape[0])"
   ],
   "metadata": {
    "collapsed": false,
    "pycharm": {
     "name": "#%%\n"
    }
   }
  },
  {
   "cell_type": "code",
   "execution_count": 45,
   "outputs": [
    {
     "name": "stdout",
     "output_type": "stream",
     "text": [
      "0.4452390325541491\n",
      "Не получилось отвергнуть нулевую гипотезу\n"
     ]
    }
   ],
   "source": [
    "result = st.ttest_ind(revenue_data.query('city == \"москва\"')['total_revenue'],\n",
    "                      revenue_data.query('city != \"москва\"')['total_revenue'],\n",
    "                      equal_var=False)\n",
    "print(result.pvalue)\n",
    "if result.pvalue < alpha:\n",
    "    print(\"Отвергаем нулевую гипотезу\")\n",
    "    print(f'''Средняя выручка ТП \"Ultra\": {revenue_data.query('city == \"москва\"')['total_revenue'].mean() :.2}.\n",
    "Средняя выручка ТП \"Smart\": {revenue_data.query('city != \"москва\"')['total_revenue'].mean() :.2}''')\n",
    "else:\n",
    "    print(\"Не получилось отвергнуть нулевую гипотезу\")"
   ],
   "metadata": {
    "collapsed": false,
    "pycharm": {
     "name": "#%%\n"
    }
   }
  },
  {
   "cell_type": "markdown",
   "source": [
    "<a id='summary'></a>\n",
    "# Вывод #\n",
    "1. выручка ТП \"Ультра\" больше. рекламную компанию стоит сфокусировать на указанном ТП.\n",
    "2. выручка в регионах не отличается от выручке в Москве. масштабы рекламной компании в Москве и регионах должны быть одинаковы."
   ],
   "metadata": {
    "collapsed": false,
    "pycharm": {
     "name": "#%% md\n"
    }
   }
  }
 ],
 "metadata": {
  "kernelspec": {
   "display_name": "Python 3",
   "language": "python",
   "name": "python3"
  },
  "language_info": {
   "codemirror_mode": {
    "name": "ipython",
    "version": 2
   },
   "file_extension": ".py",
   "mimetype": "text/x-python",
   "name": "python",
   "nbconvert_exporter": "python",
   "pygments_lexer": "ipython2",
   "version": "2.7.6"
  }
 },
 "nbformat": 4,
 "nbformat_minor": 0
}