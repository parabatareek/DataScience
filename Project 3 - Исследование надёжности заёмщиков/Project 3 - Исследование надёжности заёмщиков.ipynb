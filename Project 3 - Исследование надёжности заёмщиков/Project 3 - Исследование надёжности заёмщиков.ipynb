{
 "cells": [
  {
   "cell_type": "markdown",
   "source": [
    "# Импорт библиотек #"
   ],
   "metadata": {
    "pycharm": {
     "name": "#%% md\n"
    }
   }
  },
  {
   "cell_type": "code",
   "source": [
    "import  pandas as pd\n",
    "from pymystem3 import Mystem\n",
    "from IPython.core.display import display\n",
    "import seaborn as sns"
   ],
   "outputs": [],
   "execution_count": 1,
   "metadata": {
    "pycharm": {
     "name": "#%%\n"
    },
    "execution": {
     "iopub.status.busy": "2021-12-22T13:43:51.787Z",
     "iopub.execute_input": "2021-12-22T13:43:51.810Z"
    }
   }
  },
  {
   "cell_type": "markdown",
   "source": [
    "## Осмотр данных ##"
   ],
   "metadata": {}
  },
  {
   "cell_type": "code",
   "source": [
    "data = pd.read_csv(filepath_or_buffer='datasets/data.csv')\n",
    "data.head(10)"
   ],
   "outputs": [
    {
     "data": {
      "text/plain": "   children  days_employed  dob_years education  education_id  \\\n0         1   -8437.673028         42    высшее             0   \n1         1   -4024.803754         36   среднее             1   \n2         0   -5623.422610         33   Среднее             1   \n3         3   -4124.747207         32   среднее             1   \n4         0  340266.072047         53   среднее             1   \n5         0    -926.185831         27    высшее             0   \n6         0   -2879.202052         43    высшее             0   \n7         0    -152.779569         50   СРЕДНЕЕ             1   \n8         2   -6929.865299         35    ВЫСШЕЕ             0   \n9         0   -2188.756445         41   среднее             1   \n\n      family_status  family_status_id gender income_type  debt   total_income  \\\n0   женат / замужем                 0      F   сотрудник     0  253875.639453   \n1   женат / замужем                 0      F   сотрудник     0  112080.014102   \n2   женат / замужем                 0      M   сотрудник     0  145885.952297   \n3   женат / замужем                 0      M   сотрудник     0  267628.550329   \n4  гражданский брак                 1      F   пенсионер     0  158616.077870   \n5  гражданский брак                 1      M   компаньон     0  255763.565419   \n6   женат / замужем                 0      F   компаньон     0  240525.971920   \n7   женат / замужем                 0      M   сотрудник     0  135823.934197   \n8  гражданский брак                 1      F   сотрудник     0   95856.832424   \n9   женат / замужем                 0      M   сотрудник     0  144425.938277   \n\n                      purpose  \n0               покупка жилья  \n1     приобретение автомобиля  \n2               покупка жилья  \n3  дополнительное образование  \n4             сыграть свадьбу  \n5               покупка жилья  \n6           операции с жильем  \n7                 образование  \n8       на проведение свадьбы  \n9     покупка жилья для семьи  ",
      "text/html": "<div>\n<style scoped>\n    .dataframe tbody tr th:only-of-type {\n        vertical-align: middle;\n    }\n\n    .dataframe tbody tr th {\n        vertical-align: top;\n    }\n\n    .dataframe thead th {\n        text-align: right;\n    }\n</style>\n<table border=\"1\" class=\"dataframe\">\n  <thead>\n    <tr style=\"text-align: right;\">\n      <th></th>\n      <th>children</th>\n      <th>days_employed</th>\n      <th>dob_years</th>\n      <th>education</th>\n      <th>education_id</th>\n      <th>family_status</th>\n      <th>family_status_id</th>\n      <th>gender</th>\n      <th>income_type</th>\n      <th>debt</th>\n      <th>total_income</th>\n      <th>purpose</th>\n    </tr>\n  </thead>\n  <tbody>\n    <tr>\n      <th>0</th>\n      <td>1</td>\n      <td>-8437.673028</td>\n      <td>42</td>\n      <td>высшее</td>\n      <td>0</td>\n      <td>женат / замужем</td>\n      <td>0</td>\n      <td>F</td>\n      <td>сотрудник</td>\n      <td>0</td>\n      <td>253875.639453</td>\n      <td>покупка жилья</td>\n    </tr>\n    <tr>\n      <th>1</th>\n      <td>1</td>\n      <td>-4024.803754</td>\n      <td>36</td>\n      <td>среднее</td>\n      <td>1</td>\n      <td>женат / замужем</td>\n      <td>0</td>\n      <td>F</td>\n      <td>сотрудник</td>\n      <td>0</td>\n      <td>112080.014102</td>\n      <td>приобретение автомобиля</td>\n    </tr>\n    <tr>\n      <th>2</th>\n      <td>0</td>\n      <td>-5623.422610</td>\n      <td>33</td>\n      <td>Среднее</td>\n      <td>1</td>\n      <td>женат / замужем</td>\n      <td>0</td>\n      <td>M</td>\n      <td>сотрудник</td>\n      <td>0</td>\n      <td>145885.952297</td>\n      <td>покупка жилья</td>\n    </tr>\n    <tr>\n      <th>3</th>\n      <td>3</td>\n      <td>-4124.747207</td>\n      <td>32</td>\n      <td>среднее</td>\n      <td>1</td>\n      <td>женат / замужем</td>\n      <td>0</td>\n      <td>M</td>\n      <td>сотрудник</td>\n      <td>0</td>\n      <td>267628.550329</td>\n      <td>дополнительное образование</td>\n    </tr>\n    <tr>\n      <th>4</th>\n      <td>0</td>\n      <td>340266.072047</td>\n      <td>53</td>\n      <td>среднее</td>\n      <td>1</td>\n      <td>гражданский брак</td>\n      <td>1</td>\n      <td>F</td>\n      <td>пенсионер</td>\n      <td>0</td>\n      <td>158616.077870</td>\n      <td>сыграть свадьбу</td>\n    </tr>\n    <tr>\n      <th>5</th>\n      <td>0</td>\n      <td>-926.185831</td>\n      <td>27</td>\n      <td>высшее</td>\n      <td>0</td>\n      <td>гражданский брак</td>\n      <td>1</td>\n      <td>M</td>\n      <td>компаньон</td>\n      <td>0</td>\n      <td>255763.565419</td>\n      <td>покупка жилья</td>\n    </tr>\n    <tr>\n      <th>6</th>\n      <td>0</td>\n      <td>-2879.202052</td>\n      <td>43</td>\n      <td>высшее</td>\n      <td>0</td>\n      <td>женат / замужем</td>\n      <td>0</td>\n      <td>F</td>\n      <td>компаньон</td>\n      <td>0</td>\n      <td>240525.971920</td>\n      <td>операции с жильем</td>\n    </tr>\n    <tr>\n      <th>7</th>\n      <td>0</td>\n      <td>-152.779569</td>\n      <td>50</td>\n      <td>СРЕДНЕЕ</td>\n      <td>1</td>\n      <td>женат / замужем</td>\n      <td>0</td>\n      <td>M</td>\n      <td>сотрудник</td>\n      <td>0</td>\n      <td>135823.934197</td>\n      <td>образование</td>\n    </tr>\n    <tr>\n      <th>8</th>\n      <td>2</td>\n      <td>-6929.865299</td>\n      <td>35</td>\n      <td>ВЫСШЕЕ</td>\n      <td>0</td>\n      <td>гражданский брак</td>\n      <td>1</td>\n      <td>F</td>\n      <td>сотрудник</td>\n      <td>0</td>\n      <td>95856.832424</td>\n      <td>на проведение свадьбы</td>\n    </tr>\n    <tr>\n      <th>9</th>\n      <td>0</td>\n      <td>-2188.756445</td>\n      <td>41</td>\n      <td>среднее</td>\n      <td>1</td>\n      <td>женат / замужем</td>\n      <td>0</td>\n      <td>M</td>\n      <td>сотрудник</td>\n      <td>0</td>\n      <td>144425.938277</td>\n      <td>покупка жилья для семьи</td>\n    </tr>\n  </tbody>\n</table>\n</div>"
     },
     "execution_count": 2,
     "metadata": {},
     "output_type": "execute_result"
    }
   ],
   "execution_count": 2,
   "metadata": {}
  },
  {
   "cell_type": "code",
   "source": [
    "data.info()"
   ],
   "outputs": [
    {
     "name": "stdout",
     "output_type": "stream",
     "text": [
      "<class 'pandas.core.frame.DataFrame'>\n",
      "RangeIndex: 21525 entries, 0 to 21524\n",
      "Data columns (total 12 columns):\n",
      " #   Column            Non-Null Count  Dtype  \n",
      "---  ------            --------------  -----  \n",
      " 0   children          21525 non-null  int64  \n",
      " 1   days_employed     19351 non-null  float64\n",
      " 2   dob_years         21525 non-null  int64  \n",
      " 3   education         21525 non-null  object \n",
      " 4   education_id      21525 non-null  int64  \n",
      " 5   family_status     21525 non-null  object \n",
      " 6   family_status_id  21525 non-null  int64  \n",
      " 7   gender            21525 non-null  object \n",
      " 8   income_type       21525 non-null  object \n",
      " 9   debt              21525 non-null  int64  \n",
      " 10  total_income      19351 non-null  float64\n",
      " 11  purpose           21525 non-null  object \n",
      "dtypes: float64(2), int64(5), object(5)\n",
      "memory usage: 2.0+ MB\n"
     ]
    }
   ],
   "execution_count": 3,
   "metadata": {
    "pycharm": {
     "name": "#%%\n"
    }
   }
  },
  {
   "cell_type": "code",
   "source": [
    "sns.boxplot(data=data['children'])"
   ],
   "outputs": [
    {
     "data": {
      "text/plain": "<AxesSubplot:>"
     },
     "execution_count": 4,
     "metadata": {},
     "output_type": "execute_result"
    },
    {
     "data": {
      "text/plain": "<Figure size 432x288 with 1 Axes>",
      "image/png": "[encoded data removed]"
     },
     "metadata": {
      "needs_background": "light"
     },
     "output_type": "display_data"
    }
   ],
   "execution_count": 4,
   "metadata": {}
  },
  {
   "cell_type": "code",
   "source": [
    "sns.boxplot(data=data['days_employed'] / 365)"
   ],
   "outputs": [
    {
     "data": {
      "text/plain": "<AxesSubplot:>"
     },
     "execution_count": 5,
     "metadata": {},
     "output_type": "execute_result"
    },
    {
     "data": {
      "text/plain": "<Figure size 432x288 with 1 Axes>",
      "image/png": "[encoded data removed]"
     },
     "metadata": {
      "needs_background": "light"
     },
     "output_type": "display_data"
    }
   ],
   "execution_count": 5,
   "metadata": {}
  },
  {
   "cell_type": "code",
   "source": [
    "sns.boxplot(data=data['dob_years'])"
   ],
   "outputs": [
    {
     "data": {
      "text/plain": "<AxesSubplot:>"
     },
     "execution_count": 6,
     "metadata": {},
     "output_type": "execute_result"
    },
    {
     "data": {
      "text/plain": "<Figure size 432x288 with 1 Axes>",
      "image/png": "[encoded data removed]"
     },
     "metadata": {
      "needs_background": "light"
     },
     "output_type": "display_data"
    }
   ],
   "execution_count": 6,
   "metadata": {}
  },
  {
   "cell_type": "code",
   "source": [
    "sns.boxplot(data=data['total_income'])"
   ],
   "outputs": [
    {
     "data": {
      "text/plain": "<AxesSubplot:>"
     },
     "execution_count": 7,
     "metadata": {},
     "output_type": "execute_result"
    },
    {
     "data": {
      "text/plain": "<Figure size 432x288 with 1 Axes>",
      "image/png": "[encoded data removed]"
     },
     "metadata": {
      "needs_background": "light"
     },
     "output_type": "display_data"
    }
   ],
   "execution_count": 7,
   "metadata": {}
  },
  {
   "cell_type": "markdown",
   "source": [
    "**Вывод**\n",
    "1. data['days_employed']:\n",
    "    - отрицательные значения/дробные значения - как интерпретировать?\n",
    "2. data['education']:\n",
    "    - изменить тип на 'category'\n",
    "3. data['education_id']:\n",
    "    - удалить\n",
    "4. data['family_status']:\n",
    "    - изменить тип на 'category'\n",
    "5. data['family_status_id']:\n",
    "    - удалить\n",
    "6. data['gender']:\n",
    "    - изменить тип на 'category'\n",
    "7. data['income_type']:\n",
    "    - изменить тип на 'category'\n",
    "8. data['total_income']:\n",
    "    - предложить варианты сегментации заемщиков\n",
    "9. data['purpose']:\n",
    "    - выделить основные сегменты\n",
    "10. обнаружены аномальные данные data['children'] = 20\n",
    "11. обнаружены аномальные данные data['days_employed'] - стаж более 800 лет\n",
    "12. обнаружены аномальные данные data['dob_years'] - 0, 80"
   ],
   "metadata": {}
  },
  {
   "cell_type": "markdown",
   "source": [
    "## Предобработка данных ##"
   ],
   "metadata": {}
  },
  {
   "cell_type": "markdown",
   "source": [
    "### Обработка пропусков"
   ],
   "metadata": {}
  },
  {
   "cell_type": "code",
   "source": [
    "data[data['dob_years'] < 18]['dob_years'].unique()"
   ],
   "outputs": [
    {
     "data": {
      "text/plain": "array([0], dtype=int64)"
     },
     "execution_count": 8,
     "metadata": {},
     "output_type": "execute_result"
    }
   ],
   "execution_count": 8,
   "metadata": {}
  },
  {
   "cell_type": "code",
   "source": [
    "data[data['dob_years'] < 18] = 18"
   ],
   "outputs": [],
   "execution_count": 9,
   "metadata": {}
  },
  {
   "cell_type": "code",
   "source": [
    "print(data.isna().sum())\n",
    "data = data.fillna(0)\n",
    "print(data.isna().sum())"
   ],
   "outputs": [
    {
     "name": "stdout",
     "output_type": "stream",
     "text": [
      "children               0\n",
      "days_employed       2164\n",
      "dob_years              0\n",
      "education              0\n",
      "education_id           0\n",
      "family_status          0\n",
      "family_status_id       0\n",
      "gender                 0\n",
      "income_type            0\n",
      "debt                   0\n",
      "total_income        2164\n",
      "purpose                0\n",
      "dtype: int64\n",
      "children            0\n",
      "days_employed       0\n",
      "dob_years           0\n",
      "education           0\n",
      "education_id        0\n",
      "family_status       0\n",
      "family_status_id    0\n",
      "gender              0\n",
      "income_type         0\n",
      "debt                0\n",
      "total_income        0\n",
      "purpose             0\n",
      "dtype: int64\n"
     ]
    }
   ],
   "execution_count": 10,
   "metadata": {
    "pycharm": {
     "name": "#%%\n"
    }
   }
  },
  {
   "cell_type": "markdown",
   "source": [
    "#### Замена значений data['children'] ####"
   ],
   "metadata": {
    "pycharm": {
     "name": "#%% md\n"
    }
   }
  },
  {
   "cell_type": "code",
   "source": [
    "print(data['children'].unique())\n",
    "data[data['children'] == -1] = 0\n",
    "print(data['children'].unique())"
   ],
   "outputs": [
    {
     "name": "stdout",
     "output_type": "stream",
     "text": [
      "[ 1  0  3  2 18 -1  4 20  5]\n",
      "[ 1  0  3  2 18  4 20  5]\n"
     ]
    }
   ],
   "execution_count": 11,
   "metadata": {
    "pycharm": {
     "name": "#%%\n"
    }
   }
  },
  {
   "cell_type": "markdown",
   "source": [
    "**Вывод**\n",
    "1. произведена замена пропущенных значений на 0 для:\n",
    "    - data['days_employed'] - косвенные данные указывающие на стаж заемщика отсутствуют\n",
    "      Возможные причины возникновния:\n",
    "      * заемщик не указал свой стаж\n",
    "      * человевеский фактор\n",
    "      * потеря данных при формировании dataset\n",
    "      * пропуски составляют ~10% dataset, поэтому не удаляю\n",
    "    - data['total_income'] - косвенные данные указывающие на заработок заемщика отсутствуют\n",
    "      Возможные причины возникновния:\n",
    "      * заемщик не указал свой стаж\n",
    "      * человевеский фактор\n",
    "      * потеря данных при формировании dataset\n",
    "      * пропуски составляют ~10% dataset, поэтому не удаляю\n",
    "2. пропущенные значения удалены\n",
    "3. произведена замена значения \"-1\" data['children'] на 0, т.к.\n",
    "    - отрицательное количество детей невозможно\n",
    "    - косвенные данные указывающие на количество детей отсутствуют\n",
    "4. в dataset присутствует заёмщик с 20 детьми\n",
    "    - данные позволяющие подтвердить указанное количество отсутствуют\n",
    "    Возможные причины возникновения:\n",
    "    - опечатка\n",
    "    - действительно 20 детей\n",
    "    Оставляю без изменений."
   ],
   "metadata": {}
  },
  {
   "cell_type": "markdown",
   "source": [
    "### Изменение типов данных ###"
   ],
   "metadata": {}
  },
  {
   "cell_type": "markdown",
   "source": [
    "#### Перевод значений строковых переменных в нижний регистр ####"
   ],
   "metadata": {
    "pycharm": {
     "name": "#%% md\n"
    }
   }
  },
  {
   "cell_type": "code",
   "source": [
    "def lower_data():\n",
    "    for column in data.columns:\n",
    "        if data.dtypes[column] == 'object':\n",
    "            data[column] = data[column].str.strip()\n",
    "            data[column] = data[column].str.lower()\n",
    "\n",
    "lower_data()"
   ],
   "outputs": [],
   "execution_count": 12,
   "metadata": {
    "pycharm": {
     "name": "#%%\n"
    }
   }
  },
  {
   "cell_type": "code",
   "source": [
    "data"
   ],
   "outputs": [
    {
     "data": {
      "text/plain": "       children  days_employed  dob_years education  education_id  \\\n0             1   -8437.673028         42    высшее             0   \n1             1   -4024.803754         36   среднее             1   \n2             0   -5623.422610         33   среднее             1   \n3             3   -4124.747207         32   среднее             1   \n4             0  340266.072047         53   среднее             1   \n...         ...            ...        ...       ...           ...   \n21520         1   -4529.316663         43   среднее             1   \n21521         0  343937.404131         67   среднее             1   \n21522         1   -2113.346888         38   среднее             1   \n21523         3   -3112.481705         38   среднее             1   \n21524         2   -1984.507589         40   среднее             1   \n\n          family_status  family_status_id gender income_type  debt  \\\n0       женат / замужем                 0      f   сотрудник     0   \n1       женат / замужем                 0      f   сотрудник     0   \n2       женат / замужем                 0      m   сотрудник     0   \n3       женат / замужем                 0      m   сотрудник     0   \n4      гражданский брак                 1      f   пенсионер     0   \n...                 ...               ...    ...         ...   ...   \n21520  гражданский брак                 1      f   компаньон     0   \n21521   женат / замужем                 0      f   пенсионер     0   \n21522  гражданский брак                 1      m   сотрудник     1   \n21523   женат / замужем                 0      m   сотрудник     1   \n21524   женат / замужем                 0      f   сотрудник     0   \n\n        total_income                       purpose  \n0      253875.639453                 покупка жилья  \n1      112080.014102       приобретение автомобиля  \n2      145885.952297                 покупка жилья  \n3      267628.550329    дополнительное образование  \n4      158616.077870               сыграть свадьбу  \n...              ...                           ...  \n21520  224791.862382             операции с жильем  \n21521  155999.806512          сделка с автомобилем  \n21522   89672.561153                  недвижимость  \n21523  244093.050500  на покупку своего автомобиля  \n21524   82047.418899         на покупку автомобиля  \n\n[21525 rows x 12 columns]",
      "text/html": "<div>\n<style scoped>\n    .dataframe tbody tr th:only-of-type {\n        vertical-align: middle;\n    }\n\n    .dataframe tbody tr th {\n        vertical-align: top;\n    }\n\n    .dataframe thead th {\n        text-align: right;\n    }\n</style>\n<table border=\"1\" class=\"dataframe\">\n  <thead>\n    <tr style=\"text-align: right;\">\n      <th></th>\n      <th>children</th>\n      <th>days_employed</th>\n      <th>dob_years</th>\n      <th>education</th>\n      <th>education_id</th>\n      <th>family_status</th>\n      <th>family_status_id</th>\n      <th>gender</th>\n      <th>income_type</th>\n      <th>debt</th>\n      <th>total_income</th>\n      <th>purpose</th>\n    </tr>\n  </thead>\n  <tbody>\n    <tr>\n      <th>0</th>\n      <td>1</td>\n      <td>-8437.673028</td>\n      <td>42</td>\n      <td>высшее</td>\n      <td>0</td>\n      <td>женат / замужем</td>\n      <td>0</td>\n      <td>f</td>\n      <td>сотрудник</td>\n      <td>0</td>\n      <td>253875.639453</td>\n      <td>покупка жилья</td>\n    </tr>\n    <tr>\n      <th>1</th>\n      <td>1</td>\n      <td>-4024.803754</td>\n      <td>36</td>\n      <td>среднее</td>\n      <td>1</td>\n      <td>женат / замужем</td>\n      <td>0</td>\n      <td>f</td>\n      <td>сотрудник</td>\n      <td>0</td>\n      <td>112080.014102</td>\n      <td>приобретение автомобиля</td>\n    </tr>\n    <tr>\n      <th>2</th>\n      <td>0</td>\n      <td>-5623.422610</td>\n      <td>33</td>\n      <td>среднее</td>\n      <td>1</td>\n      <td>женат / замужем</td>\n      <td>0</td>\n      <td>m</td>\n      <td>сотрудник</td>\n      <td>0</td>\n      <td>145885.952297</td>\n      <td>покупка жилья</td>\n    </tr>\n    <tr>\n      <th>3</th>\n      <td>3</td>\n      <td>-4124.747207</td>\n      <td>32</td>\n      <td>среднее</td>\n      <td>1</td>\n      <td>женат / замужем</td>\n      <td>0</td>\n      <td>m</td>\n      <td>сотрудник</td>\n      <td>0</td>\n      <td>267628.550329</td>\n      <td>дополнительное образование</td>\n    </tr>\n    <tr>\n      <th>4</th>\n      <td>0</td>\n      <td>340266.072047</td>\n      <td>53</td>\n      <td>среднее</td>\n      <td>1</td>\n      <td>гражданский брак</td>\n      <td>1</td>\n      <td>f</td>\n      <td>пенсионер</td>\n      <td>0</td>\n      <td>158616.077870</td>\n      <td>сыграть свадьбу</td>\n    </tr>\n    <tr>\n      <th>...</th>\n      <td>...</td>\n      <td>...</td>\n      <td>...</td>\n      <td>...</td>\n      <td>...</td>\n      <td>...</td>\n      <td>...</td>\n      <td>...</td>\n      <td>...</td>\n      <td>...</td>\n      <td>...</td>\n      <td>...</td>\n    </tr>\n    <tr>\n      <th>21520</th>\n      <td>1</td>\n      <td>-4529.316663</td>\n      <td>43</td>\n      <td>среднее</td>\n      <td>1</td>\n      <td>гражданский брак</td>\n      <td>1</td>\n      <td>f</td>\n      <td>компаньон</td>\n      <td>0</td>\n      <td>224791.862382</td>\n      <td>операции с жильем</td>\n    </tr>\n    <tr>\n      <th>21521</th>\n      <td>0</td>\n      <td>343937.404131</td>\n      <td>67</td>\n      <td>среднее</td>\n      <td>1</td>\n      <td>женат / замужем</td>\n      <td>0</td>\n      <td>f</td>\n      <td>пенсионер</td>\n      <td>0</td>\n      <td>155999.806512</td>\n      <td>сделка с автомобилем</td>\n    </tr>\n    <tr>\n      <th>21522</th>\n      <td>1</td>\n      <td>-2113.346888</td>\n      <td>38</td>\n      <td>среднее</td>\n      <td>1</td>\n      <td>гражданский брак</td>\n      <td>1</td>\n      <td>m</td>\n      <td>сотрудник</td>\n      <td>1</td>\n      <td>89672.561153</td>\n      <td>недвижимость</td>\n    </tr>\n    <tr>\n      <th>21523</th>\n      <td>3</td>\n      <td>-3112.481705</td>\n      <td>38</td>\n      <td>среднее</td>\n      <td>1</td>\n      <td>женат / замужем</td>\n      <td>0</td>\n      <td>m</td>\n      <td>сотрудник</td>\n      <td>1</td>\n      <td>244093.050500</td>\n      <td>на покупку своего автомобиля</td>\n    </tr>\n    <tr>\n      <th>21524</th>\n      <td>2</td>\n      <td>-1984.507589</td>\n      <td>40</td>\n      <td>среднее</td>\n      <td>1</td>\n      <td>женат / замужем</td>\n      <td>0</td>\n      <td>f</td>\n      <td>сотрудник</td>\n      <td>0</td>\n      <td>82047.418899</td>\n      <td>на покупку автомобиля</td>\n    </tr>\n  </tbody>\n</table>\n<p>21525 rows × 12 columns</p>\n</div>"
     },
     "execution_count": 13,
     "metadata": {},
     "output_type": "execute_result"
    }
   ],
   "execution_count": 13,
   "metadata": {
    "pycharm": {
     "name": "#%%\n"
    }
   }
  },
  {
   "cell_type": "code",
   "source": [
    "data.info()"
   ],
   "outputs": [
    {
     "name": "stdout",
     "output_type": "stream",
     "text": [
      "<class 'pandas.core.frame.DataFrame'>\n",
      "RangeIndex: 21525 entries, 0 to 21524\n",
      "Data columns (total 12 columns):\n",
      " #   Column            Non-Null Count  Dtype  \n",
      "---  ------            --------------  -----  \n",
      " 0   children          21525 non-null  int64  \n",
      " 1   days_employed     21525 non-null  float64\n",
      " 2   dob_years         21525 non-null  int64  \n",
      " 3   education         21377 non-null  object \n",
      " 4   education_id      21525 non-null  int64  \n",
      " 5   family_status     21377 non-null  object \n",
      " 6   family_status_id  21525 non-null  int64  \n",
      " 7   gender            21377 non-null  object \n",
      " 8   income_type       21377 non-null  object \n",
      " 9   debt              21525 non-null  int64  \n",
      " 10  total_income      21525 non-null  float64\n",
      " 11  purpose           21377 non-null  object \n",
      "dtypes: float64(2), int64(5), object(5)\n",
      "memory usage: 2.0+ MB\n"
     ]
    }
   ],
   "execution_count": 14,
   "metadata": {}
  },
  {
   "cell_type": "code",
   "source": [
    "data['days_employed'] = data['days_employed'].astype('int')\n",
    "data['gender'] = data['gender'].astype('category')\n",
    "data['income_type'] = data['income_type'].astype('category')\n",
    "data['education'] = data['education'].astype('category')\n",
    "data['family_status'] = data['family_status'].astype('category')\n",
    "data.info()"
   ],
   "outputs": [
    {
     "name": "stdout",
     "output_type": "stream",
     "text": [
      "<class 'pandas.core.frame.DataFrame'>\n",
      "RangeIndex: 21525 entries, 0 to 21524\n",
      "Data columns (total 12 columns):\n",
      " #   Column            Non-Null Count  Dtype   \n",
      "---  ------            --------------  -----   \n",
      " 0   children          21525 non-null  int64   \n",
      " 1   days_employed     21525 non-null  int32   \n",
      " 2   dob_years         21525 non-null  int64   \n",
      " 3   education         21377 non-null  category\n",
      " 4   education_id      21525 non-null  int64   \n",
      " 5   family_status     21377 non-null  category\n",
      " 6   family_status_id  21525 non-null  int64   \n",
      " 7   gender            21377 non-null  category\n",
      " 8   income_type       21377 non-null  category\n",
      " 9   debt              21525 non-null  int64   \n",
      " 10  total_income      21525 non-null  float64 \n",
      " 11  purpose           21377 non-null  object  \n",
      "dtypes: category(4), float64(1), int32(1), int64(5), object(1)\n",
      "memory usage: 1.3+ MB\n"
     ]
    }
   ],
   "execution_count": 15,
   "metadata": {
    "pycharm": {
     "name": "#%%\n"
    }
   }
  },
  {
   "cell_type": "markdown",
   "source": [
    "**Вывод**"
   ],
   "metadata": {}
  },
  {
   "cell_type": "markdown",
   "source": [
    "1. строковые значения переведены в нижний регистр\n",
    "2. тип данных data['days_employed'] изменен на 'int'\n",
    "3. тип данных изменен на 'category' для следующих столбцов:\n",
    "    - data['gender']\n",
    "    - data['income_type']\n",
    "    - data['education']\n",
    "    - data['family_status']\n"
   ],
   "metadata": {}
  },
  {
   "cell_type": "markdown",
   "source": [
    "### Обработка дубликатов ###"
   ],
   "metadata": {}
  },
  {
   "cell_type": "code",
   "source": [
    "data.duplicated().sum()"
   ],
   "outputs": [
    {
     "data": {
      "text/plain": "217"
     },
     "execution_count": 16,
     "metadata": {},
     "output_type": "execute_result"
    }
   ],
   "execution_count": 16,
   "metadata": {
    "pycharm": {
     "name": "#%%\n"
    }
   }
  },
  {
   "cell_type": "markdown",
   "source": [
    "#### Удаление cтолбцов data['education_id'], data['family_status_id'] ####"
   ],
   "metadata": {
    "pycharm": {
     "name": "#%% md\n"
    }
   }
  },
  {
   "cell_type": "code",
   "source": [
    "data = data.drop(columns=['family_status_id', 'education_id'])\n",
    "data.info()"
   ],
   "outputs": [
    {
     "name": "stdout",
     "output_type": "stream",
     "text": [
      "<class 'pandas.core.frame.DataFrame'>\n",
      "RangeIndex: 21525 entries, 0 to 21524\n",
      "Data columns (total 10 columns):\n",
      " #   Column         Non-Null Count  Dtype   \n",
      "---  ------         --------------  -----   \n",
      " 0   children       21525 non-null  int64   \n",
      " 1   days_employed  21525 non-null  int32   \n",
      " 2   dob_years      21525 non-null  int64   \n",
      " 3   education      21377 non-null  category\n",
      " 4   family_status  21377 non-null  category\n",
      " 5   gender         21377 non-null  category\n",
      " 6   income_type    21377 non-null  category\n",
      " 7   debt           21525 non-null  int64   \n",
      " 8   total_income   21525 non-null  float64 \n",
      " 9   purpose        21377 non-null  object  \n",
      "dtypes: category(4), float64(1), int32(1), int64(3), object(1)\n",
      "memory usage: 1010.0+ KB\n"
     ]
    }
   ],
   "execution_count": 18,
   "metadata": {
    "pycharm": {
     "name": "#%%\n"
    }
   }
  },
  {
   "cell_type": "markdown",
   "source": [
    "**Вывод**\n",
    "1. дубликаты удалены\n",
    "2. удалены столбцы\n",
    "    - data['family_status_id']\n",
    "    - data['education_id']\n",
    "   т.к. дублируют данные содержащиеся в data['education'] и data['family_status']"
   ],
   "metadata": {}
  },
  {
   "cell_type": "markdown",
   "source": [
    "### Лемматизация ###"
   ],
   "metadata": {}
  },
  {
   "cell_type": "markdown",
   "source": [
    "#### Лемматизация data['purpose'] ####"
   ],
   "metadata": {}
  },
  {
   "cell_type": "code",
   "source": [
    "data.isna().sum()\n",
    "data = data.dropna().reset_index(drop=True)"
   ],
   "outputs": [],
   "execution_count": 19,
   "metadata": {
    "pycharm": {
     "name": "#%%\n"
    }
   }
  },
  {
   "cell_type": "code",
   "source": [
    "data.info()"
   ],
   "outputs": [
    {
     "name": "stdout",
     "output_type": "stream",
     "text": [
      "<class 'pandas.core.frame.DataFrame'>\n",
      "RangeIndex: 21377 entries, 0 to 21376\n",
      "Data columns (total 10 columns):\n",
      " #   Column         Non-Null Count  Dtype   \n",
      "---  ------         --------------  -----   \n",
      " 0   children       21377 non-null  int64   \n",
      " 1   days_employed  21377 non-null  int32   \n",
      " 2   dob_years      21377 non-null  int64   \n",
      " 3   education      21377 non-null  category\n",
      " 4   family_status  21377 non-null  category\n",
      " 5   gender         21377 non-null  category\n",
      " 6   income_type    21377 non-null  category\n",
      " 7   debt           21377 non-null  int64   \n",
      " 8   total_income   21377 non-null  float64 \n",
      " 9   purpose        21377 non-null  object  \n",
      "dtypes: category(4), float64(1), int32(1), int64(3), object(1)\n",
      "memory usage: 1003.1+ KB\n"
     ]
    }
   ],
   "execution_count": 20,
   "metadata": {
    "pycharm": {
     "name": "#%%\n"
    }
   }
  },
  {
   "cell_type": "code",
   "source": [
    "m = Mystem()\n",
    "for purpose in data['purpose'].unique():\n",
    "    lemma = ' '.join(m.lemmatize(purpose))\n",
    "    for _ in range(len(data)):\n",
    "        if purpose in data.loc[_, 'purpose']:\n",
    "            data.loc[_, 'purpose'] = lemma"
   ],
   "outputs": [],
   "execution_count": 21,
   "metadata": {
    "pycharm": {
     "name": "#%%\n"
    }
   }
  },
  {
   "cell_type": "markdown",
   "source": [
    "#### Категоризация data['purpose'] ####"
   ],
   "metadata": {}
  },
  {
   "cell_type": "code",
   "source": [
    "for lem_purpose in ['недвижимость', 'жилье', 'автомобиль', 'свадьба', 'образование']:\n",
    "    for _ in range(len(data)):\n",
    "        if lem_purpose in data.loc[_, 'purpose']:\n",
    "            data.loc[_, 'purpose'] = lem_purpose"
   ],
   "outputs": [],
   "execution_count": 22,
   "metadata": {
    "pycharm": {
     "name": "#%%\n"
    }
   }
  },
  {
   "cell_type": "code",
   "source": [
    "data['purpose'] = data['purpose'].replace(to_replace='образование  \\n',\n",
    "                                          value='образование').\\\n",
    "                                  replace(to_replace='жилье',\n",
    "                                          value='недвижимость')"
   ],
   "outputs": [],
   "execution_count": 23,
   "metadata": {
    "pycharm": {
     "name": "#%%\n"
    }
   }
  },
  {
   "cell_type": "code",
   "source": [
    "data['purpose'] = data['purpose'].astype('category')"
   ],
   "outputs": [],
   "execution_count": 24,
   "metadata": {
    "pycharm": {
     "name": "#%%\n"
    }
   }
  },
  {
   "cell_type": "code",
   "source": [
    "data.info()"
   ],
   "outputs": [
    {
     "name": "stdout",
     "output_type": "stream",
     "text": [
      "<class 'pandas.core.frame.DataFrame'>\n",
      "RangeIndex: 21377 entries, 0 to 21376\n",
      "Data columns (total 10 columns):\n",
      " #   Column         Non-Null Count  Dtype   \n",
      "---  ------         --------------  -----   \n",
      " 0   children       21377 non-null  int64   \n",
      " 1   days_employed  21377 non-null  int32   \n",
      " 2   dob_years      21377 non-null  int64   \n",
      " 3   education      21377 non-null  category\n",
      " 4   family_status  21377 non-null  category\n",
      " 5   gender         21377 non-null  category\n",
      " 6   income_type    21377 non-null  category\n",
      " 7   debt           21377 non-null  int64   \n",
      " 8   total_income   21377 non-null  float64 \n",
      " 9   purpose        21377 non-null  category\n",
      "dtypes: category(5), float64(1), int32(1), int64(3)\n",
      "memory usage: 857.1 KB\n"
     ]
    }
   ],
   "execution_count": 25,
   "metadata": {
    "pycharm": {
     "name": "#%%\n"
    }
   }
  },
  {
   "cell_type": "code",
   "source": [
    "data.duplicated().sum()"
   ],
   "outputs": [
    {
     "data": {
      "text/plain": "404"
     },
     "execution_count": 26,
     "metadata": {},
     "output_type": "execute_result"
    }
   ],
   "execution_count": 26,
   "metadata": {}
  },
  {
   "cell_type": "markdown",
   "source": [
    "**Вывод**\n",
    "1. проведена лемматизация data['purpose']\n",
    "2. тип данных data['purpose'] изменен на 'category'\n",
    "3. список целей займа ограничен 4-я позициями"
   ],
   "metadata": {}
  },
  {
   "cell_type": "markdown",
   "source": [
    "### Категоризация данных ###"
   ],
   "metadata": {}
  },
  {
   "cell_type": "markdown",
   "source": [
    "#### Категоризация заёмщиков по количеству детей ####"
   ],
   "metadata": {
    "pycharm": {
     "name": "#%% md\n"
    }
   }
  },
  {
   "cell_type": "code",
   "source": [
    "print(data['children'].describe())\n",
    "print(data['children'].unique())"
   ],
   "outputs": [
    {
     "name": "stdout",
     "output_type": "stream",
     "text": [
      "count    21377.000000\n",
      "mean         0.541657\n",
      "std          1.376992\n",
      "min          0.000000\n",
      "25%          0.000000\n",
      "50%          0.000000\n",
      "75%          1.000000\n",
      "max         20.000000\n",
      "Name: children, dtype: float64\n",
      "[ 1  0  3  2  4 20  5]\n"
     ]
    }
   ],
   "execution_count": 27,
   "metadata": {
    "pycharm": {
     "name": "#%%\n"
    }
   }
  },
  {
   "cell_type": "code",
   "source": [
    "for _ in range(len(data)):\n",
    "    if data.loc[_, 'children'] == 0: data.loc[_, 'cat_children'] = 'бездетный'\n",
    "    elif 1 <= data.loc[_, 'children'] <= 3: data.loc[_, 'cat_children'] = 'не более 3 детей'\n",
    "    else: data.loc[_, 'cat_children'] = 'многодетный'\n",
    "\n",
    "\n",
    "data['cat_children'] = data['cat_children'].astype('category')"
   ],
   "outputs": [],
   "execution_count": 28,
   "metadata": {}
  },
  {
   "cell_type": "markdown",
   "source": [
    "#### Категоризация заемщиокв по уровню дохода ####"
   ],
   "metadata": {
    "pycharm": {
     "name": "#%% md\n"
    }
   }
  },
  {
   "cell_type": "code",
   "source": [
    "print(data['total_income'].describe())"
   ],
   "outputs": [
    {
     "name": "stdout",
     "output_type": "stream",
     "text": [
      "count    2.137700e+04\n",
      "mean     1.505642e+05\n",
      "std      1.100633e+05\n",
      "min      0.000000e+00\n",
      "25%      8.860795e+04\n",
      "50%      1.355090e+05\n",
      "75%      1.955499e+05\n",
      "max      2.265604e+06\n",
      "Name: total_income, dtype: float64\n"
     ]
    }
   ],
   "execution_count": 29,
   "metadata": {
    "pycharm": {
     "name": "#%%\n"
    }
   }
  },
  {
   "cell_type": "code",
   "source": [
    "for _ in range(len(data)):\n",
    "    if data.loc[_, 'total_income'] <= 89062: data.loc[_, 'cat_total_income'] = 'низкий'\n",
    "    elif 89062 < data.loc[_, 'total_income'] <= 135760: data.loc[_, 'cat_total_income'] = 'средний'\n",
    "    elif 135760 < data.loc[_, 'total_income'] <= 195855: data.loc[_, 'cat_total_income'] = 'выше среднего'\n",
    "    else: data.loc[_, 'cat_total_income'] = 'высокий'"
   ],
   "outputs": [],
   "execution_count": 30,
   "metadata": {
    "pycharm": {
     "name": "#%%\n"
    }
   }
  },
  {
   "cell_type": "markdown",
   "source": [
    "**Вывод**\n",
    "1. выполнена категоризация заемщиков по количеству детей.\n",
    "   Критерии:\n",
    "   - 0 детей - бездетный\n",
    "   - от 1 до 3(включительно) - не более 3 детей\n",
    "   - больше 3 детей - многодетный\n",
    "2. дополнительная категоризация заемщиков по семейному положению не проводилась. будут использованы категории представленные в dataset-е\n",
    "3. проведена категоризация заёмщиков по уровню дохода.\n",
    "   Критерии:\n",
    "   - до 89062 - низкий\n",
    "   - от 89062 до 135760 - средний\n",
    "   - от 135760 до 195855 - выше среднего\n",
    "   - выше 195855 - высокий"
   ],
   "metadata": {}
  },
  {
   "cell_type": "markdown",
   "source": [
    "##  Зависимость м/у наличием детей и возвратом кредита в срок ##"
   ],
   "metadata": {}
  },
  {
   "cell_type": "code",
   "source": [
    "child_pivot = data.pivot_table(values='debt', index='cat_children', aggfunc=['count', 'sum'])\n",
    "child_pivot['% debt'] = child_pivot['sum'] / child_pivot['count'] * 100\n",
    "display(child_pivot)"
   ],
   "outputs": [
    {
     "data": {
      "text/plain": "                  count   sum    % debt\n                   debt  debt          \ncat_children                           \nбездетный         14080  1058  7.514205\nмногодетный         125    12  9.600000\nне более 3 детей   7172   662  9.230340",
      "text/html": "<div>\n<style scoped>\n    .dataframe tbody tr th:only-of-type {\n        vertical-align: middle;\n    }\n\n    .dataframe tbody tr th {\n        vertical-align: top;\n    }\n\n    .dataframe thead tr th {\n        text-align: left;\n    }\n\n    .dataframe thead tr:last-of-type th {\n        text-align: right;\n    }\n</style>\n<table border=\"1\" class=\"dataframe\">\n  <thead>\n    <tr>\n      <th></th>\n      <th>count</th>\n      <th>sum</th>\n      <th>% debt</th>\n    </tr>\n    <tr>\n      <th></th>\n      <th>debt</th>\n      <th>debt</th>\n      <th></th>\n    </tr>\n    <tr>\n      <th>cat_children</th>\n      <th></th>\n      <th></th>\n      <th></th>\n    </tr>\n  </thead>\n  <tbody>\n    <tr>\n      <th>бездетный</th>\n      <td>14080</td>\n      <td>1058</td>\n      <td>7.514205</td>\n    </tr>\n    <tr>\n      <th>многодетный</th>\n      <td>125</td>\n      <td>12</td>\n      <td>9.600000</td>\n    </tr>\n    <tr>\n      <th>не более 3 детей</th>\n      <td>7172</td>\n      <td>662</td>\n      <td>9.230340</td>\n    </tr>\n  </tbody>\n</table>\n</div>"
     },
     "metadata": {},
     "output_type": "display_data"
    }
   ],
   "execution_count": 31,
   "metadata": {}
  },
  {
   "cell_type": "markdown",
   "source": [
    "**Вывод**\n",
    "- вероятность просроченных платежей по кредиту у бездетных заемщиков ниже чем у многодетных и заемщиков количество детей у которых не болле 3, на ~2%"
   ],
   "metadata": {}
  },
  {
   "cell_type": "markdown",
   "source": [
    "## Зависимость между семейным положением и возвратом кредита в срок ##"
   ],
   "metadata": {}
  },
  {
   "cell_type": "code",
   "source": [
    "family_pivot = data.pivot_table(values='debt', index='family_status', aggfunc=['count', 'sum'])\n",
    "family_pivot['% debt'] = family_pivot['sum'] / family_pivot['count'] * 100\n",
    "display(family_pivot)"
   ],
   "outputs": [
    {
     "data": {
      "text/plain": "                       count  sum    % debt\n                        debt debt          \nfamily_status                              \nв разводе               1181   85  7.197290\nвдовец / вдова           951   62  6.519453\nгражданский брак        4151  386  9.298964\nженат / замужем        12302  926  7.527231\nне женат / не замужем   2792  273  9.777937",
      "text/html": "<div>\n<style scoped>\n    .dataframe tbody tr th:only-of-type {\n        vertical-align: middle;\n    }\n\n    .dataframe tbody tr th {\n        vertical-align: top;\n    }\n\n    .dataframe thead tr th {\n        text-align: left;\n    }\n\n    .dataframe thead tr:last-of-type th {\n        text-align: right;\n    }\n</style>\n<table border=\"1\" class=\"dataframe\">\n  <thead>\n    <tr>\n      <th></th>\n      <th>count</th>\n      <th>sum</th>\n      <th>% debt</th>\n    </tr>\n    <tr>\n      <th></th>\n      <th>debt</th>\n      <th>debt</th>\n      <th></th>\n    </tr>\n    <tr>\n      <th>family_status</th>\n      <th></th>\n      <th></th>\n      <th></th>\n    </tr>\n  </thead>\n  <tbody>\n    <tr>\n      <th>в разводе</th>\n      <td>1181</td>\n      <td>85</td>\n      <td>7.197290</td>\n    </tr>\n    <tr>\n      <th>вдовец / вдова</th>\n      <td>951</td>\n      <td>62</td>\n      <td>6.519453</td>\n    </tr>\n    <tr>\n      <th>гражданский брак</th>\n      <td>4151</td>\n      <td>386</td>\n      <td>9.298964</td>\n    </tr>\n    <tr>\n      <th>женат / замужем</th>\n      <td>12302</td>\n      <td>926</td>\n      <td>7.527231</td>\n    </tr>\n    <tr>\n      <th>не женат / не замужем</th>\n      <td>2792</td>\n      <td>273</td>\n      <td>9.777937</td>\n    </tr>\n  </tbody>\n</table>\n</div>"
     },
     "metadata": {},
     "output_type": "display_data"
    }
   ],
   "execution_count": 32,
   "metadata": {}
  },
  {
   "cell_type": "markdown",
   "source": [
    "**Вывод**\n",
    "- вероятность просроченных платежей по кредиту у заемщиков не состоящих в браке и состощих в гражданском браке выше в сравнении с:\n",
    "    1. овдовевшими заемщиками на  ~3%\n",
    "    2. заемщиками в разводе на ~3%\n",
    "    3. заемщиками в браке на ~3%"
   ],
   "metadata": {}
  },
  {
   "cell_type": "markdown",
   "source": [
    "## Зависимость между уровнем дохода и возвратом кредита в срок ##"
   ],
   "metadata": {}
  },
  {
   "cell_type": "code",
   "source": [
    "income_pivot = data.pivot_table(values='debt', index='cat_total_income', aggfunc=['count', 'sum'])\n",
    "income_pivot['% debt'] = income_pivot['sum'] / income_pivot['count'] * 100\n",
    "display(income_pivot)"
   ],
   "outputs": [
    {
     "data": {
      "text/plain": "                 count  sum    % debt\n                  debt debt          \ncat_total_income                     \nвысокий           5324  382  7.175056\nвыше среднего     5331  478  8.966423\nнизкий            5396  419  7.765011\nсредний           5326  453  8.505445",
      "text/html": "<div>\n<style scoped>\n    .dataframe tbody tr th:only-of-type {\n        vertical-align: middle;\n    }\n\n    .dataframe tbody tr th {\n        vertical-align: top;\n    }\n\n    .dataframe thead tr th {\n        text-align: left;\n    }\n\n    .dataframe thead tr:last-of-type th {\n        text-align: right;\n    }\n</style>\n<table border=\"1\" class=\"dataframe\">\n  <thead>\n    <tr>\n      <th></th>\n      <th>count</th>\n      <th>sum</th>\n      <th>% debt</th>\n    </tr>\n    <tr>\n      <th></th>\n      <th>debt</th>\n      <th>debt</th>\n      <th></th>\n    </tr>\n    <tr>\n      <th>cat_total_income</th>\n      <th></th>\n      <th></th>\n      <th></th>\n    </tr>\n  </thead>\n  <tbody>\n    <tr>\n      <th>высокий</th>\n      <td>5324</td>\n      <td>382</td>\n      <td>7.175056</td>\n    </tr>\n    <tr>\n      <th>выше среднего</th>\n      <td>5331</td>\n      <td>478</td>\n      <td>8.966423</td>\n    </tr>\n    <tr>\n      <th>низкий</th>\n      <td>5396</td>\n      <td>419</td>\n      <td>7.765011</td>\n    </tr>\n    <tr>\n      <th>средний</th>\n      <td>5326</td>\n      <td>453</td>\n      <td>8.505445</td>\n    </tr>\n  </tbody>\n</table>\n</div>"
     },
     "metadata": {},
     "output_type": "display_data"
    }
   ],
   "execution_count": 33,
   "metadata": {}
  },
  {
   "cell_type": "markdown",
   "source": [
    "**Вывод**\n",
    "- вероятность просроченных платежей по кредиту у заемщиков со средним доходом и выше среднего выше в сравнении с:\n",
    "    1. заемщиками с высоким доходом на ~2%\n",
    "    2. заемщиками с низким доходом на ~2%"
   ],
   "metadata": {}
  },
  {
   "cell_type": "markdown",
   "source": [
    "## Зависимость цели кредита и возвратом в срок ##"
   ],
   "metadata": {}
  },
  {
   "cell_type": "code",
   "source": [
    "purpose_pivot = data.pivot_table(values='debt', index='purpose', aggfunc=['count', 'sum'])\n",
    "purpose_pivot['% debt'] = purpose_pivot['sum'] / purpose_pivot['count'] * 100\n",
    "display(purpose_pivot)"
   ],
   "outputs": [
    {
     "data": {
      "text/plain": "              count  sum    % debt\n               debt debt          \npurpose                           \nавтомобиль     4282  399  9.318076\nнедвижимость  10769  779  7.233726\nобразование    3994  370  9.263896\nсвадьба        2332  184  7.890223",
      "text/html": "<div>\n<style scoped>\n    .dataframe tbody tr th:only-of-type {\n        vertical-align: middle;\n    }\n\n    .dataframe tbody tr th {\n        vertical-align: top;\n    }\n\n    .dataframe thead tr th {\n        text-align: left;\n    }\n\n    .dataframe thead tr:last-of-type th {\n        text-align: right;\n    }\n</style>\n<table border=\"1\" class=\"dataframe\">\n  <thead>\n    <tr>\n      <th></th>\n      <th>count</th>\n      <th>sum</th>\n      <th>% debt</th>\n    </tr>\n    <tr>\n      <th></th>\n      <th>debt</th>\n      <th>debt</th>\n      <th></th>\n    </tr>\n    <tr>\n      <th>purpose</th>\n      <th></th>\n      <th></th>\n      <th></th>\n    </tr>\n  </thead>\n  <tbody>\n    <tr>\n      <th>автомобиль</th>\n      <td>4282</td>\n      <td>399</td>\n      <td>9.318076</td>\n    </tr>\n    <tr>\n      <th>недвижимость</th>\n      <td>10769</td>\n      <td>779</td>\n      <td>7.233726</td>\n    </tr>\n    <tr>\n      <th>образование</th>\n      <td>3994</td>\n      <td>370</td>\n      <td>9.263896</td>\n    </tr>\n    <tr>\n      <th>свадьба</th>\n      <td>2332</td>\n      <td>184</td>\n      <td>7.890223</td>\n    </tr>\n  </tbody>\n</table>\n</div>"
     },
     "metadata": {},
     "output_type": "display_data"
    }
   ],
   "execution_count": 34,
   "metadata": {}
  },
  {
   "cell_type": "markdown",
   "source": [
    "**Вывод**\n",
    "- самая низкия вероятность просроченных платежей по кредиту полученному для приобретения недвижимости\n",
    "- высокая вероятность просроченных платежей для кредитов полученных на образование и приобретение автомобиля"
   ],
   "metadata": {}
  },
  {
   "cell_type": "markdown",
   "source": [
    "## Вывод ##\n",
    "В ходе обработки данных выявлены следующие аномалии:\n",
    "    - возраст заемщика < 18\n",
    "    - стаж > 57 лет\n",
    "    - возраст заёмщика > 65 лет\n",
    "    - количество детей у заемщика > 20\n",
    "Если удалить заемщиков удовлетворяющих приведенным условиям результаты исследования могут измениться.\n",
    "\n",
    "В ходе исследования выявлены зависимости возникновения задолженности по кредиту от:\n",
    "    * целей кредита\n",
    "    * уровня дохода заемщика\n",
    "    * наличием детей у заемщика\n",
    "    * семейного положения заемщика\n",
    "\n",
    "1. Вероятность просроченных платежей по кредиту выше у заемщиков с детьми.\n",
    "2. Вероятность просроченных платежей по кредиту выше у заемщиков не состоящих в браке или состоящих в гражданском браке.\n",
    "3. Вероятность просроченных платежей по кредиту выше у заемщиков с уровнем дохода от 89062 до 195855.\n",
    "4. Вероятность просроченных платежей по кредиту выше у по кредитам целью которых является образование или приобретение автомобиля."
   ],
   "metadata": {
    "pycharm": {
     "name": "#%% md\n"
    }
   }
  }
 ],
 "metadata": {
  "ExecuteTimeLog": [
   {
    "duration": 1590,
    "start_time": "2021-12-21T08:01:57.064Z"
   },
   {
    "duration": 2539,
    "start_time": "2021-12-21T08:02:01.168Z"
   },
   {
    "duration": 94,
    "start_time": "2021-12-21T08:02:07.859Z"
   },
   {
    "duration": 15,
    "start_time": "2021-12-21T08:02:11.323Z"
   },
   {
    "duration": 1664,
    "start_time": "2021-12-21T08:39:28.285Z"
   },
   {
    "duration": 105,
    "start_time": "2021-12-21T08:39:35.540Z"
   },
   {
    "duration": 24,
    "start_time": "2021-12-21T08:39:45.832Z"
   },
   {
    "duration": 210,
    "start_time": "2021-12-21T08:39:48.385Z"
   },
   {
    "duration": 230,
    "start_time": "2021-12-21T08:39:52.045Z"
   },
   {
    "duration": 203,
    "start_time": "2021-12-21T08:39:55.385Z"
   },
   {
    "duration": 199,
    "start_time": "2021-12-21T08:39:59.991Z"
   },
   {
    "duration": 46,
    "start_time": "2021-12-21T08:42:17.732Z"
   },
   {
    "duration": 41,
    "start_time": "2021-12-21T08:42:25.500Z"
   },
   {
    "duration": 50,
    "start_time": "2021-12-21T08:44:40.261Z"
   },
   {
    "duration": 36,
    "start_time": "2021-12-21T08:49:20.643Z"
   },
   {
    "duration": 9,
    "start_time": "2021-12-21T08:50:22.818Z"
   },
   {
    "duration": 22,
    "start_time": "2021-12-21T08:51:02.069Z"
   },
   {
    "duration": 1959,
    "start_time": "2021-12-21T08:52:01.207Z"
   },
   {
    "duration": 118,
    "start_time": "2021-12-21T08:52:05.930Z"
   },
   {
    "duration": 24,
    "start_time": "2021-12-21T08:52:09.240Z"
   },
   {
    "duration": 287,
    "start_time": "2021-12-21T08:52:12.679Z"
   },
   {
    "duration": 328,
    "start_time": "2021-12-21T08:52:15.658Z"
   },
   {
    "duration": 303,
    "start_time": "2021-12-21T08:52:19.508Z"
   },
   {
    "duration": 308,
    "start_time": "2021-12-21T08:52:25.269Z"
   },
   {
    "duration": 12,
    "start_time": "2021-12-21T08:52:33.171Z"
   },
   {
    "duration": 17,
    "start_time": "2021-12-21T08:52:38.878Z"
   },
   {
    "duration": 35,
    "start_time": "2021-12-21T08:52:45.189Z"
   },
   {
    "duration": 20,
    "start_time": "2021-12-21T08:53:20.847Z"
   },
   {
    "duration": 125,
    "start_time": "2021-12-21T08:53:28.188Z"
   },
   {
    "duration": 37,
    "start_time": "2021-12-21T08:53:31.703Z"
   },
   {
    "duration": 28,
    "start_time": "2021-12-21T08:53:36.582Z"
   },
   {
    "duration": 37,
    "start_time": "2021-12-21T08:53:43.197Z"
   },
   {
    "duration": 21,
    "start_time": "2021-12-21T08:53:48.630Z"
   },
   {
    "duration": 16,
    "start_time": "2021-12-21T08:58:31.650Z"
   },
   {
    "duration": 19,
    "start_time": "2021-12-21T08:58:37.194Z"
   },
   {
    "duration": 14,
    "start_time": "2021-12-21T08:58:39.896Z"
   },
   {
    "duration": 68824,
    "start_time": "2021-12-21T08:58:44.197Z"
   },
   {
    "duration": 31088,
    "start_time": "2021-12-21T08:59:57.862Z"
   },
   {
    "duration": 8,
    "start_time": "2021-12-21T09:00:53.277Z"
   },
   {
    "duration": 7,
    "start_time": "2021-12-21T09:00:56.976Z"
   },
   {
    "duration": 12,
    "start_time": "2021-12-21T09:00:59.402Z"
   },
   {
    "duration": 16,
    "start_time": "2021-12-21T09:01:07.077Z"
   },
   {
    "duration": 1634,
    "start_time": "2021-12-21T09:20:53.450Z"
   },
   {
    "duration": 87,
    "start_time": "2021-12-21T09:20:55.087Z"
   },
   {
    "duration": 19,
    "start_time": "2021-12-21T09:20:55.177Z"
   },
   {
    "duration": 225,
    "start_time": "2021-12-21T09:20:55.200Z"
   },
   {
    "duration": 245,
    "start_time": "2021-12-21T09:20:55.428Z"
   },
   {
    "duration": 223,
    "start_time": "2021-12-21T09:20:55.676Z"
   },
   {
    "duration": 202,
    "start_time": "2021-12-21T09:20:55.902Z"
   },
   {
    "duration": 9,
    "start_time": "2021-12-21T09:20:56.108Z"
   },
   {
    "duration": 41,
    "start_time": "2021-12-21T09:20:56.121Z"
   },
   {
    "duration": 33,
    "start_time": "2021-12-21T09:20:56.165Z"
   },
   {
    "duration": 20,
    "start_time": "2021-12-21T09:20:56.200Z"
   },
   {
    "duration": 132,
    "start_time": "2021-12-21T09:20:56.223Z"
   },
   {
    "duration": 35,
    "start_time": "2021-12-21T09:20:56.358Z"
   },
   {
    "duration": 20,
    "start_time": "2021-12-21T09:20:56.395Z"
   },
   {
    "duration": 37,
    "start_time": "2021-12-21T09:20:56.417Z"
   },
   {
    "duration": 24,
    "start_time": "2021-12-21T09:20:56.463Z"
   },
   {
    "duration": 6,
    "start_time": "2021-12-21T09:20:56.489Z"
   },
   {
    "duration": 21,
    "start_time": "2021-12-21T09:20:56.497Z"
   },
   {
    "duration": 15,
    "start_time": "2021-12-21T09:20:56.521Z"
   },
   {
    "duration": 25,
    "start_time": "2021-12-21T09:20:56.538Z"
   },
   {
    "duration": 59122,
    "start_time": "2021-12-21T09:20:56.565Z"
   },
   {
    "duration": 30996,
    "start_time": "2021-12-21T09:21:55.690Z"
   },
   {
    "duration": 7,
    "start_time": "2021-12-21T09:22:26.693Z"
   },
   {
    "duration": 27,
    "start_time": "2021-12-21T09:22:26.703Z"
   },
   {
    "duration": 19,
    "start_time": "2021-12-21T09:22:26.732Z"
   },
   {
    "duration": 28,
    "start_time": "2021-12-21T09:22:26.753Z"
   },
   {
    "duration": 29,
    "start_time": "2021-12-21T09:22:26.783Z"
   }
  ],
  "kernelspec": {
   "display_name": "Python 3",
   "language": "python",
   "name": "python3"
  },
  "language_info": {
   "name": "python",
   "version": "3.8.8",
   "mimetype": "text/x-python",
   "codemirror_mode": {
    "name": "ipython",
    "version": 3
   },
   "pygments_lexer": "ipython3",
   "nbconvert_exporter": "python",
   "file_extension": ".py"
  },
  "toc": {
   "toc_position": {},
   "skip_h1_title": true,
   "number_sections": true,
   "title_cell": "Table of Contents",
   "toc_window_display": false,
   "base_numbering": 1,
   "toc_section_display": true,
   "title_sidebar": "Contents",
   "toc_cell": false,
   "nav_menu": {},
   "sideBar": true
  },
  "nteract": {
   "version": "0.28.0"
  }
 },
 "nbformat": 4,
 "nbformat_minor": 2
}