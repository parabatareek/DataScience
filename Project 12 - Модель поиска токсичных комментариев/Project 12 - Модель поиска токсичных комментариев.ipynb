{
 "cells": [
  {
   "cell_type": "markdown",
   "metadata": {
    "id": "ENB5AkXdxRgr",
    "pycharm": {
     "name": "#%% md\n"
    }
   },
   "source": [
    "# Проект для «Викишоп» #"
   ]
  },
  {
   "cell_type": "markdown",
   "metadata": {
    "collapsed": true,
    "id": "5PuBddnxxRgs",
    "pycharm": {
     "name": "#%% md\n"
    }
   },
   "source": [
    "# Содержание #\n",
    "<div>\n",
    "    <ol>\n",
    "        <li>\n",
    "            <a href=\"#project\">Проект для «Викишоп»</a>\n",
    "        </li>\n",
    "        <ul>\n",
    "            <li>\n",
    "                <a href=\"#project_description\">Описание проекта</a>\n",
    "            </li>\n",
    "            <li>\n",
    "                <a href=\"#project_instruction\">Инструкция по выполнению проекта</a>\n",
    "            </li>\n",
    "            <li>\n",
    "                <a href=\"#project_data_description\">Описание данных</a>\n",
    "            </li>\n",
    "        </ul>\n",
    "        <li>\n",
    "            <a href=\"#import_libs\">Импорт библиотек</a>\n",
    "        </li>\n",
    "        <li>\n",
    "            <a href=\"#data\">Данные</a>\n",
    "        </li>\n",
    "        <ul>\n",
    "            <li>\n",
    "                <a href=\"#data_load\">Загрузка данных</a>\n",
    "            </li>\n",
    "            <li>\n",
    "                <a href=\"#data_first_view\">Первичный осмотр данных</a>\n",
    "            </li>\n",
    "            <li>\n",
    "                <a href=\"#data_class_balance\">Оценка балланса классов</a>\n",
    "            </li>\n",
    "        </ul>\n",
    "        <li>\n",
    "            <a href=\"#prepare\">Подготовка</a>\n",
    "        </li>\n",
    "        <ul>\n",
    "            <li>\n",
    "                <a href=\"#prepare_clear\">Очистка данных от лишних символов</a>\n",
    "            </li>\n",
    "            <ul>\n",
    "                <li>\n",
    "                    <a href=\"#prepare_clear_func\">Функция очистки/лемматизации данных</a>\n",
    "                </li>\n",
    "            </ul>\n",
    "            <li>\n",
    "            <li>\n",
    "                <a href=\"#prepare_feature_target\">Создание наборов features/target</a>\n",
    "            </li>\n",
    "            <li>\n",
    "                <a href=\"#prepare_train_test\">Создание учебного/тестового наборов данных</a>\n",
    "            </li>\n",
    "            <li>\n",
    "                <a href=\"#prepare_class_balance\">Увеличение выборки</a>\n",
    "            </li>\n",
    "            <ul>\n",
    "                <li>\n",
    "                    <a href=\"#prepare_class_balance_func\">Функция увеличения выборки</a>\n",
    "                </li>\n",
    "            </ul>\n",
    "            <li>\n",
    "                <a href=\"#prepare_tf_idf_features\">Векторизация признаков</a>\n",
    "            </li>\n",
    "        </ul>\n",
    "        <li>\n",
    "            <a href=\"#hyperparams\">Гиперпараметры моделей</a>\n",
    "        </li>\n",
    "        <ul>\n",
    "            <li>\n",
    "                <a href=\"#hyperparams_grid_func\">Функция возвращающая набор гиперпараметров используемых моделей</a>\n",
    "            </li>\n",
    "            <li>\n",
    "                <a href=\"#hyperparams_gridsearch_func\">Функция подбора гиперпараметров используемых моделей</a>\n",
    "            </li>\n",
    "            <li>\n",
    "                <a href=\"#hyperparams_log_reg_up\">Подбор гиперпараметров LogisticRegression для увеличенной выборки</a>\n",
    "            </li>\n",
    "            <li>\n",
    "                <a href=\"#hyperparams_log_reg_bal\">Подбор гиперпараметров LogisticRegression class_weight='balanced'</a>\n",
    "            </li>\n",
    "        </ul>\n",
    "        <li>\n",
    "            <a href=\"#predict\">Прогноз</a>\n",
    "        </li>\n",
    "        <ul>\n",
    "            <li>\n",
    "                <a href=\"#predict_log_regression_up\">Прогноз модели LogisticRegression для увеличенной выборки</a>\n",
    "            </li>\n",
    "            <li>\n",
    "                <a href=\"#predict_log_regression_bal\">Прогноз модели LogisticRegression class_weight='balanced'</a>\n",
    "            </li>\n",
    "        </ul>\n",
    "    </ol>\n",
    "</div>"
   ]
  },
  {
   "cell_type": "markdown",
   "metadata": {
    "id": "RMWwJA5txRgv",
    "pycharm": {
     "name": "#%% md\n"
    }
   },
   "source": [
    "<a id='import_libs'></a>\n",
    "# Импорт библиотек #"
   ]
  },
  {
   "cell_type": "code",
   "execution_count": 1,
   "metadata": {
    "id": "qKoqfwqjxRgw",
    "pycharm": {
     "name": "#%%\n"
    }
   },
   "outputs": [
    {
     "name": "stderr",
     "output_type": "stream",
     "text": [
      "/tmp/ipykernel_18056/1698642592.py:5: DeprecationWarning: Importing display from IPython.core.display is deprecated since IPython 7.14, please import from IPython display\n",
      "  from IPython.core.display import display\n"
     ]
    }
   ],
   "source": [
    "import warnings\n",
    "import time\n",
    "\n",
    "import pandas as pd\n",
    "from IPython.core.display import display\n",
    "import seaborn as sns\n",
    "import matplotlib.pyplot as plt\n",
    "import re\n",
    "\n",
    "from sklearn.linear_model import LogisticRegression\n",
    "from sklearn.model_selection import train_test_split, GridSearchCV\n",
    "from sklearn.utils import shuffle\n",
    "from sklearn.metrics import f1_score\n",
    "import nltk\n",
    "from nltk.corpus import stopwords as nltk_stopwords\n",
    "from sklearn.feature_extraction.text import TfidfVectorizer\n",
    "from pymystem3 import Mystem\n",
    "warnings.filterwarnings('ignore')\n",
    "state = 80"
   ]
  },
  {
   "cell_type": "markdown",
   "metadata": {
    "id": "hxrVj3TmxRgy",
    "pycharm": {
     "name": "#%% md\n"
    }
   },
   "source": [
    "<a id='data'></a>\n",
    "# Данные #"
   ]
  },
  {
   "cell_type": "markdown",
   "metadata": {
    "id": "Dq2hAyOqxRgz",
    "pycharm": {
     "name": "#%% md\n"
    }
   },
   "source": [
    "<a id='data_load'></a>\n",
    "## Загрузка данных ##"
   ]
  },
  {
   "cell_type": "code",
   "execution_count": 2,
   "metadata": {
    "colab": {
     "base_uri": "https://localhost:8080/",
     "height": 424
    },
    "id": "02zTFtrJxRgz",
    "outputId": "e99fe2b0-23d6-408a-b3b2-5af0623bfac4",
    "pycharm": {
     "name": "#%%\n"
    }
   },
   "outputs": [
    {
     "data": {
      "text/plain": "                                                     text  toxic\n0       Explanation\\nWhy the edits made under my usern...      0\n1       D'aww! He matches this background colour I'm s...      0\n2       Hey man, I'm really not trying to edit war. It...      0\n3       \"\\nMore\\nI can't make any real suggestions on ...      0\n4       You, sir, are my hero. Any chance you remember...      0\n...                                                   ...    ...\n159566  \":::::And for the second time of asking, when ...      0\n159567  You should be ashamed of yourself \\n\\nThat is ...      0\n159568  Spitzer \\n\\nUmm, theres no actual article for ...      0\n159569  And it looks like it was actually you who put ...      0\n159570  \"\\nAnd ... I really don't think you understand...      0\n\n[159571 rows x 2 columns]",
      "text/html": "<div>\n<style scoped>\n    .dataframe tbody tr th:only-of-type {\n        vertical-align: middle;\n    }\n\n    .dataframe tbody tr th {\n        vertical-align: top;\n    }\n\n    .dataframe thead th {\n        text-align: right;\n    }\n</style>\n<table border=\"1\" class=\"dataframe\">\n  <thead>\n    <tr style=\"text-align: right;\">\n      <th></th>\n      <th>text</th>\n      <th>toxic</th>\n    </tr>\n  </thead>\n  <tbody>\n    <tr>\n      <th>0</th>\n      <td>Explanation\\nWhy the edits made under my usern...</td>\n      <td>0</td>\n    </tr>\n    <tr>\n      <th>1</th>\n      <td>D'aww! He matches this background colour I'm s...</td>\n      <td>0</td>\n    </tr>\n    <tr>\n      <th>2</th>\n      <td>Hey man, I'm really not trying to edit war. It...</td>\n      <td>0</td>\n    </tr>\n    <tr>\n      <th>3</th>\n      <td>\"\\nMore\\nI can't make any real suggestions on ...</td>\n      <td>0</td>\n    </tr>\n    <tr>\n      <th>4</th>\n      <td>You, sir, are my hero. Any chance you remember...</td>\n      <td>0</td>\n    </tr>\n    <tr>\n      <th>...</th>\n      <td>...</td>\n      <td>...</td>\n    </tr>\n    <tr>\n      <th>159566</th>\n      <td>\":::::And for the second time of asking, when ...</td>\n      <td>0</td>\n    </tr>\n    <tr>\n      <th>159567</th>\n      <td>You should be ashamed of yourself \\n\\nThat is ...</td>\n      <td>0</td>\n    </tr>\n    <tr>\n      <th>159568</th>\n      <td>Spitzer \\n\\nUmm, theres no actual article for ...</td>\n      <td>0</td>\n    </tr>\n    <tr>\n      <th>159569</th>\n      <td>And it looks like it was actually you who put ...</td>\n      <td>0</td>\n    </tr>\n    <tr>\n      <th>159570</th>\n      <td>\"\\nAnd ... I really don't think you understand...</td>\n      <td>0</td>\n    </tr>\n  </tbody>\n</table>\n<p>159571 rows × 2 columns</p>\n</div>"
     },
     "metadata": {},
     "output_type": "display_data"
    }
   ],
   "source": [
    "data = pd.read_csv('datasets/toxic_comments.csv')\n",
    "data['text'] = data['text'].values.astype('U')\n",
    "display(data)"
   ]
  },
  {
   "cell_type": "markdown",
   "metadata": {
    "id": "lOaI6-V7xRg0",
    "pycharm": {
     "name": "#%% md\n"
    }
   },
   "source": [
    "<a id='data_first_view'></a>\n",
    "## Первичный осмотр данных ##"
   ]
  },
  {
   "cell_type": "code",
   "execution_count": 3,
   "metadata": {
    "colab": {
     "base_uri": "https://localhost:8080/"
    },
    "id": "YH7k553OxRg1",
    "outputId": "f5bd4b20-058c-4c0a-8b85-b9190d37097c",
    "pycharm": {
     "name": "#%%\n"
    }
   },
   "outputs": [
    {
     "name": "stdout",
     "output_type": "stream",
     "text": [
      "<class 'pandas.core.frame.DataFrame'>\n",
      "RangeIndex: 159571 entries, 0 to 159570\n",
      "Data columns (total 2 columns):\n",
      " #   Column  Non-Null Count   Dtype \n",
      "---  ------  --------------   ----- \n",
      " 0   text    159571 non-null  object\n",
      " 1   toxic   159571 non-null  int64 \n",
      "dtypes: int64(1), object(1)\n",
      "memory usage: 2.4+ MB\n"
     ]
    }
   ],
   "source": [
    "data.info()"
   ]
  },
  {
   "cell_type": "code",
   "execution_count": 4,
   "metadata": {
    "colab": {
     "base_uri": "https://localhost:8080/",
     "height": 300
    },
    "id": "OWXP72h1xRg1",
    "outputId": "2219faa5-1f1d-4076-9cf2-f0f62848d50e",
    "pycharm": {
     "name": "#%%\n"
    }
   },
   "outputs": [
    {
     "data": {
      "text/plain": "               toxic\ncount  159571.000000\nmean        0.101679\nstd         0.302226\nmin         0.000000\n25%         0.000000\n50%         0.000000\n75%         0.000000\nmax         1.000000",
      "text/html": "<div>\n<style scoped>\n    .dataframe tbody tr th:only-of-type {\n        vertical-align: middle;\n    }\n\n    .dataframe tbody tr th {\n        vertical-align: top;\n    }\n\n    .dataframe thead th {\n        text-align: right;\n    }\n</style>\n<table border=\"1\" class=\"dataframe\">\n  <thead>\n    <tr style=\"text-align: right;\">\n      <th></th>\n      <th>toxic</th>\n    </tr>\n  </thead>\n  <tbody>\n    <tr>\n      <th>count</th>\n      <td>159571.000000</td>\n    </tr>\n    <tr>\n      <th>mean</th>\n      <td>0.101679</td>\n    </tr>\n    <tr>\n      <th>std</th>\n      <td>0.302226</td>\n    </tr>\n    <tr>\n      <th>min</th>\n      <td>0.000000</td>\n    </tr>\n    <tr>\n      <th>25%</th>\n      <td>0.000000</td>\n    </tr>\n    <tr>\n      <th>50%</th>\n      <td>0.000000</td>\n    </tr>\n    <tr>\n      <th>75%</th>\n      <td>0.000000</td>\n    </tr>\n    <tr>\n      <th>max</th>\n      <td>1.000000</td>\n    </tr>\n  </tbody>\n</table>\n</div>"
     },
     "execution_count": 4,
     "metadata": {},
     "output_type": "execute_result"
    }
   ],
   "source": [
    "data.describe()"
   ]
  },
  {
   "cell_type": "code",
   "execution_count": 5,
   "metadata": {
    "colab": {
     "base_uri": "https://localhost:8080/"
    },
    "id": "blENPVppxRg2",
    "outputId": "c1a557a0-345e-4f1a-935e-4c2bfb89ad98",
    "pycharm": {
     "name": "#%%\n"
    }
   },
   "outputs": [
    {
     "data": {
      "text/plain": "text     0\ntoxic    0\ndtype: int64"
     },
     "execution_count": 5,
     "metadata": {},
     "output_type": "execute_result"
    }
   ],
   "source": [
    "data.isna().sum()"
   ]
  },
  {
   "cell_type": "code",
   "execution_count": 6,
   "metadata": {
    "colab": {
     "base_uri": "https://localhost:8080/",
     "height": 49
    },
    "id": "SfOjgT5YxRg3",
    "outputId": "cd142d46-d93d-45b4-b684-38c728506d74",
    "pycharm": {
     "name": "#%%\n"
    }
   },
   "outputs": [
    {
     "data": {
      "text/plain": "Empty DataFrame\nColumns: [text, toxic]\nIndex: []",
      "text/html": "<div>\n<style scoped>\n    .dataframe tbody tr th:only-of-type {\n        vertical-align: middle;\n    }\n\n    .dataframe tbody tr th {\n        vertical-align: top;\n    }\n\n    .dataframe thead th {\n        text-align: right;\n    }\n</style>\n<table border=\"1\" class=\"dataframe\">\n  <thead>\n    <tr style=\"text-align: right;\">\n      <th></th>\n      <th>text</th>\n      <th>toxic</th>\n    </tr>\n  </thead>\n  <tbody>\n  </tbody>\n</table>\n</div>"
     },
     "execution_count": 6,
     "metadata": {},
     "output_type": "execute_result"
    }
   ],
   "source": [
    "data.query('text == \"\"')"
   ]
  },
  {
   "cell_type": "markdown",
   "metadata": {
    "id": "8ZXxGDugxRg3",
    "pycharm": {
     "name": "#%% md\n"
    }
   },
   "source": [
    "<a id='data_class_balance'></a>\n",
    "## Оценка балланса классов ##"
   ]
  },
  {
   "cell_type": "code",
   "execution_count": 7,
   "metadata": {
    "colab": {
     "base_uri": "https://localhost:8080/",
     "height": 0
    },
    "id": "04vocemOxRg3",
    "outputId": "d722ff18-cc2f-4b77-b1c4-ac8c16c27fa7",
    "pycharm": {
     "name": "#%%\n"
    }
   },
   "outputs": [
    {
     "data": {
      "text/plain": "<Figure size 432x288 with 1 Axes>",
      "image/png": "[encoded data removed]"
     },
     "metadata": {},
     "output_type": "display_data"
    }
   ],
   "source": [
    "fig = sns.histplot(data=data['toxic'])\n",
    "plt.show()"
   ]
  },
  {
   "cell_type": "markdown",
   "metadata": {
    "id": "7Y8owm6hxRg4",
    "pycharm": {
     "name": "#%% md\n"
    }
   },
   "source": [
    "## Итоги первичного осмотра данных ##\n",
    "1. пропущенные значения отсутствуют\n",
    "2. классы несбаллансированны =>\n",
    "    необходимо использовать параметр моделей ~class_weight = balanced, или провести баллансировку классов самостоятельно."
   ]
  },
  {
   "cell_type": "markdown",
   "metadata": {
    "id": "9D-_siDuxRg4",
    "pycharm": {
     "name": "#%% md\n"
    }
   },
   "source": [
    "<a id='prepare'></a>\n",
    "# Подготовка #"
   ]
  },
  {
   "cell_type": "markdown",
   "metadata": {
    "id": "mcH46aIMxRg5"
   },
   "source": [
    "<a id='prepare_clear'></a>\n",
    "## Очистка данных от лишних символов ##"
   ]
  },
  {
   "cell_type": "markdown",
   "metadata": {
    "id": "DdFfbIFsxRg5"
   },
   "source": [
    "<a id='prepare_clear_func'></a>\n",
    "### Функция очистки/лемматизации данных ###"
   ]
  },
  {
   "cell_type": "code",
   "execution_count": 8,
   "metadata": {
    "id": "bOz3mYotxRg5",
    "pycharm": {
     "name": "#%%\n"
    }
   },
   "outputs": [],
   "source": [
    "m = Mystem()\n",
    "def data_clear_lemmatize(text):\n",
    "\n",
    "    text = re.sub(pattern='[^a-zA-Z ]',\n",
    "                  repl=' ',\n",
    "                  string=text.strip())\n",
    "    return ''.join(m.lemmatize(text=text))\n",
    "\n",
    "data['text'] = data['text'].apply(lambda x: data_clear_lemmatize(x))"
   ]
  },
  {
   "cell_type": "markdown",
   "metadata": {
    "id": "YxaeMBaMxRg6"
   },
   "source": [
    "<a id='prepare_feature_target'></a>\n",
    "\n",
    "## Создание наборов features/target ##"
   ]
  },
  {
   "cell_type": "code",
   "execution_count": 9,
   "metadata": {
    "id": "gg8qDFzoxRg6",
    "pycharm": {
     "name": "#%%\n"
    }
   },
   "outputs": [],
   "source": [
    "features = data['text']\n",
    "target = data['toxic']"
   ]
  },
  {
   "cell_type": "markdown",
   "metadata": {
    "id": "BLUt80abxRg6"
   },
   "source": [
    "<div class=\"alert alert-block alert-success\">\n",
    "<b>Успех:</b> Очистка была сделана правильно.\n",
    "</div>"
   ]
  },
  {
   "cell_type": "markdown",
   "metadata": {
    "id": "cuqgCILJxRg6"
   },
   "source": [
    "<a id='prepare_train_test'><a/>\n",
    "## Создание учебного/тестового наборов данных ##"
   ]
  },
  {
   "cell_type": "code",
   "execution_count": 10,
   "metadata": {
    "id": "fgUwTKRyxRg7",
    "pycharm": {
     "name": "#%%\n"
    }
   },
   "outputs": [],
   "source": [
    "features_train, features_test, target_train, target_test = train_test_split(features,\n",
    "                                                                            target,\n",
    "                                                                            test_size=0.3,\n",
    "                                                                            random_state=state,\n",
    "                                                                            shuffle=True)"
   ]
  },
  {
   "cell_type": "markdown",
   "metadata": {
    "id": "jrnXjYtmxRg7",
    "pycharm": {
     "name": "#%% md\n"
    }
   },
   "source": [
    "<a id='prepare_class_balance'></a>\n",
    "## Увеличение выборки ##"
   ]
  },
  {
   "cell_type": "markdown",
   "metadata": {
    "id": "0ePE3YjexRg7"
   },
   "source": [
    "<a id='prepare_class_balance_func'></a>\n",
    "### Функция увеличения выборки ###"
   ]
  },
  {
   "cell_type": "code",
   "execution_count": 11,
   "metadata": {
    "id": "WKw0KpyExRg7",
    "pycharm": {
     "name": "#%%\n"
    }
   },
   "outputs": [
    {
     "data": {
      "text/plain": "<Figure size 432x288 with 1 Axes>",
      "image/png": "[encoded data removed]"
     },
     "metadata": {},
     "output_type": "display_data"
    }
   ],
   "source": [
    "def upsample_func(features, target, repeat):\n",
    "    features_zeros = features[target == 0]\n",
    "    features_ones = features[target == 1]\n",
    "    target_zeros = target[target == 0]\n",
    "    target_ones = target[target == 1]\n",
    "\n",
    "    features_upsampled = pd.concat([features_zeros] + [features_ones] * repeat)\n",
    "    target_upsampled = pd.concat([target_zeros] + [target_ones] * repeat)\n",
    "\n",
    "    features_upsampled, target_upsampled = shuffle(\n",
    "        features_upsampled, target_upsampled, random_state=state)\n",
    "\n",
    "    return features_upsampled, target_upsampled\n",
    "\n",
    "features_train_upsampled, target_train_upsampled = upsample_func(features_train, target_train, 9)\n",
    "\n",
    "fig = sns.histplot(data=target_train_upsampled)\n",
    "plt.show()"
   ]
  },
  {
   "cell_type": "markdown",
   "metadata": {
    "pycharm": {
     "name": "#%% md\n"
    }
   },
   "source": [
    "<a id=prepare_tf_idf_features></a>\n",
    "## Векторизация признаков ##"
   ]
  },
  {
   "cell_type": "code",
   "execution_count": 12,
   "metadata": {
    "colab": {
     "base_uri": "https://localhost:8080/"
    },
    "id": "-otFTqfZX84I",
    "outputId": "6f871bf5-cc4a-4f4c-87b1-5c75a85e3e90",
    "pycharm": {
     "name": "#%%\n"
    }
   },
   "outputs": [
    {
     "name": "stderr",
     "output_type": "stream",
     "text": [
      "[nltk_data] Downloading package stopwords to\n",
      "[nltk_data]     /home/parabatareek/nltk_data...\n",
      "[nltk_data]   Package stopwords is already up-to-date!\n"
     ]
    }
   ],
   "source": [
    "nltk.download('stopwords')\n",
    "stopwords = set(nltk_stopwords.words('english'))\n",
    "\n",
    "count_tf_idf = TfidfVectorizer(stop_words=stopwords)\n",
    "train_tf_idf_up = count_tf_idf.fit_transform(features_train_upsampled)\n",
    "train_tf_idf_bal = count_tf_idf.fit_transform(features_train)\n",
    "test_tf_idf = count_tf_idf.transform(features_test)"
   ]
  },
  {
   "cell_type": "markdown",
   "metadata": {
    "id": "wiv2OfcoxRhA",
    "pycharm": {
     "name": "#%% md\n"
    }
   },
   "source": [
    "<a id='hyperparams'></a>\n",
    "# Гиперпараметры моделей #"
   ]
  },
  {
   "cell_type": "markdown",
   "metadata": {
    "id": "VpNvHGc_xRhB",
    "pycharm": {
     "name": "#%% md\n"
    }
   },
   "source": [
    "<a id='hyperparams_grid_func'></a>\n",
    "## Функция возвращающая набор гиперпараметров используемых моделей ##"
   ]
  },
  {
   "cell_type": "code",
   "execution_count": 13,
   "metadata": {
    "id": "5XSMhPFixRhB",
    "pycharm": {
     "name": "#%%\n"
    }
   },
   "outputs": [],
   "source": [
    "def func_get_search_params(clf_name):\n",
    "    params = {'LogisticRegression' : {'C' : [100, 10, 1.0, 0.1, 0.01],\n",
    "                                      'solver' : ['lbfgs', 'liblinear']}}\n",
    "    return params[clf_name]"
   ]
  },
  {
   "cell_type": "markdown",
   "metadata": {
    "id": "RmY4tNGbxRhB",
    "pycharm": {
     "name": "#%% md\n"
    }
   },
   "source": [
    "<a id='hyperparams_gridsearch_func'></a>\n",
    "## Функция подбора гиперпараметров используемых моделей ##"
   ]
  },
  {
   "cell_type": "code",
   "execution_count": 14,
   "metadata": {
    "id": "-vDmNzQMxRhB",
    "pycharm": {
     "name": "#%%\n"
    }
   },
   "outputs": [],
   "source": [
    "def get_grid_params_func(clf):\n",
    "    grid = GridSearchCV(clf,\n",
    "                        param_grid=func_get_search_params(clf_name=type(clf).__name__),\n",
    "                        scoring='f1',\n",
    "                        n_jobs=6,\n",
    "                        cv=5)\n",
    "    return grid"
   ]
  },
  {
   "cell_type": "markdown",
   "metadata": {
    "id": "spGLnqCpc8_-"
   },
   "source": [
    "<a id='hyperparams_log_reg_up'></a>\n",
    "## Подбор гиперпараметров LogisticRegression для увеличенной выборки ##"
   ]
  },
  {
   "cell_type": "code",
   "execution_count": 15,
   "metadata": {
    "id": "82-tQXwrdPo4"
   },
   "outputs": [
    {
     "name": "stderr",
     "output_type": "stream",
     "text": [
      "/home/parabatareek/venv/venv3.9/lib/python3.9/site-packages/sklearn/linear_model/_logistic.py:814: ConvergenceWarning: lbfgs failed to converge (status=1):\n",
      "STOP: TOTAL NO. of ITERATIONS REACHED LIMIT.\n",
      "\n",
      "Increase the number of iterations (max_iter) or scale the data as shown in:\n",
      "    https://scikit-learn.org/stable/modules/preprocessing.html\n",
      "Please also refer to the documentation for alternative solver options:\n",
      "    https://scikit-learn.org/stable/modules/linear_model.html#logistic-regression\n",
      "  n_iter_i = _check_optimize_result(\n",
      "/home/parabatareek/venv/venv3.9/lib/python3.9/site-packages/sklearn/linear_model/_logistic.py:814: ConvergenceWarning: lbfgs failed to converge (status=1):\n",
      "STOP: TOTAL NO. of ITERATIONS REACHED LIMIT.\n",
      "\n",
      "Increase the number of iterations (max_iter) or scale the data as shown in:\n",
      "    https://scikit-learn.org/stable/modules/preprocessing.html\n",
      "Please also refer to the documentation for alternative solver options:\n",
      "    https://scikit-learn.org/stable/modules/linear_model.html#logistic-regression\n",
      "  n_iter_i = _check_optimize_result(\n",
      "/home/parabatareek/venv/venv3.9/lib/python3.9/site-packages/sklearn/linear_model/_logistic.py:814: ConvergenceWarning: lbfgs failed to converge (status=1):\n",
      "STOP: TOTAL NO. of ITERATIONS REACHED LIMIT.\n",
      "\n",
      "Increase the number of iterations (max_iter) or scale the data as shown in:\n",
      "    https://scikit-learn.org/stable/modules/preprocessing.html\n",
      "Please also refer to the documentation for alternative solver options:\n",
      "    https://scikit-learn.org/stable/modules/linear_model.html#logistic-regression\n",
      "  n_iter_i = _check_optimize_result(\n",
      "/home/parabatareek/venv/venv3.9/lib/python3.9/site-packages/sklearn/linear_model/_logistic.py:814: ConvergenceWarning: lbfgs failed to converge (status=1):\n",
      "STOP: TOTAL NO. of ITERATIONS REACHED LIMIT.\n",
      "\n",
      "Increase the number of iterations (max_iter) or scale the data as shown in:\n",
      "    https://scikit-learn.org/stable/modules/preprocessing.html\n",
      "Please also refer to the documentation for alternative solver options:\n",
      "    https://scikit-learn.org/stable/modules/linear_model.html#logistic-regression\n",
      "  n_iter_i = _check_optimize_result(\n",
      "/home/parabatareek/venv/venv3.9/lib/python3.9/site-packages/sklearn/linear_model/_logistic.py:814: ConvergenceWarning: lbfgs failed to converge (status=1):\n",
      "STOP: TOTAL NO. of ITERATIONS REACHED LIMIT.\n",
      "\n",
      "Increase the number of iterations (max_iter) or scale the data as shown in:\n",
      "    https://scikit-learn.org/stable/modules/preprocessing.html\n",
      "Please also refer to the documentation for alternative solver options:\n",
      "    https://scikit-learn.org/stable/modules/linear_model.html#logistic-regression\n",
      "  n_iter_i = _check_optimize_result(\n",
      "/home/parabatareek/venv/venv3.9/lib/python3.9/site-packages/sklearn/linear_model/_logistic.py:814: ConvergenceWarning: lbfgs failed to converge (status=1):\n",
      "STOP: TOTAL NO. of ITERATIONS REACHED LIMIT.\n",
      "\n",
      "Increase the number of iterations (max_iter) or scale the data as shown in:\n",
      "    https://scikit-learn.org/stable/modules/preprocessing.html\n",
      "Please also refer to the documentation for alternative solver options:\n",
      "    https://scikit-learn.org/stable/modules/linear_model.html#logistic-regression\n",
      "  n_iter_i = _check_optimize_result(\n",
      "/home/parabatareek/venv/venv3.9/lib/python3.9/site-packages/sklearn/linear_model/_logistic.py:814: ConvergenceWarning: lbfgs failed to converge (status=1):\n",
      "STOP: TOTAL NO. of ITERATIONS REACHED LIMIT.\n",
      "\n",
      "Increase the number of iterations (max_iter) or scale the data as shown in:\n",
      "    https://scikit-learn.org/stable/modules/preprocessing.html\n",
      "Please also refer to the documentation for alternative solver options:\n",
      "    https://scikit-learn.org/stable/modules/linear_model.html#logistic-regression\n",
      "  n_iter_i = _check_optimize_result(\n",
      "/home/parabatareek/venv/venv3.9/lib/python3.9/site-packages/sklearn/linear_model/_logistic.py:814: ConvergenceWarning: lbfgs failed to converge (status=1):\n",
      "STOP: TOTAL NO. of ITERATIONS REACHED LIMIT.\n",
      "\n",
      "Increase the number of iterations (max_iter) or scale the data as shown in:\n",
      "    https://scikit-learn.org/stable/modules/preprocessing.html\n",
      "Please also refer to the documentation for alternative solver options:\n",
      "    https://scikit-learn.org/stable/modules/linear_model.html#logistic-regression\n",
      "  n_iter_i = _check_optimize_result(\n",
      "/home/parabatareek/venv/venv3.9/lib/python3.9/site-packages/sklearn/linear_model/_logistic.py:814: ConvergenceWarning: lbfgs failed to converge (status=1):\n",
      "STOP: TOTAL NO. of ITERATIONS REACHED LIMIT.\n",
      "\n",
      "Increase the number of iterations (max_iter) or scale the data as shown in:\n",
      "    https://scikit-learn.org/stable/modules/preprocessing.html\n",
      "Please also refer to the documentation for alternative solver options:\n",
      "    https://scikit-learn.org/stable/modules/linear_model.html#logistic-regression\n",
      "  n_iter_i = _check_optimize_result(\n",
      "/home/parabatareek/venv/venv3.9/lib/python3.9/site-packages/sklearn/linear_model/_logistic.py:814: ConvergenceWarning: lbfgs failed to converge (status=1):\n",
      "STOP: TOTAL NO. of ITERATIONS REACHED LIMIT.\n",
      "\n",
      "Increase the number of iterations (max_iter) or scale the data as shown in:\n",
      "    https://scikit-learn.org/stable/modules/preprocessing.html\n",
      "Please also refer to the documentation for alternative solver options:\n",
      "    https://scikit-learn.org/stable/modules/linear_model.html#logistic-regression\n",
      "  n_iter_i = _check_optimize_result(\n",
      "/home/parabatareek/venv/venv3.9/lib/python3.9/site-packages/sklearn/linear_model/_logistic.py:814: ConvergenceWarning: lbfgs failed to converge (status=1):\n",
      "STOP: TOTAL NO. of ITERATIONS REACHED LIMIT.\n",
      "\n",
      "Increase the number of iterations (max_iter) or scale the data as shown in:\n",
      "    https://scikit-learn.org/stable/modules/preprocessing.html\n",
      "Please also refer to the documentation for alternative solver options:\n",
      "    https://scikit-learn.org/stable/modules/linear_model.html#logistic-regression\n",
      "  n_iter_i = _check_optimize_result(\n",
      "/home/parabatareek/venv/venv3.9/lib/python3.9/site-packages/sklearn/linear_model/_logistic.py:814: ConvergenceWarning: lbfgs failed to converge (status=1):\n",
      "STOP: TOTAL NO. of ITERATIONS REACHED LIMIT.\n",
      "\n",
      "Increase the number of iterations (max_iter) or scale the data as shown in:\n",
      "    https://scikit-learn.org/stable/modules/preprocessing.html\n",
      "Please also refer to the documentation for alternative solver options:\n",
      "    https://scikit-learn.org/stable/modules/linear_model.html#logistic-regression\n",
      "  n_iter_i = _check_optimize_result(\n",
      "/home/parabatareek/venv/venv3.9/lib/python3.9/site-packages/sklearn/linear_model/_logistic.py:814: ConvergenceWarning: lbfgs failed to converge (status=1):\n",
      "STOP: TOTAL NO. of ITERATIONS REACHED LIMIT.\n",
      "\n",
      "Increase the number of iterations (max_iter) or scale the data as shown in:\n",
      "    https://scikit-learn.org/stable/modules/preprocessing.html\n",
      "Please also refer to the documentation for alternative solver options:\n",
      "    https://scikit-learn.org/stable/modules/linear_model.html#logistic-regression\n",
      "  n_iter_i = _check_optimize_result(\n",
      "/home/parabatareek/venv/venv3.9/lib/python3.9/site-packages/sklearn/linear_model/_logistic.py:814: ConvergenceWarning: lbfgs failed to converge (status=1):\n",
      "STOP: TOTAL NO. of ITERATIONS REACHED LIMIT.\n",
      "\n",
      "Increase the number of iterations (max_iter) or scale the data as shown in:\n",
      "    https://scikit-learn.org/stable/modules/preprocessing.html\n",
      "Please also refer to the documentation for alternative solver options:\n",
      "    https://scikit-learn.org/stable/modules/linear_model.html#logistic-regression\n",
      "  n_iter_i = _check_optimize_result(\n"
     ]
    },
    {
     "data": {
      "text/plain": "{'C': 100, 'solver': 'lbfgs'}"
     },
     "metadata": {},
     "output_type": "display_data"
    }
   ],
   "source": [
    "clf_log_reg = LogisticRegression(random_state=state)\n",
    "\n",
    "grid = get_grid_params_func(clf=clf_log_reg)\n",
    "\n",
    "grid.fit(X=train_tf_idf_up,\n",
    "         y=target_train_upsampled)\n",
    "\n",
    "log_reg_params_up = grid.best_params_\n",
    "display(log_reg_params_up)"
   ]
  },
  {
   "cell_type": "markdown",
   "metadata": {},
   "source": [
    "<a id='hyperparams_log_reg_bal'></a>\n",
    "## Подбор гиперпараметров LogisticRegression class_weight='balanced' ##"
   ]
  },
  {
   "cell_type": "code",
   "execution_count": 16,
   "metadata": {
    "pycharm": {
     "name": "#%%\n"
    }
   },
   "outputs": [
    {
     "name": "stderr",
     "output_type": "stream",
     "text": [
      "/home/parabatareek/venv/venv3.9/lib/python3.9/site-packages/sklearn/linear_model/_logistic.py:814: ConvergenceWarning: lbfgs failed to converge (status=1):\n",
      "STOP: TOTAL NO. of ITERATIONS REACHED LIMIT.\n",
      "\n",
      "Increase the number of iterations (max_iter) or scale the data as shown in:\n",
      "    https://scikit-learn.org/stable/modules/preprocessing.html\n",
      "Please also refer to the documentation for alternative solver options:\n",
      "    https://scikit-learn.org/stable/modules/linear_model.html#logistic-regression\n",
      "  n_iter_i = _check_optimize_result(\n",
      "/home/parabatareek/venv/venv3.9/lib/python3.9/site-packages/sklearn/linear_model/_logistic.py:814: ConvergenceWarning: lbfgs failed to converge (status=1):\n",
      "STOP: TOTAL NO. of ITERATIONS REACHED LIMIT.\n",
      "\n",
      "Increase the number of iterations (max_iter) or scale the data as shown in:\n",
      "    https://scikit-learn.org/stable/modules/preprocessing.html\n",
      "Please also refer to the documentation for alternative solver options:\n",
      "    https://scikit-learn.org/stable/modules/linear_model.html#logistic-regression\n",
      "  n_iter_i = _check_optimize_result(\n",
      "/home/parabatareek/venv/venv3.9/lib/python3.9/site-packages/sklearn/linear_model/_logistic.py:814: ConvergenceWarning: lbfgs failed to converge (status=1):\n",
      "STOP: TOTAL NO. of ITERATIONS REACHED LIMIT.\n",
      "\n",
      "Increase the number of iterations (max_iter) or scale the data as shown in:\n",
      "    https://scikit-learn.org/stable/modules/preprocessing.html\n",
      "Please also refer to the documentation for alternative solver options:\n",
      "    https://scikit-learn.org/stable/modules/linear_model.html#logistic-regression\n",
      "  n_iter_i = _check_optimize_result(\n",
      "/home/parabatareek/venv/venv3.9/lib/python3.9/site-packages/sklearn/linear_model/_logistic.py:814: ConvergenceWarning: lbfgs failed to converge (status=1):\n",
      "STOP: TOTAL NO. of ITERATIONS REACHED LIMIT.\n",
      "\n",
      "Increase the number of iterations (max_iter) or scale the data as shown in:\n",
      "    https://scikit-learn.org/stable/modules/preprocessing.html\n",
      "Please also refer to the documentation for alternative solver options:\n",
      "    https://scikit-learn.org/stable/modules/linear_model.html#logistic-regression\n",
      "  n_iter_i = _check_optimize_result(\n",
      "/home/parabatareek/venv/venv3.9/lib/python3.9/site-packages/sklearn/linear_model/_logistic.py:814: ConvergenceWarning: lbfgs failed to converge (status=1):\n",
      "STOP: TOTAL NO. of ITERATIONS REACHED LIMIT.\n",
      "\n",
      "Increase the number of iterations (max_iter) or scale the data as shown in:\n",
      "    https://scikit-learn.org/stable/modules/preprocessing.html\n",
      "Please also refer to the documentation for alternative solver options:\n",
      "    https://scikit-learn.org/stable/modules/linear_model.html#logistic-regression\n",
      "  n_iter_i = _check_optimize_result(\n",
      "/home/parabatareek/venv/venv3.9/lib/python3.9/site-packages/sklearn/linear_model/_logistic.py:814: ConvergenceWarning: lbfgs failed to converge (status=1):\n",
      "STOP: TOTAL NO. of ITERATIONS REACHED LIMIT.\n",
      "\n",
      "Increase the number of iterations (max_iter) or scale the data as shown in:\n",
      "    https://scikit-learn.org/stable/modules/preprocessing.html\n",
      "Please also refer to the documentation for alternative solver options:\n",
      "    https://scikit-learn.org/stable/modules/linear_model.html#logistic-regression\n",
      "  n_iter_i = _check_optimize_result(\n",
      "/home/parabatareek/venv/venv3.9/lib/python3.9/site-packages/sklearn/linear_model/_logistic.py:814: ConvergenceWarning: lbfgs failed to converge (status=1):\n",
      "STOP: TOTAL NO. of ITERATIONS REACHED LIMIT.\n",
      "\n",
      "Increase the number of iterations (max_iter) or scale the data as shown in:\n",
      "    https://scikit-learn.org/stable/modules/preprocessing.html\n",
      "Please also refer to the documentation for alternative solver options:\n",
      "    https://scikit-learn.org/stable/modules/linear_model.html#logistic-regression\n",
      "  n_iter_i = _check_optimize_result(\n",
      "/home/parabatareek/venv/venv3.9/lib/python3.9/site-packages/sklearn/linear_model/_logistic.py:814: ConvergenceWarning: lbfgs failed to converge (status=1):\n",
      "STOP: TOTAL NO. of ITERATIONS REACHED LIMIT.\n",
      "\n",
      "Increase the number of iterations (max_iter) or scale the data as shown in:\n",
      "    https://scikit-learn.org/stable/modules/preprocessing.html\n",
      "Please also refer to the documentation for alternative solver options:\n",
      "    https://scikit-learn.org/stable/modules/linear_model.html#logistic-regression\n",
      "  n_iter_i = _check_optimize_result(\n",
      "/home/parabatareek/venv/venv3.9/lib/python3.9/site-packages/sklearn/linear_model/_logistic.py:814: ConvergenceWarning: lbfgs failed to converge (status=1):\n",
      "STOP: TOTAL NO. of ITERATIONS REACHED LIMIT.\n",
      "\n",
      "Increase the number of iterations (max_iter) or scale the data as shown in:\n",
      "    https://scikit-learn.org/stable/modules/preprocessing.html\n",
      "Please also refer to the documentation for alternative solver options:\n",
      "    https://scikit-learn.org/stable/modules/linear_model.html#logistic-regression\n",
      "  n_iter_i = _check_optimize_result(\n",
      "/home/parabatareek/venv/venv3.9/lib/python3.9/site-packages/sklearn/linear_model/_logistic.py:814: ConvergenceWarning: lbfgs failed to converge (status=1):\n",
      "STOP: TOTAL NO. of ITERATIONS REACHED LIMIT.\n",
      "\n",
      "Increase the number of iterations (max_iter) or scale the data as shown in:\n",
      "    https://scikit-learn.org/stable/modules/preprocessing.html\n",
      "Please also refer to the documentation for alternative solver options:\n",
      "    https://scikit-learn.org/stable/modules/linear_model.html#logistic-regression\n",
      "  n_iter_i = _check_optimize_result(\n",
      "/home/parabatareek/venv/venv3.9/lib/python3.9/site-packages/sklearn/linear_model/_logistic.py:814: ConvergenceWarning: lbfgs failed to converge (status=1):\n",
      "STOP: TOTAL NO. of ITERATIONS REACHED LIMIT.\n",
      "\n",
      "Increase the number of iterations (max_iter) or scale the data as shown in:\n",
      "    https://scikit-learn.org/stable/modules/preprocessing.html\n",
      "Please also refer to the documentation for alternative solver options:\n",
      "    https://scikit-learn.org/stable/modules/linear_model.html#logistic-regression\n",
      "  n_iter_i = _check_optimize_result(\n",
      "/home/parabatareek/venv/venv3.9/lib/python3.9/site-packages/sklearn/linear_model/_logistic.py:814: ConvergenceWarning: lbfgs failed to converge (status=1):\n",
      "STOP: TOTAL NO. of ITERATIONS REACHED LIMIT.\n",
      "\n",
      "Increase the number of iterations (max_iter) or scale the data as shown in:\n",
      "    https://scikit-learn.org/stable/modules/preprocessing.html\n",
      "Please also refer to the documentation for alternative solver options:\n",
      "    https://scikit-learn.org/stable/modules/linear_model.html#logistic-regression\n",
      "  n_iter_i = _check_optimize_result(\n",
      "/home/parabatareek/venv/venv3.9/lib/python3.9/site-packages/sklearn/linear_model/_logistic.py:814: ConvergenceWarning: lbfgs failed to converge (status=1):\n",
      "STOP: TOTAL NO. of ITERATIONS REACHED LIMIT.\n",
      "\n",
      "Increase the number of iterations (max_iter) or scale the data as shown in:\n",
      "    https://scikit-learn.org/stable/modules/preprocessing.html\n",
      "Please also refer to the documentation for alternative solver options:\n",
      "    https://scikit-learn.org/stable/modules/linear_model.html#logistic-regression\n",
      "  n_iter_i = _check_optimize_result(\n"
     ]
    },
    {
     "data": {
      "text/plain": "{'C': 10, 'solver': 'liblinear'}"
     },
     "metadata": {},
     "output_type": "display_data"
    }
   ],
   "source": [
    "clf_log_reg = LogisticRegression(random_state=state, class_weight='balanced')\n",
    "\n",
    "grid = get_grid_params_func(clf=clf_log_reg)\n",
    "\n",
    "grid.fit(X=train_tf_idf_bal,\n",
    "         y=target_train)\n",
    "\n",
    "log_reg_params_bal = grid.best_params_\n",
    "display(log_reg_params_bal)"
   ]
  },
  {
   "cell_type": "markdown",
   "metadata": {
    "id": "FTmsxMQYxRhF",
    "pycharm": {
     "name": "#%% md\n"
    }
   },
   "source": [
    "<a id='predict'></a>\n",
    "# Прогноз #"
   ]
  },
  {
   "cell_type": "code",
   "execution_count": 17,
   "metadata": {
    "id": "G6TLPTSaxRhO",
    "pycharm": {
     "name": "#%%\n"
    }
   },
   "outputs": [],
   "source": [
    "result = pd.DataFrame(columns=['Модель', 'F1 score', 'Время работы', 'Тип выборки'])"
   ]
  },
  {
   "cell_type": "markdown",
   "metadata": {
    "pycharm": {
     "name": "#%% md\n"
    }
   },
   "source": [
    "<a id='predict_log_regression_up'></a>\n",
    "## Прогноз модели LogisticRegression для увеличенной выборки ##"
   ]
  },
  {
   "cell_type": "code",
   "execution_count": 18,
   "metadata": {
    "id": "XQ_-7RQDxRhR",
    "pycharm": {
     "name": "#%%\n"
    }
   },
   "outputs": [],
   "source": [
    "clf = LogisticRegression(random_state=state).set_params(**log_reg_params_up)\n",
    "\n",
    "clf.fit(X=train_tf_idf_up,\n",
    "        y=target_train_upsampled)\n",
    "\n",
    "start = time.time()\n",
    "prediction = clf.predict(X=test_tf_idf)\n",
    "end = time.time()\n",
    "\n",
    "score = f1_score(y_true=target_test,\n",
    "                 y_pred=prediction)\n",
    "result = result.append({'Модель':type(clf).__name__,\n",
    "                        'F1 score':score,\n",
    "                        'Время работы': end - start,\n",
    "                        'Тип выборки': 'upsampling'}, ignore_index=True)"
   ]
  },
  {
   "cell_type": "markdown",
   "metadata": {},
   "source": [
    "<a id='predict_log_regression_bal'></a>\n",
    "## Прогноз модели LogisticRegression class_weight='balanced' ##"
   ]
  },
  {
   "cell_type": "code",
   "execution_count": 19,
   "metadata": {
    "pycharm": {
     "name": "#%%\n"
    }
   },
   "outputs": [],
   "source": [
    "clf = LogisticRegression(random_state=state, class_weight='balanced').set_params(**log_reg_params_bal)\n",
    "\n",
    "clf.fit(X=train_tf_idf_bal,\n",
    "        y=target_train)\n",
    "\n",
    "start = time.time()\n",
    "prediction = clf.predict(X=test_tf_idf)\n",
    "end = time.time()\n",
    "\n",
    "score = f1_score(y_true=target_test,\n",
    "                 y_pred=prediction)\n",
    "result = result.append({'Модель':type(clf).__name__,\n",
    "                        'F1 score':score,\n",
    "                        'Время работы': end - start,\n",
    "                        'Тип выборки': 'balanced'}, ignore_index=True)"
   ]
  },
  {
   "cell_type": "code",
   "execution_count": 20,
   "metadata": {
    "id": "Z-Gw2SOqxRhS",
    "pycharm": {
     "name": "#%%\n"
    }
   },
   "outputs": [
    {
     "data": {
      "text/plain": "               Модель  F1 score Время работы Тип выборки\n0  LogisticRegression  0.747355     0.006609  upsampling\n1  LogisticRegression  0.770989      0.00492    balanced",
      "text/html": "<div>\n<style scoped>\n    .dataframe tbody tr th:only-of-type {\n        vertical-align: middle;\n    }\n\n    .dataframe tbody tr th {\n        vertical-align: top;\n    }\n\n    .dataframe thead th {\n        text-align: right;\n    }\n</style>\n<table border=\"1\" class=\"dataframe\">\n  <thead>\n    <tr style=\"text-align: right;\">\n      <th></th>\n      <th>Модель</th>\n      <th>F1 score</th>\n      <th>Время работы</th>\n      <th>Тип выборки</th>\n    </tr>\n  </thead>\n  <tbody>\n    <tr>\n      <th>0</th>\n      <td>LogisticRegression</td>\n      <td>0.747355</td>\n      <td>0.006609</td>\n      <td>upsampling</td>\n    </tr>\n    <tr>\n      <th>1</th>\n      <td>LogisticRegression</td>\n      <td>0.770989</td>\n      <td>0.00492</td>\n      <td>balanced</td>\n    </tr>\n  </tbody>\n</table>\n</div>"
     },
     "metadata": {},
     "output_type": "display_data"
    }
   ],
   "source": [
    "display(result)"
   ]
  },
  {
   "cell_type": "markdown",
   "metadata": {
    "id": "aot8VYcExRhS",
    "pycharm": {
     "name": "#%% md\n"
    }
   },
   "source": [
    "# Вывод #\n",
    "С использованием приема балансировки классов - upsampling удалось добиться заданного значения метрики F1 для всех представленных моделей.\n",
    "Заданное значение метрики f1 >= 0.75 достигнуто для модели логистической регресии, с использованием баллансировщика классов модели.\n",
    "Значение метрики f1 = 0.77.\n",
    "Время формирования прогноза составило 0.003 секунды.\n",
    "\n",
    "Значение метрики f1 на наборе данных подвергнутому upsampling = 0.74.\n",
    "Время формирования прогноза для модели обученной на upsampling  данных составило 0.004 секунды.\n",
    "\n"
   ]
  }
 ],
 "metadata": {
  "accelerator": "GPU",
  "colab": {
   "name": "Project 12.2.ipynb",
   "provenance": []
  },
  "kernelspec": {
   "display_name": "Python 3",
   "language": "python",
   "name": "python3"
  },
  "language_info": {
   "codemirror_mode": {
    "name": "ipython",
    "version": 3
   },
   "file_extension": ".py",
   "mimetype": "text/x-python",
   "name": "python",
   "nbconvert_exporter": "python",
   "pygments_lexer": "ipython3",
   "version": "3.7.8"
  },
  "toc": {
   "base_numbering": 1,
   "nav_menu": {},
   "number_sections": true,
   "sideBar": true,
   "skip_h1_title": true,
   "title_cell": "Table of Contents",
   "title_sidebar": "Contents",
   "toc_cell": false,
   "toc_position": {},
   "toc_section_display": true,
   "toc_window_display": false
  }
 },
 "nbformat": 4,
 "nbformat_minor": 1
}