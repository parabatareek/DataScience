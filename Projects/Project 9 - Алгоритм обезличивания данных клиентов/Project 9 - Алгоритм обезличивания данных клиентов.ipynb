{
 "cells": [
  {
   "cell_type": "markdown",
   "source": [
    "# Содержание #\n",
    "<div>\n",
    "    <ol>\n",
    "        <li>\n",
    "            <a href=\"#import_libs\">Импорт библиотек</a>\n",
    "        </li>\n",
    "        <li>\n",
    "            <a href=\"#data\">Данные</a>\n",
    "        </li>\n",
    "        <ul>\n",
    "            <li>\n",
    "                <a href=\"#data_load\">Загрузка данных</a>\n",
    "            </li>\n",
    "            <li>\n",
    "                <a href=\"#data_view\">Осмотр данных</a>\n",
    "            </li>\n",
    "            <li>\n",
    "                <a href=\"#data_column_rename\">Переименование столбцов</a>\n",
    "            </li>\n",
    "            <li>\n",
    "                <a href=\"#data_features_target\">Выделение features/target наборов</a>\n",
    "            </li>\n",
    "            <li>\n",
    "                <a href=\"#data_features_scaling\">Масштабирование признаков</a>\n",
    "            </li>\n",
    "        </ul>\n",
    "        <li>\n",
    "            <a href=\"#matrix\">Матрицы</a>\n",
    "        </li>\n",
    "        <ul>\n",
    "            <li>\n",
    "                <a href=\"#matrix_dot\">Умножение матриц</a>\n",
    "            </li>\n",
    "        </ul>\n",
    "        <li>\n",
    "            <a href=\"#crypto\">Алгоритм преобразования</a>\n",
    "        </li>\n",
    "        <ul>\n",
    "            <li>\n",
    "                <a href=\"#crypto_function\">Функция защиты данных</a>\n",
    "            </li>\n",
    "        </ul>\n",
    "        <li>\n",
    "            <a href=\"#algorithm\">Проверка алгоритма</a>\n",
    "        </li>\n",
    "        <ul>\n",
    "            <li>\n",
    "                <a href=\"#algorithm_features\">Шифрование учебных/валидационных признаков</a>\n",
    "            </li>\n",
    "            <li>\n",
    "                <a href=\"#algorithm_nocrypt_train_valid\">Выделение учебных/валидационных незашифрованных наборов</a>\n",
    "            </li>\n",
    "            <li>\n",
    "                <a href=\"#algorithm_crypt_train_valid\">Выделение учебных/валидационных зашифрованных наборов</a>\n",
    "            </li>\n",
    "            <li>\n",
    "                <a href=\"#function_algorithm_model\">Функция вычисления R2-score модели</a>\n",
    "            </li>\n",
    "            <li>\n",
    "                <a href=\"#algorithm_nocrypt_score\">Вычисление метрики R2-score для нешифрованных данных</a>\n",
    "            </li>\n",
    "            <li>\n",
    "                <a href=\"#algorithm_crypt_score\">Вычисление метрики R2-score для шифрованных данных</a>\n",
    "            </li>\n",
    "        </ul>\n",
    "        <li>\n",
    "            <a href=\"#output\">Вывод</a>\n",
    "        </li>\n",
    "    </ol>\n",
    "</div>"
   ],
   "metadata": {
    "collapsed": false,
    "pycharm": {
     "name": "#%% md\n"
    }
   }
  },
  {
   "cell_type": "markdown",
   "metadata": {},
   "source": [
    "# Защита персональных данных клиентов"
   ]
  },
  {
   "cell_type": "markdown",
   "metadata": {},
   "source": [
    "<a id='import_libs'></a>\n",
    "# Импорт библиотек #"
   ]
  },
  {
   "cell_type": "code",
   "execution_count": 1,
   "metadata": {
    "pycharm": {
     "name": "#%%\n"
    }
   },
   "outputs": [],
   "source": [
    "import pandas as pd\n",
    "import numpy as np\n",
    "from sklearn.model_selection import train_test_split\n",
    "from sklearn.linear_model import LinearRegression\n",
    "from sklearn.preprocessing import StandardScaler\n",
    "\n",
    "state = np.random.RandomState(2020)"
   ]
  },
  {
   "cell_type": "markdown",
   "metadata": {},
   "source": [
    "<a id='data'></a>\n",
    "# Данные #"
   ]
  },
  {
   "cell_type": "markdown",
   "metadata": {},
   "source": [
    "<a id='data_load'></a>\n",
    "## Загрузка данных ##"
   ]
  },
  {
   "cell_type": "code",
   "execution_count": 2,
   "metadata": {},
   "outputs": [],
   "source": [
    "data = pd.read_csv('datasets/insurance.csv')"
   ]
  },
  {
   "cell_type": "markdown",
   "metadata": {
    "pycharm": {
     "name": "#%% md\n"
    }
   },
   "source": [
    "<a id='data_view'></a>\n",
    "## Осмотр данных ##"
   ]
  },
  {
   "cell_type": "code",
   "execution_count": 3,
   "metadata": {},
   "outputs": [
    {
     "data": {
      "text/plain": [
       "(5000, 5)"
      ]
     },
     "execution_count": 3,
     "metadata": {},
     "output_type": "execute_result"
    }
   ],
   "source": [
    "data.shape"
   ]
  },
  {
   "cell_type": "code",
   "execution_count": 4,
   "metadata": {},
   "outputs": [
    {
     "data": {
      "text/html": [
       "<div>\n",
       "<style scoped>\n",
       "    .dataframe tbody tr th:only-of-type {\n",
       "        vertical-align: middle;\n",
       "    }\n",
       "\n",
       "    .dataframe tbody tr th {\n",
       "        vertical-align: top;\n",
       "    }\n",
       "\n",
       "    .dataframe thead th {\n",
       "        text-align: right;\n",
       "    }\n",
       "</style>\n",
       "<table border=\"1\" class=\"dataframe\">\n",
       "  <thead>\n",
       "    <tr style=\"text-align: right;\">\n",
       "      <th></th>\n",
       "      <th>Пол</th>\n",
       "      <th>Возраст</th>\n",
       "      <th>Зарплата</th>\n",
       "      <th>Члены семьи</th>\n",
       "      <th>Страховые выплаты</th>\n",
       "    </tr>\n",
       "  </thead>\n",
       "  <tbody>\n",
       "    <tr>\n",
       "      <th>count</th>\n",
       "      <td>5000.000000</td>\n",
       "      <td>5000.000000</td>\n",
       "      <td>5000.000000</td>\n",
       "      <td>5000.000000</td>\n",
       "      <td>5000.000000</td>\n",
       "    </tr>\n",
       "    <tr>\n",
       "      <th>mean</th>\n",
       "      <td>0.499000</td>\n",
       "      <td>30.952800</td>\n",
       "      <td>39916.360000</td>\n",
       "      <td>1.194200</td>\n",
       "      <td>0.148000</td>\n",
       "    </tr>\n",
       "    <tr>\n",
       "      <th>std</th>\n",
       "      <td>0.500049</td>\n",
       "      <td>8.440807</td>\n",
       "      <td>9900.083569</td>\n",
       "      <td>1.091387</td>\n",
       "      <td>0.463183</td>\n",
       "    </tr>\n",
       "    <tr>\n",
       "      <th>min</th>\n",
       "      <td>0.000000</td>\n",
       "      <td>18.000000</td>\n",
       "      <td>5300.000000</td>\n",
       "      <td>0.000000</td>\n",
       "      <td>0.000000</td>\n",
       "    </tr>\n",
       "    <tr>\n",
       "      <th>25%</th>\n",
       "      <td>0.000000</td>\n",
       "      <td>24.000000</td>\n",
       "      <td>33300.000000</td>\n",
       "      <td>0.000000</td>\n",
       "      <td>0.000000</td>\n",
       "    </tr>\n",
       "    <tr>\n",
       "      <th>50%</th>\n",
       "      <td>0.000000</td>\n",
       "      <td>30.000000</td>\n",
       "      <td>40200.000000</td>\n",
       "      <td>1.000000</td>\n",
       "      <td>0.000000</td>\n",
       "    </tr>\n",
       "    <tr>\n",
       "      <th>75%</th>\n",
       "      <td>1.000000</td>\n",
       "      <td>37.000000</td>\n",
       "      <td>46600.000000</td>\n",
       "      <td>2.000000</td>\n",
       "      <td>0.000000</td>\n",
       "    </tr>\n",
       "    <tr>\n",
       "      <th>max</th>\n",
       "      <td>1.000000</td>\n",
       "      <td>65.000000</td>\n",
       "      <td>79000.000000</td>\n",
       "      <td>6.000000</td>\n",
       "      <td>5.000000</td>\n",
       "    </tr>\n",
       "  </tbody>\n",
       "</table>\n",
       "</div>"
      ],
      "text/plain": [
       "               Пол      Возраст      Зарплата  Члены семьи  Страховые выплаты\n",
       "count  5000.000000  5000.000000   5000.000000  5000.000000        5000.000000\n",
       "mean      0.499000    30.952800  39916.360000     1.194200           0.148000\n",
       "std       0.500049     8.440807   9900.083569     1.091387           0.463183\n",
       "min       0.000000    18.000000   5300.000000     0.000000           0.000000\n",
       "25%       0.000000    24.000000  33300.000000     0.000000           0.000000\n",
       "50%       0.000000    30.000000  40200.000000     1.000000           0.000000\n",
       "75%       1.000000    37.000000  46600.000000     2.000000           0.000000\n",
       "max       1.000000    65.000000  79000.000000     6.000000           5.000000"
      ]
     },
     "execution_count": 4,
     "metadata": {},
     "output_type": "execute_result"
    }
   ],
   "source": [
    "data.describe()"
   ]
  },
  {
   "cell_type": "code",
   "execution_count": 5,
   "metadata": {},
   "outputs": [],
   "source": [
    "data.info()"
   ]
  },
  {
   "cell_type": "code",
   "execution_count": 6,
   "metadata": {
    "pycharm": {
     "name": "#%%\n"
    }
   },
   "outputs": [
    {
     "data": {
      "text/plain": [
       "Пол                  0\n",
       "Возраст              0\n",
       "Зарплата             0\n",
       "Члены семьи          0\n",
       "Страховые выплаты    0\n",
       "dtype: int64"
      ]
     },
     "execution_count": 6,
     "metadata": {},
     "output_type": "execute_result"
    }
   ],
   "source": [
    "data.isna().sum()"
   ]
  },
  {
   "cell_type": "code",
   "execution_count": 7,
   "metadata": {
    "pycharm": {
     "name": "#%%\n"
    }
   },
   "outputs": [
    {
     "data": {
      "text/plain": [
       "Пол                  2505\n",
       "Возраст                 0\n",
       "Зарплата                0\n",
       "Члены семьи          1513\n",
       "Страховые выплаты    4436\n",
       "dtype: int64"
      ]
     },
     "execution_count": 7,
     "metadata": {},
     "output_type": "execute_result"
    }
   ],
   "source": [
    "data[data==0].count()"
   ]
  },
  {
   "cell_type": "markdown",
   "metadata": {
    "pycharm": {
     "name": "#%% md\n"
    }
   },
   "source": [
    "<a id='data_column_rename'></a>\n",
    "## Переименование столбцов ##"
   ]
  },
  {
   "cell_type": "code",
   "execution_count": 8,
   "metadata": {},
   "outputs": [],
   "source": [
    "data = data.rename(columns={'Пол'               : 'sex',\n",
    "                            'Возраст'           : 'age',\n",
    "                            'Зарплата'          : 'salary',\n",
    "                            'Члены семьи'       : 'family_members',\n",
    "                            'Страховые выплаты' : 'insurance_payments'})\n",
    "data.info()"
   ]
  },
  {
   "cell_type": "markdown",
   "metadata": {
    "pycharm": {
     "name": "#%% md\n"
    }
   },
   "source": [
    "<a id='data_features_target'></a>\n",
    "## Выделение features/target наборов ##"
   ]
  },
  {
   "cell_type": "code",
   "execution_count": 9,
   "metadata": {
    "pycharm": {
     "name": "#%%\n"
    }
   },
   "outputs": [],
   "source": [
    "features = data.drop(columns='insurance_payments')\n",
    "target = data['insurance_payments']"
   ]
  },
  {
   "cell_type": "markdown",
   "metadata": {
    "pycharm": {
     "name": "#%% md\n"
    }
   },
   "source": [
    "<a id='data_features_scaling'></a>\n",
    "## Масштабирование признаков ##"
   ]
  },
  {
   "cell_type": "code",
   "execution_count": 10,
   "metadata": {
    "pycharm": {
     "name": "#%%\n"
    }
   },
   "outputs": [],
   "source": [
    "scaler = StandardScaler()\n",
    "scaler.fit(features)\n",
    "scale_features = scaler.transform(features)"
   ]
  },
  {
   "cell_type": "markdown",
   "metadata": {},
   "source": [
    "<a id='data_output'></a>\n",
    "## Вывод ##\n",
    "1. размер таблицы: 5000 строк Х 5 столбцов\n",
    "2. столбцы переименованы\n",
    "3. пропущенные значения отсутствуют\n",
    "4. в столбцах data.age, data.salary значения = 0 отсутствуют\n",
    "5. созданы тренировочные/валидационные наборы данных\n",
    "6. проведено масштабирование признаков"
   ]
  },
  {
   "cell_type": "markdown",
   "metadata": {
    "pycharm": {
     "name": "#%% md\n"
    }
   },
   "source": [
    "<a id='matrix'></a>\n",
    "# Матрицы #"
   ]
  },
  {
   "cell_type": "markdown",
   "metadata": {},
   "source": [
    "<a id='matrix_dot'></a>\n",
    "## Умножение матриц ##"
   ]
  },
  {
   "cell_type": "markdown",
   "metadata": {},
   "source": [
    "Обозначения:\n",
    "\n",
    "- $X$ — матрица признаков (нулевой столбец состоит из единиц)\n",
    "\n",
    "- $y$ — вектор целевого признака\n",
    "\n",
    "- $P$ — матрица, на которую умножаются признаки\n",
    "\n",
    "- $w$ — вектор весов линейной регрессии (нулевой элемент равен сдвигу)"
   ]
  },
  {
   "cell_type": "markdown",
   "metadata": {},
   "source": [
    "Предсказания:\n",
    "\n",
    "$$\n",
    "a = Xw\n",
    "$$\n",
    "\n",
    "Задача обучения:\n",
    "\n",
    "$$\n",
    "w = \\arg\\min_w MSE(Xw, y)\n",
    "$$\n",
    "\n",
    "Формула обучения:\n",
    "\n",
    "$$\n",
    "w = (X^T X)^{-1} X^T y\n",
    "$$"
   ]
  },
  {
   "cell_type": "markdown",
   "metadata": {},
   "source": [
    "<a id='crypto'></a>\n",
    "# Алгоритм преобразования #"
   ]
  },
  {
   "cell_type": "markdown",
   "metadata": {},
   "source": [
    "**Алгоритм**\n",
    "1. для матрицы признаков F сгенерировать случайную обратимую матрицу P\n",
    "2. умножить матрицу F на матрицу P\n",
    "3. :) PROFIT :)\n",
    "\n",
    "**Обоснование:**\n",
    "1. $ a_p = XP (X^T P^T X P){-1} X^T P^T y $\n",
    "2. $ a_p = XP P^{-1}(X^T X)^{-1} X^T P^T (P^T)^{-1} y $\n",
    "3. $ a_p = X E (X^T X)^{-1} X^T E y $\n",
    "4. $ a_p = X (X^T X)^{-1} X^T y $\n",
    "5. $ a = X (X^T X)^{-1} X^T y $\n",
    "6. $ a = a_p$"
   ]
  },
  {
   "cell_type": "markdown",
   "metadata": {
    "pycharm": {
     "name": "#%% md\n"
    }
   },
   "source": [
    "<a id='crypto_function'></a>\n",
    "## Функция защиты данных ##"
   ]
  },
  {
   "cell_type": "code",
   "execution_count": 11,
   "metadata": {
    "pycharm": {
     "name": "#%%\n"
    }
   },
   "outputs": [],
   "source": [
    "def crypto_matrix(features_for_crypt):\n",
    "    try:\n",
    "        crypt_key = np.array(np.random.normal(size=(features_for_crypt.shape[1], features_for_crypt.shape[1])))\n",
    "        np.linalg.inv(crypt_key)\n",
    "        return np.array(features_for_crypt).dot(crypt_key), crypt_key\n",
    "    except np.linalg.LinAlgError: crypto_matrix(features_for_crypt=features_for_crypt)"
   ]
  },
  {
   "cell_type": "markdown",
   "metadata": {},
   "source": [
    "<a id='algorithm'></a>\n",
    "# Проверка алгоритма #"
   ]
  },
  {
   "cell_type": "markdown",
   "metadata": {},
   "source": [
    "<a id='algorithm_features'></a>\n",
    "## Шифрование учебных/валидационных признаков ##"
   ]
  },
  {
   "cell_type": "code",
   "execution_count": 12,
   "metadata": {
    "pycharm": {
     "name": "#%%\n"
    }
   },
   "outputs": [
    {
     "data": {
      "text/plain": [
       "array([[ 1.002002  ,  1.19043179,  0.97823503, -0.17795659],\n",
       "       [-0.998002  ,  1.78285146, -0.19358944, -0.17795659],\n",
       "       [-0.998002  , -0.23137543, -1.91091841, -1.09431388],\n",
       "       ...,\n",
       "       [-0.998002  , -1.29773084, -0.60776878,  0.7384007 ],\n",
       "       [ 1.002002  , -1.06076297, -0.728992  ,  1.654758  ],\n",
       "       [ 1.002002  , -0.34985936,  0.06906087, -0.17795659]])"
      ]
     },
     "execution_count": 12,
     "metadata": {},
     "output_type": "execute_result"
    }
   ],
   "source": [
    "features_crypt, crypt_key = crypto_matrix(features_for_crypt=scale_features)\n",
    "print(f'Размер зашифрованных признаков: {features_crypt.shape}')\n",
    "scale_features"
   ]
  },
  {
   "cell_type": "markdown",
   "metadata": {},
   "source": [
    "<a id='algorithm_nocrypt_train_valid'></a>\n",
    "## Выделение учебных/валидационных незашифрованных наборов ##"
   ]
  },
  {
   "cell_type": "code",
   "execution_count": 13,
   "metadata": {
    "pycharm": {
     "name": "#%%\n"
    }
   },
   "outputs": [],
   "source": [
    "features_train, features_valid, target_train, target_valid = train_test_split(scale_features,\n",
    "                                                                              target,\n",
    "                                                                              test_size=0.3,\n",
    "                                                                              random_state=2020,\n",
    "                                                                              shuffle=True)\n",
    "print(f'Размер нешифрованных тренировочных признаков:{features_train.shape}')\n",
    "print(f'Размер тренировочных ответов:{target_train.shape}')\n",
    "print(f'Размер нешифрованных валидационных признаков:{features_valid.shape}')\n",
    "print(f'Размер валидационных ответов:{target_valid.shape}')"
   ]
  },
  {
   "cell_type": "markdown",
   "metadata": {
    "pycharm": {
     "name": "#%% md\n"
    }
   },
   "source": [
    "<a id='algorithm_crypt_train_valid'></a>\n",
    "## Выделение учебных/валидационных зашифрованных наборов ##"
   ]
  },
  {
   "cell_type": "code",
   "execution_count": 14,
   "metadata": {
    "pycharm": {
     "name": "#%%\n"
    }
   },
   "outputs": [],
   "source": [
    "crypt_features_train, crypt_features_valid, target_train, target_valid = train_test_split(features_crypt,\n",
    "                                                                                          target,\n",
    "                                                                                          test_size=0.3,\n",
    "                                                                                          random_state=2020,\n",
    "                                                                                          shuffle=True)\n",
    "print(f'Размер шифрованных тренировочных признаков:{crypt_features_train.shape}')\n",
    "print(f'Размер тренировочных ответов:{target_train.shape}')\n",
    "print(f'Размер шифрованных валидационных признаков:{crypt_features_valid.shape}')\n",
    "print(f'Размер валидационных ответов:{target_valid.shape}')"
   ]
  },
  {
   "cell_type": "markdown",
   "metadata": {
    "pycharm": {
     "name": "#%% md\n"
    }
   },
   "source": [
    "<a id='function_algorithm_model'></a>\n",
    "## Функция вычисления R2-score модели ##"
   ]
  },
  {
   "cell_type": "code",
   "execution_count": 15,
   "metadata": {
    "pycharm": {
     "name": "#%%\n"
    }
   },
   "outputs": [],
   "source": [
    "def model_score(features_train, target_train, features_valid, target_valid):\n",
    "    clf = LinearRegression()\n",
    "    clf.fit(X=features_train,\n",
    "            y=target_train)\n",
    "    return clf.score(X=features_valid,\n",
    "                     y=target_valid)"
   ]
  },
  {
   "cell_type": "markdown",
   "metadata": {
    "pycharm": {
     "name": "#%% md\n"
    }
   },
   "source": [
    "<a id='algorithm_nocrypt_score'></a>\n",
    "## Вычисление метрики R2-score для нешифрованных данных ##"
   ]
  },
  {
   "cell_type": "code",
   "execution_count": 16,
   "metadata": {
    "pycharm": {
     "name": "#%%\n"
    }
   },
   "outputs": [
    {
     "data": {
      "text/html": [
       "<div>\n",
       "<style scoped>\n",
       "    .dataframe tbody tr th:only-of-type {\n",
       "        vertical-align: middle;\n",
       "    }\n",
       "\n",
       "    .dataframe tbody tr th {\n",
       "        vertical-align: top;\n",
       "    }\n",
       "\n",
       "    .dataframe thead th {\n",
       "        text-align: right;\n",
       "    }\n",
       "</style>\n",
       "<table border=\"1\" class=\"dataframe\">\n",
       "  <thead>\n",
       "    <tr style=\"text-align: right;\">\n",
       "      <th></th>\n",
       "      <th>Тип данных</th>\n",
       "      <th>R2-score</th>\n",
       "    </tr>\n",
       "  </thead>\n",
       "  <tbody>\n",
       "    <tr>\n",
       "      <th>0</th>\n",
       "      <td>нешифрованные данные</td>\n",
       "      <td>0.426965</td>\n",
       "    </tr>\n",
       "  </tbody>\n",
       "</table>\n",
       "</div>"
      ],
      "text/plain": [
       "             Тип данных  R2-score\n",
       "0  нешифрованные данные  0.426965"
      ]
     },
     "execution_count": 16,
     "metadata": {},
     "output_type": "execute_result"
    }
   ],
   "source": [
    "nocrypt_score = model_score(features_train=features_train,\n",
    "                            target_train=target_train,\n",
    "                            features_valid=features_valid,\n",
    "                            target_valid=target_valid)\n",
    "\n",
    "df_algorithm_result = pd.DataFrame({'Тип данных' : 'нешифрованные данные',\n",
    "                                    'R2-score'   : nocrypt_score}, index=[0])\n",
    "df_algorithm_result"
   ]
  },
  {
   "cell_type": "markdown",
   "metadata": {
    "pycharm": {
     "name": "#%% md\n"
    }
   },
   "source": [
    "<a id='algorithm_crypt_score'></a>\n",
    "## Вычисление метрики R2-score для шифрованных данных ##"
   ]
  },
  {
   "cell_type": "code",
   "execution_count": 17,
   "metadata": {
    "pycharm": {
     "name": "#%%\n"
    }
   },
   "outputs": [
    {
     "data": {
      "text/html": [
       "<div>\n",
       "<style scoped>\n",
       "    .dataframe tbody tr th:only-of-type {\n",
       "        vertical-align: middle;\n",
       "    }\n",
       "\n",
       "    .dataframe tbody tr th {\n",
       "        vertical-align: top;\n",
       "    }\n",
       "\n",
       "    .dataframe thead th {\n",
       "        text-align: right;\n",
       "    }\n",
       "</style>\n",
       "<table border=\"1\" class=\"dataframe\">\n",
       "  <thead>\n",
       "    <tr style=\"text-align: right;\">\n",
       "      <th></th>\n",
       "      <th>Тип данных</th>\n",
       "      <th>R2-score</th>\n",
       "    </tr>\n",
       "  </thead>\n",
       "  <tbody>\n",
       "    <tr>\n",
       "      <th>0</th>\n",
       "      <td>нешифрованные данные</td>\n",
       "      <td>0.426965</td>\n",
       "    </tr>\n",
       "    <tr>\n",
       "      <th>1</th>\n",
       "      <td>шифрованные данные</td>\n",
       "      <td>0.426965</td>\n",
       "    </tr>\n",
       "  </tbody>\n",
       "</table>\n",
       "</div>"
      ],
      "text/plain": [
       "             Тип данных  R2-score\n",
       "0  нешифрованные данные  0.426965\n",
       "1    шифрованные данные  0.426965"
      ]
     },
     "execution_count": 17,
     "metadata": {},
     "output_type": "execute_result"
    }
   ],
   "source": [
    "crypt_score = model_score(features_train=crypt_features_train,\n",
    "                          target_train=target_train,\n",
    "                          features_valid=crypt_features_valid,\n",
    "                          target_valid=target_valid)\n",
    "\n",
    "df_algorithm_result = df_algorithm_result.append({'Тип данных' : 'шифрованные данные',\n",
    "                                                  'R2-score'   : crypt_score}, ignore_index=True).reset_index(drop=True)\n",
    "df_algorithm_result"
   ]
  },
  {
   "cell_type": "markdown",
   "metadata": {
    "pycharm": {
     "name": "#%% md\n"
    }
   },
   "source": [
    "<a id='output'></a>\n",
    "# Вывод #\n",
    "R2-score на шифрованных и нефрованных данных совпадают."
   ]
  }
 ],
 "metadata": {
  "ExecuteTimeLog": [
   {
    "duration": 1299,
    "start_time": "2021-08-20T12:29:48.081Z"
   },
   {
    "duration": 18,
    "start_time": "2021-08-20T12:31:28.622Z"
   },
   {
    "duration": 385,
    "start_time": "2021-08-20T12:31:43.153Z"
   },
   {
    "duration": 13,
    "start_time": "2021-08-20T12:31:47.813Z"
   },
   {
    "duration": 36,
    "start_time": "2021-08-20T12:32:04.657Z"
   },
   {
    "duration": 10,
    "start_time": "2021-08-20T12:32:20.084Z"
   },
   {
    "duration": 17,
    "start_time": "2021-08-20T12:32:38.297Z"
   },
   {
    "duration": 1095,
    "start_time": "2021-08-23T16:33:44.275Z"
   },
   {
    "duration": 275,
    "start_time": "2021-08-23T16:33:45.371Z"
   },
   {
    "duration": 10,
    "start_time": "2021-08-23T16:33:45.648Z"
   },
   {
    "duration": 32,
    "start_time": "2021-08-23T16:33:45.659Z"
   },
   {
    "duration": 6,
    "start_time": "2021-08-23T16:33:45.693Z"
   },
   {
    "duration": 6,
    "start_time": "2021-08-23T16:33:45.701Z"
   },
   {
    "duration": 12,
    "start_time": "2021-08-23T16:33:45.709Z"
   },
   {
    "duration": 7,
    "start_time": "2021-08-23T16:33:45.723Z"
   },
   {
    "duration": 10,
    "start_time": "2021-08-23T16:33:45.732Z"
   },
   {
    "duration": 9,
    "start_time": "2021-08-23T16:33:45.744Z"
   },
   {
    "duration": 7,
    "start_time": "2021-08-23T16:33:45.755Z"
   },
   {
    "duration": 31,
    "start_time": "2021-08-23T16:33:45.763Z"
   },
   {
    "duration": 6,
    "start_time": "2021-08-23T16:33:45.795Z"
   },
   {
    "duration": 89,
    "start_time": "2021-08-23T16:33:45.802Z"
   },
   {
    "duration": 4,
    "start_time": "2021-08-23T16:33:45.893Z"
   },
   {
    "duration": 16,
    "start_time": "2021-08-23T16:33:45.899Z"
   },
   {
    "duration": 14,
    "start_time": "2021-08-23T16:33:45.917Z"
   },
   {
    "duration": 3,
    "start_time": "2021-08-23T16:51:15.953Z"
   },
   {
    "duration": 294,
    "start_time": "2021-08-23T16:51:15.958Z"
   },
   {
    "duration": 3,
    "start_time": "2021-08-23T16:51:16.254Z"
   },
   {
    "duration": 27,
    "start_time": "2021-08-23T16:51:16.259Z"
   },
   {
    "duration": 5,
    "start_time": "2021-08-23T16:51:16.288Z"
   },
   {
    "duration": 11,
    "start_time": "2021-08-23T16:51:16.295Z"
   },
   {
    "duration": 11,
    "start_time": "2021-08-23T16:51:16.308Z"
   },
   {
    "duration": 7,
    "start_time": "2021-08-23T16:51:16.321Z"
   },
   {
    "duration": 6,
    "start_time": "2021-08-23T16:51:16.330Z"
   },
   {
    "duration": 12,
    "start_time": "2021-08-23T16:51:16.337Z"
   },
   {
    "duration": 10,
    "start_time": "2021-08-23T16:51:16.350Z"
   },
   {
    "duration": 30,
    "start_time": "2021-08-23T16:51:16.362Z"
   },
   {
    "duration": 6,
    "start_time": "2021-08-23T16:51:16.394Z"
   },
   {
    "duration": 7,
    "start_time": "2021-08-23T16:51:16.402Z"
   },
   {
    "duration": 82,
    "start_time": "2021-08-23T16:51:16.411Z"
   },
   {
    "duration": 15,
    "start_time": "2021-08-23T16:51:16.495Z"
   },
   {
    "duration": 11,
    "start_time": "2021-08-23T16:51:16.511Z"
   },
   {
    "duration": 1065,
    "start_time": "2021-08-23T16:51:36.746Z"
   },
   {
    "duration": 452,
    "start_time": "2021-08-23T16:51:37.813Z"
   },
   {
    "duration": 9,
    "start_time": "2021-08-23T16:51:38.267Z"
   },
   {
    "duration": 26,
    "start_time": "2021-08-23T16:51:38.278Z"
   },
   {
    "duration": 7,
    "start_time": "2021-08-23T16:51:38.306Z"
   },
   {
    "duration": 9,
    "start_time": "2021-08-23T16:51:38.314Z"
   },
   {
    "duration": 17,
    "start_time": "2021-08-23T16:51:38.325Z"
   },
   {
    "duration": 7,
    "start_time": "2021-08-23T16:51:38.344Z"
   },
   {
    "duration": 4,
    "start_time": "2021-08-23T16:51:38.353Z"
   },
   {
    "duration": 6,
    "start_time": "2021-08-23T16:51:38.359Z"
   },
   {
    "duration": 28,
    "start_time": "2021-08-23T16:51:38.366Z"
   },
   {
    "duration": 15,
    "start_time": "2021-08-23T16:51:38.396Z"
   },
   {
    "duration": 83,
    "start_time": "2021-08-23T16:51:38.413Z"
   },
   {
    "duration": 8,
    "start_time": "2021-08-23T16:51:38.498Z"
   },
   {
    "duration": 84,
    "start_time": "2021-08-23T16:51:38.508Z"
   },
   {
    "duration": 21,
    "start_time": "2021-08-23T16:51:38.593Z"
   },
   {
    "duration": 14,
    "start_time": "2021-08-23T16:51:38.616Z"
   },
   {
    "duration": 5,
    "start_time": "2021-08-23T16:51:54.091Z"
   },
   {
    "duration": 4,
    "start_time": "2021-08-23T16:52:06.921Z"
   },
   {
    "duration": 6,
    "start_time": "2021-08-23T16:52:49.389Z"
   },
   {
    "duration": 6,
    "start_time": "2021-08-23T16:53:54.101Z"
   },
   {
    "duration": 8,
    "start_time": "2021-08-23T16:54:13.542Z"
   },
   {
    "duration": 12,
    "start_time": "2021-08-23T16:55:55.070Z"
   },
   {
    "duration": 12,
    "start_time": "2021-08-23T16:58:16.373Z"
   },
   {
    "duration": 12,
    "start_time": "2021-08-23T16:58:22.478Z"
   },
   {
    "duration": 4,
    "start_time": "2021-08-23T17:01:47.227Z"
   },
   {
    "duration": 4,
    "start_time": "2021-08-23T17:01:52.730Z"
   },
   {
    "duration": 12,
    "start_time": "2021-08-23T17:02:49.550Z"
   },
   {
    "duration": 12,
    "start_time": "2021-08-23T17:02:51.860Z"
   },
   {
    "duration": 11,
    "start_time": "2021-08-23T17:02:54.433Z"
   },
   {
    "duration": 11,
    "start_time": "2021-08-23T17:02:57.227Z"
   },
   {
    "duration": 12,
    "start_time": "2021-08-23T17:06:48.458Z"
   },
   {
    "duration": 5,
    "start_time": "2021-08-23T17:07:30.934Z"
   },
   {
    "duration": 5,
    "start_time": "2021-08-23T17:07:33.251Z"
   },
   {
    "duration": 3,
    "start_time": "2021-08-23T17:07:43.735Z"
   },
   {
    "duration": 9,
    "start_time": "2021-08-23T17:07:44.645Z"
   },
   {
    "duration": 5,
    "start_time": "2021-08-23T17:08:11.655Z"
   },
   {
    "duration": 5,
    "start_time": "2021-08-23T17:08:17.036Z"
   },
   {
    "duration": 10,
    "start_time": "2021-08-23T17:08:21.029Z"
   },
   {
    "duration": 10,
    "start_time": "2021-08-23T17:08:24.499Z"
   },
   {
    "duration": 6,
    "start_time": "2021-08-23T17:08:56.498Z"
   },
   {
    "duration": 9,
    "start_time": "2021-08-23T17:09:01.414Z"
   },
   {
    "duration": 6,
    "start_time": "2021-08-23T17:09:09.074Z"
   },
   {
    "duration": 5,
    "start_time": "2021-08-23T17:09:09.943Z"
   },
   {
    "duration": 3,
    "start_time": "2021-08-23T17:09:10.841Z"
   },
   {
    "duration": 9,
    "start_time": "2021-08-23T17:09:11.772Z"
   },
   {
    "duration": 10,
    "start_time": "2021-08-23T17:09:16.297Z"
   },
   {
    "duration": 6,
    "start_time": "2021-08-23T17:09:25.101Z"
   },
   {
    "duration": 6,
    "start_time": "2021-08-23T17:09:26.062Z"
   },
   {
    "duration": 3,
    "start_time": "2021-08-23T17:09:27.463Z"
   },
   {
    "duration": 9,
    "start_time": "2021-08-23T17:09:28.199Z"
   },
   {
    "duration": 11,
    "start_time": "2021-08-23T17:09:29.382Z"
   },
   {
    "duration": 11,
    "start_time": "2021-08-23T17:09:30.486Z"
   },
   {
    "duration": 1112,
    "start_time": "2021-08-23T17:10:04.128Z"
   },
   {
    "duration": 233,
    "start_time": "2021-08-23T17:10:05.241Z"
   },
   {
    "duration": 7,
    "start_time": "2021-08-23T17:10:05.478Z"
   },
   {
    "duration": 24,
    "start_time": "2021-08-23T17:10:05.487Z"
   },
   {
    "duration": 5,
    "start_time": "2021-08-23T17:10:05.512Z"
   },
   {
    "duration": 7,
    "start_time": "2021-08-23T17:10:05.519Z"
   },
   {
    "duration": 9,
    "start_time": "2021-08-23T17:10:05.528Z"
   },
   {
    "duration": 7,
    "start_time": "2021-08-23T17:10:05.539Z"
   },
   {
    "duration": 10,
    "start_time": "2021-08-23T17:10:05.547Z"
   },
   {
    "duration": 15,
    "start_time": "2021-08-23T17:10:05.558Z"
   },
   {
    "duration": 6,
    "start_time": "2021-08-23T17:10:05.574Z"
   },
   {
    "duration": 6,
    "start_time": "2021-08-23T17:10:05.591Z"
   },
   {
    "duration": 12,
    "start_time": "2021-08-23T17:10:05.599Z"
   },
   {
    "duration": 85,
    "start_time": "2021-08-23T17:10:05.613Z"
   },
   {
    "duration": 8,
    "start_time": "2021-08-23T17:10:05.700Z"
   },
   {
    "duration": 91,
    "start_time": "2021-08-23T17:10:05.710Z"
   },
   {
    "duration": 12,
    "start_time": "2021-08-23T17:10:05.802Z"
   },
   {
    "duration": 10,
    "start_time": "2021-08-23T17:10:05.815Z"
   },
   {
    "duration": 6,
    "start_time": "2021-08-23T17:13:24.846Z"
   },
   {
    "duration": 5,
    "start_time": "2021-08-23T17:13:25.838Z"
   },
   {
    "duration": 3,
    "start_time": "2021-08-23T17:13:27.643Z"
   },
   {
    "duration": 9,
    "start_time": "2021-08-23T17:13:28.417Z"
   },
   {
    "duration": 11,
    "start_time": "2021-08-23T17:13:29.870Z"
   },
   {
    "duration": 6,
    "start_time": "2021-08-23T17:13:37.846Z"
   },
   {
    "duration": 6,
    "start_time": "2021-08-23T17:13:38.463Z"
   },
   {
    "duration": 3,
    "start_time": "2021-08-23T17:13:39.367Z"
   },
   {
    "duration": 10,
    "start_time": "2021-08-23T17:13:40.028Z"
   },
   {
    "duration": 10,
    "start_time": "2021-08-23T17:13:41.340Z"
   },
   {
    "duration": 6,
    "start_time": "2021-08-23T17:13:49.737Z"
   },
   {
    "duration": 6,
    "start_time": "2021-08-23T17:13:50.392Z"
   },
   {
    "duration": 3,
    "start_time": "2021-08-23T17:13:51.162Z"
   },
   {
    "duration": 10,
    "start_time": "2021-08-23T17:13:51.661Z"
   },
   {
    "duration": 10,
    "start_time": "2021-08-23T17:13:52.739Z"
   }
  ],
  "interpreter": {
   "hash": "ff01b781b2ab2e35e2128aaafdf2fe38b8de3c94969bd26324c7ec7f3afe6551"
  },
  "kernelspec": {
   "name": "pycharm-a932f888",
   "language": "python",
   "display_name": "PyCharm (DataSince_conda_3)"
  },
  "language_info": {
   "codemirror_mode": {
    "name": "ipython",
    "version": 3
   },
   "file_extension": ".py",
   "mimetype": "text/x-python",
   "name": "python",
   "nbconvert_exporter": "python",
   "pygments_lexer": "ipython3",
   "version": "3.7.8"
  },
  "toc": {
   "base_numbering": 1,
   "nav_menu": {},
   "number_sections": true,
   "sideBar": true,
   "skip_h1_title": true,
   "title_cell": "Содержание",
   "title_sidebar": "Contents",
   "toc_cell": true,
   "toc_position": {},
   "toc_section_display": true,
   "toc_window_display": false
  }
 },
 "nbformat": 4,
 "nbformat_minor": 2
}